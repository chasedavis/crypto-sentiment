{
 "cells": [
  {
   "cell_type": "markdown",
   "metadata": {},
   "source": [
    "### Neural Net with TensorFlow"
   ]
  },
  {
   "cell_type": "code",
   "execution_count": null,
   "metadata": {
    "collapsed": true
   },
   "outputs": [],
   "source": [
    "# Install tensorflow and protobuf -- run once!\n",
    "# anaconda install instructions: https://www.tensorflow.org/install/install_mac\n",
    "\n",
    "# # For chase's macbook, the following shell commands worked (take out ! if in terminal)\n",
    "# !conda create -n tensorflow python=2.7\n",
    "# !source activate tensorflow\n",
    "# !pip install --ignore-installed --upgrade https://storage.googleapis.com/tensorflow/mac/cpu/tensorflow-1.4.0-py2-none-any.whl\n",
    "\n",
    "# Remember to activate container when you want to use package"
   ]
  },
  {
   "cell_type": "code",
   "execution_count": 105,
   "metadata": {},
   "outputs": [
    {
     "name": "stdout",
     "output_type": "stream",
     "text": [
      "\r\n",
      "CondaEnvironmentNotFoundError: Could not find environment: tensorflow .\r\n",
      "You can list all discoverable environments with `conda info --envs`.\r\n",
      "\r\n"
     ]
    }
   ],
   "source": [
    "!source activate tensorflow\n",
    "import tensorflow as tf\n",
    "from tensorflow.python.framework import ops\n",
    "import numpy as np\n"
   ]
  },
  {
   "cell_type": "code",
   "execution_count": 76,
   "metadata": {
    "scrolled": true
   },
   "outputs": [
    {
     "name": "stdout",
     "output_type": "stream",
     "text": [
      "  prev_price next_price   pos    neg    neu compound\n",
      "0     307.15     307.26  0.31      0   0.69   0.7424\n",
      "1        463     467.29     0  0.209  0.791  -0.7003\n",
      "2     465.01     461.57     0  0.253  0.747  -0.1759\n",
      "3     464.53     465.01     0      0      1        0\n",
      "4        462        465     0      0      1        0\n"
     ]
    }
   ],
   "source": [
    "# Import Dataset Pickle\n",
    "import pickle\n",
    "import pandas as pd\n",
    "dfNN_raw = pickle.load(open('NN_pickles.p', 'rb'))\n",
    "print dfNN_raw.head(5)\n",
    "# pd.options.display.max_rows = len(dfNN_raw)\n",
    "# dfNN_raw.head(len(dfNN_raw))\n"
   ]
  },
  {
   "cell_type": "code",
   "execution_count": 1,
   "metadata": {},
   "outputs": [
    {
     "name": "stdout",
     "output_type": "stream",
     "text": [
      "Hello, TensorFlow!\n"
     ]
    }
   ],
   "source": [
    "# Python\n",
    "# import tensorflow as tf\n",
    "# hello = tf.constant('Hello, TensorFlow!')\n",
    "# sess = tf.Session()\n",
    "# print(sess.run(hello))"
   ]
  },
  {
   "cell_type": "code",
   "execution_count": 91,
   "metadata": {},
   "outputs": [
    {
     "name": "stdout",
     "output_type": "stream",
     "text": [
      "  prev_price next_price       pos       neg       neu   compound\n",
      "0  -0.205992   0.468625   0.30568 -0.041533 -0.237517   0.342107\n",
      "1   0.468625   0.477325 -0.110987  0.214909  -0.11359   -0.46241\n",
      "2   0.477325   0.475247 -0.110987  0.268896 -0.167578   -0.16998\n",
      "3   0.475247   0.464296 -0.110987 -0.041533  0.142851 -0.0718898\n",
      "4   0.464296   0.477325 -0.110987 -0.041533  0.142851 -0.0718898\n"
     ]
    }
   ],
   "source": [
    "ddNN = (dfNN_raw - dfNN_raw.mean()) / (dfNN_raw.max() - dfNN_raw.min())\n",
    "ddNN.reset_index(inplace=True)\n",
    "del ddNN['index']\n",
    "ddNN['next_price'] = ddNN['prev_price'].shift(-1)\n",
    "ddNN.head(5)\n",
    "print ddNN.head(5)"
   ]
  },
  {
   "cell_type": "code",
   "execution_count": 92,
   "metadata": {},
   "outputs": [
    {
     "name": "stdout",
     "output_type": "stream",
     "text": [
      "The total series length is: 6437\n",
      "The current configuration gives us 2145 batches of 1 observations each one looking 3 steps in the past\n"
     ]
    }
   ],
   "source": [
    "# Taking straight from LSTM Stock Model\n",
    "num_epochs = 1000\n",
    "\n",
    "batch_size = 1\n",
    "\n",
    "total_series_length = len(dfNN.index)\n",
    "\n",
    "truncated_backprop_length = 3 #The size of the sequence\n",
    "\n",
    "state_size = 12 #The number of neurons\n",
    "\n",
    "num_features = 4\n",
    "num_classes = 1 #[1,0]\n",
    "\n",
    "num_batches = total_series_length//batch_size//truncated_backprop_length\n",
    "\n",
    "min_test_size = 100\n",
    "\n",
    "print('The total series length is: %d' %total_series_length)\n",
    "print('The current configuration gives us %d batches of %d observations each one looking %d steps in the past' \n",
    "      %(num_batches,batch_size,truncated_backprop_length))"
   ]
  },
  {
   "cell_type": "code",
   "execution_count": 93,
   "metadata": {
    "collapsed": true
   },
   "outputs": [],
   "source": [
    "# Split Training-Test\n",
    "dfTrain = dfNN[dfNN.index < num_batches*batch_size*truncated_backprop_length]\n",
    "\n",
    "\n",
    "for i in range(min_test_size,len(dfNN.index)):\n",
    "    \n",
    "    if(i % truncated_backprop_length*batch_size == 0):\n",
    "        test_first_idx = len(dfNN.index)-i\n",
    "        break\n",
    "\n",
    "dfTest =  dfNN[dfNN.index >= test_first_idx]"
   ]
  },
  {
   "cell_type": "code",
   "execution_count": 94,
   "metadata": {},
   "outputs": [],
   "source": [
    "xTrain = dfTrain[['prev_price','neu','neg','pos']].as_matrix()[::-1]\n",
    "yTrain = dfTrain['next_price'].as_matrix()[::-1]"
   ]
  },
  {
   "cell_type": "code",
   "execution_count": 95,
   "metadata": {},
   "outputs": [
    {
     "data": {
      "text/plain": [
       "(6435, 4)"
      ]
     },
     "execution_count": 95,
     "metadata": {},
     "output_type": "execute_result"
    }
   ],
   "source": [
    "xTrain.shape\n"
   ]
  },
  {
   "cell_type": "code",
   "execution_count": 96,
   "metadata": {},
   "outputs": [],
   "source": [
    "xTest = dfTest[['prev_price','neu','neg','pos']].as_matrix()\n",
    "yTest = dfTest['next_price'].as_matrix()"
   ]
  },
  {
   "cell_type": "code",
   "execution_count": 97,
   "metadata": {},
   "outputs": [
    {
     "data": {
      "text/plain": [
       "(102,)"
      ]
     },
     "execution_count": 97,
     "metadata": {},
     "output_type": "execute_result"
    }
   ],
   "source": [
    "yTest.shape\n"
   ]
  },
  {
   "cell_type": "code",
   "execution_count": 98,
   "metadata": {},
   "outputs": [
    {
     "data": {
      "image/png": "[encoded data removed]",
      "text/plain": [
       "<matplotlib.figure.Figure at 0x126fb49d0>"
      ]
     },
     "metadata": {},
     "output_type": "display_data"
    }
   ],
   "source": [
    "import matplotlib.pyplot as plt\n",
    "import matplotlib.dates as mdates\n",
    "\n",
    "fig,ax = plt.subplots(2,1, figsize = (10,5))\n",
    "ax[0].plot(xTrain[:,0])\n",
    "ax[0].set_title('Train (' +str(len(xTrain))+' data points)')\n",
    "ax[0].set_xlabel('Date')\n",
    "ax[0].xaxis.set_major_locator(mdates.MonthLocator())\n",
    "ax[0].xaxis.set_major_formatter(mdates.DateFormatter('%m.%d.%y'))\n",
    "\n",
    "ax[1].plot(xTest[:,0])\n",
    "ax[1].set_title('Test (' +str(len(xTest))+' data points)')\n",
    "\n",
    "# plt.figure(figsize=(25,5))\n",
    "# plt.plot(xTrain[:,0])\n",
    "# plt.title('Train (' +str(len(xTrain))+' data points)')\n",
    "# plt.xaxis.set_major_locator(mdates.MonthLocator())\n",
    "# plt.xaxis.set_major_formatter(mdates.DateFormatter('%m.%d.%y'))\n",
    "\n",
    "plt.show()\n",
    "\n",
    "# plt.figure(figsize=(10,3))\n",
    "# plt.plot(xTest[:,0])\n",
    "# plt.title('Test (' +str(len(xTest))+' data points)')\n",
    "# plt.show()"
   ]
  },
  {
   "cell_type": "code",
   "execution_count": 99,
   "metadata": {
    "collapsed": true
   },
   "outputs": [],
   "source": [
    "# LOAD DATA^"
   ]
  },
  {
   "cell_type": "code",
   "execution_count": 100,
   "metadata": {
    "collapsed": true
   },
   "outputs": [],
   "source": [
    "# SETUP NET"
   ]
  },
  {
   "cell_type": "code",
   "execution_count": 101,
   "metadata": {
    "collapsed": true
   },
   "outputs": [],
   "source": [
    "tf.reset_default_graph()\n"
   ]
  },
  {
   "cell_type": "code",
   "execution_count": 102,
   "metadata": {
    "collapsed": true
   },
   "outputs": [],
   "source": [
    "batchX_placeholder = tf.placeholder(dtype=tf.float32,shape=[None,truncated_backprop_length,num_features],name='data_ph')\n",
    "batchY_placeholder = tf.placeholder(dtype=tf.float32,shape=[None,truncated_backprop_length,num_classes],name='target_ph')"
   ]
  },
  {
   "cell_type": "code",
   "execution_count": 106,
   "metadata": {},
   "outputs": [],
   "source": [
    "# irrelevant if no more classes (random array unif distribution) \n",
    "W2 = tf.Variable(initial_value=np.random.rand(state_size,num_classes),dtype=tf.float32)\n",
    "b2 = tf.Variable(initial_value=np.random.rand(1,num_classes),dtype=tf.float32)"
   ]
  },
  {
   "cell_type": "code",
   "execution_count": 107,
   "metadata": {
    "collapsed": true
   },
   "outputs": [],
   "source": [
    "# unpack and create edge from input to hidden layer\n",
    "labels_series = tf.unstack(batchY_placeholder, axis=1)\n"
   ]
  },
  {
   "cell_type": "code",
   "execution_count": 108,
   "metadata": {
    "collapsed": true
   },
   "outputs": [],
   "source": [
    "# forward pass\n",
    "cell = tf.contrib.rnn.BasicLSTMCell(num_units=state_size)\n",
    "\n",
    "states_series, current_state = tf.nn.dynamic_rnn(cell=cell,inputs=batchX_placeholder,dtype=tf.float32)"
   ]
  },
  {
   "cell_type": "code",
   "execution_count": 109,
   "metadata": {
    "collapsed": true
   },
   "outputs": [],
   "source": [
    "# talk about permutations and how data goes through nodes\n",
    "states_series = tf.transpose(states_series,[1,0,2])\n"
   ]
  },
  {
   "cell_type": "code",
   "execution_count": 110,
   "metadata": {
    "collapsed": true
   },
   "outputs": [],
   "source": [
    "# backwards pass starting point\n",
    "last_state = tf.gather(params=states_series,indices=states_series.get_shape()[0]-1)\n",
    "last_label = tf.gather(params=labels_series,indices=len(labels_series)-1)"
   ]
  },
  {
   "cell_type": "code",
   "execution_count": 111,
   "metadata": {
    "collapsed": true
   },
   "outputs": [],
   "source": [
    "# bp weights and biases\n",
    "weight = tf.Variable(tf.truncated_normal([state_size,num_classes]))\n",
    "bias = tf.Variable(tf.constant(0.1,shape=[num_classes]))"
   ]
  },
  {
   "cell_type": "code",
   "execution_count": 116,
   "metadata": {},
   "outputs": [],
   "source": [
    "prediction = tf.matmul(last_state,weight) + bias\n",
    "loss = tf.reduce_mean(tf.squared_difference(last_label,prediction))\n",
    "train_step = tf.train.AdamOptimizer(learning_rate=0.000001).minimize(loss)\n"
   ]
  },
  {
   "cell_type": "code",
   "execution_count": 118,
   "metadata": {},
   "outputs": [
    {
     "name": "stdout",
     "output_type": "stream",
     "text": [
      "Epoch 0\n",
      "Step 0 - Loss: 88443.687500\n",
      "Step 50 - Loss: 83397.726562\n",
      "Step 100 - Loss: 89936.421875\n",
      "Step 150 - Loss: 84317.945312\n",
      "Step 200 - Loss: 83045.140625\n",
      "Step 250 - Loss: 92660.953125\n",
      "Step 300 - Loss: 87736.414062\n",
      "Step 350 - Loss: 90103.304688\n",
      "Step 400 - Loss: 114397.187500\n",
      "Step 450 - Loss: 114966.132812\n",
      "Step 500 - Loss: 103503.421875\n",
      "Step 550 - Loss: 99590.421875\n",
      "Step 600 - Loss: 94402.171875\n",
      "Step 650 - Loss: 78200.109375\n",
      "Step 700 - Loss: 87688.210938\n",
      "Step 750 - Loss: 86659.820312\n",
      "Step 800 - Loss: 86665.320312\n",
      "Step 850 - Loss: 92664.406250\n",
      "Step 900 - Loss: 84315.390625\n",
      "Step 950 - Loss: 88964.054688\n",
      "Step 1000 - Loss: 87603.171875\n",
      "Step 1050 - Loss: 84448.468750\n",
      "Step 1100 - Loss: 100328.359375\n",
      "Step 1150 - Loss: 102652.656250\n",
      "Step 1200 - Loss: 92504.546875\n",
      "Step 1250 - Loss: 99184.109375\n",
      "Step 1300 - Loss: 110684.281250\n",
      "Step 1350 - Loss: 111437.734375\n",
      "Step 1400 - Loss: 110085.765625\n",
      "Step 1450 - Loss: 135696.187500\n",
      "Step 1500 - Loss: 136351.875000\n",
      "Step 1550 - Loss: 207175.656250\n",
      "Step 1600 - Loss: 223837.593750\n",
      "Step 1650 - Loss: 228144.359375\n",
      "Step 1700 - Loss: 221242.656250\n",
      "Step 1750 - Loss: 201031.000000\n",
      "Step 1800 - Loss: 186291.312500\n",
      "Step 1850 - Loss: nan\n",
      "Step 1900 - Loss: nan\n",
      "Step 1950 - Loss: nan\n",
      "Step 2000 - Loss: nan\n",
      "Step 2050 - Loss: nan\n",
      "Step 2100 - Loss: nan\n",
      "nan\n",
      "nan\n",
      "nan\n",
      "nan\n",
      "nan\n",
      "nan\n",
      "nan\n",
      "nan\n",
      "nan\n",
      "nan\n",
      "nan\n",
      "nan\n",
      "nan\n",
      "nan\n",
      "nan\n",
      "nan\n",
      "nan\n",
      "nan\n",
      "nan\n",
      "nan\n",
      "nan\n",
      "nan\n",
      "nan\n",
      "nan\n",
      "nan\n",
      "nan\n",
      "nan\n",
      "nan\n",
      "nan\n",
      "nan\n",
      "nan\n",
      "nan\n",
      "nan\n",
      "nan\n",
      "nan\n",
      "nan\n",
      "nan\n",
      "nan\n",
      "nan\n",
      "nan\n",
      "nan\n",
      "nan\n",
      "nan\n",
      "nan\n",
      "nan\n",
      "nan\n",
      "nan\n",
      "nan\n",
      "nan\n",
      "nan\n",
      "nan\n",
      "nan\n",
      "nan\n",
      "nan\n",
      "nan\n",
      "nan\n",
      "nan\n",
      "nan\n",
      "nan\n",
      "nan\n",
      "nan\n",
      "nan\n",
      "nan\n",
      "nan\n",
      "nan\n",
      "nan\n",
      "nan\n",
      "nan\n",
      "nan\n",
      "nan\n",
      "nan\n",
      "nan\n",
      "nan\n",
      "nan\n",
      "nan\n",
      "nan\n",
      "nan\n",
      "nan\n",
      "nan\n",
      "nan\n",
      "nan\n",
      "nan\n",
      "nan\n",
      "nan\n",
      "nan\n",
      "nan\n",
      "nan\n",
      "nan\n",
      "nan\n",
      "nan\n",
      "nan\n",
      "nan\n",
      "nan\n",
      "nan\n",
      "nan\n",
      "nan\n",
      "nan\n",
      "nan\n",
      "nan\n"
     ]
    }
   ],
   "source": [
    "loss_list = []\n",
    "test_pred_list = []\n",
    "\n",
    "with tf.Session() as sess:\n",
    "    \n",
    "    tf.global_variables_initializer().run()\n",
    "    num_epochs = 1\n",
    "    for epoch_idx in range(num_epochs):\n",
    "                \n",
    "        print('Epoch %d' %epoch_idx)\n",
    "        \n",
    "        for batch_idx in range(num_batches):\n",
    "            start_idx = batch_idx * truncated_backprop_length\n",
    "            end_idx = start_idx + truncated_backprop_length * batch_size\n",
    "        \n",
    "            \n",
    "            batchX = xTrain[start_idx:end_idx,:].reshape(batch_size,truncated_backprop_length,num_features)\n",
    "            batchY = yTrain[start_idx:end_idx].reshape(batch_size,truncated_backprop_length,1)\n",
    "                \n",
    "            #print('IDXs',start_idx,end_idx)\n",
    "            #print('X',batchX.shape,batchX)\n",
    "            #print('Y',batchX.shape,batchY)\n",
    "            \n",
    "            feed = {batchX_placeholder : batchX, batchY_placeholder : batchY}\n",
    "            \n",
    "            #TRAIN!\n",
    "            _loss,_train_step,_pred,_last_label,_prediction = sess.run(\n",
    "                fetches=[loss,train_step,prediction,last_label,prediction],\n",
    "                feed_dict = feed\n",
    "            )\n",
    "            \n",
    "            loss_list.append(_loss)\n",
    "            \n",
    "           \n",
    "            \n",
    "            if(batch_idx % 50 == 0):\n",
    "                print('Step %d - Loss: %.6f' %(batch_idx,_loss))\n",
    "                \n",
    "    #TEST\n",
    "    \n",
    "    \n",
    "    for test_idx in range(len(xTest) - truncated_backprop_length):\n",
    "        \n",
    "        testBatchX = xTest[test_idx:test_idx+truncated_backprop_length,:].reshape((1,truncated_backprop_length,num_features))        \n",
    "        testBatchY = yTest[test_idx:test_idx+truncated_backprop_length].reshape((1,truncated_backprop_length,1))\n",
    "\n",
    "        \n",
    "        #_current_state = np.zeros((batch_size,state_size))\n",
    "        feed = {batchX_placeholder : testBatchX,\n",
    "            batchY_placeholder : testBatchY}\n",
    "\n",
    "        #Test_pred contains 'window_size' predictions, we want the last one\n",
    "        _last_state,_last_label,test_pred = sess.run([last_state,last_label,prediction],feed_dict=feed)\n",
    "        test_pred_list.append(test_pred[-1][0]) #The last one\n",
    "        \n",
    "        print test_pred[-1][0]"
   ]
  },
  {
   "cell_type": "code",
   "execution_count": 114,
   "metadata": {},
   "outputs": [
    {
     "data": {
      "image/png": "[encoded data removed]",
      "text/plain": [
       "<matplotlib.figure.Figure at 0x12abe2650>"
      ]
     },
     "metadata": {},
     "output_type": "display_data"
    }
   ],
   "source": [
    "plt.figure(figsize=(21,7))\n",
    "plt.plot(yTest,label='Price',color='blue')\n",
    "plt.plot(test_pred_list,label='Predicted',color='red')\n",
    "plt.title('Price vs Predicted')\n",
    "plt.legend(loc='upper left')\n",
    "plt.show()"
   ]
  },
  {
   "cell_type": "code",
   "execution_count": null,
   "metadata": {
    "collapsed": true
   },
   "outputs": [],
   "source": []
  }
 ],
 "metadata": {
  "kernelspec": {
   "display_name": "Python 2",
   "language": "python",
   "name": "python2"
  },
  "language_info": {
   "codemirror_mode": {
    "name": "ipython",
    "version": 2
   },
   "file_extension": ".py",
   "mimetype": "text/x-python",
   "name": "python",
   "nbconvert_exporter": "python",
   "pygments_lexer": "ipython2",
   "version": "2.7.13"
  }
 },
 "nbformat": 4,
 "nbformat_minor": 2
}
