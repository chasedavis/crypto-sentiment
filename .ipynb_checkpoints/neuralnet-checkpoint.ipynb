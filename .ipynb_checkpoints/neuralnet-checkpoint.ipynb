{
 "cells": [
  {
   "cell_type": "markdown",
   "metadata": {},
   "source": [
    "### Neural Net with TensorFlow"
   ]
  },
  {
   "cell_type": "code",
   "execution_count": 3,
   "metadata": {
    "collapsed": true
   },
   "outputs": [],
   "source": [
    "# Install tensorflow and protobuf -- run once!\n",
    "# anaconda install instructions: https://www.tensorflow.org/install/install_mac\n",
    "\n",
    "# # For chase's macbook, the following shell commands worked (take out ! if in terminal)\n",
    "# !conda create -n tensorflow python=2.7\n",
    "# !source activate tensorflow\n",
    "# !pip install --ignore-installed --upgrade https://storage.googleapis.com/tensorflow/mac/cpu/tensorflow-1.4.0-py2-none-any.whl\n",
    "\n",
    "# Remember to activate container when you want to use package"
   ]
  },
  {
   "cell_type": "code",
   "execution_count": 30,
   "metadata": {
    "collapsed": true
   },
   "outputs": [],
   "source": [
    "# !source activate tensorflow\n",
    "import tensorflow as tf\n",
    "from tensorflow.python.framework import ops\n",
    "import numpy as np\n"
   ]
  },
  {
   "cell_type": "code",
   "execution_count": 66,
   "metadata": {
    "scrolled": true
   },
   "outputs": [
    {
     "name": "stdout",
     "output_type": "stream",
     "text": [
      "  prev_price next_price   pos    neg    neu compound\n",
      "0     307.15     307.26  0.31      0   0.69   0.7424\n",
      "1        463     467.29     0  0.209  0.791  -0.7003\n",
      "2     465.01     461.57     0  0.253  0.747  -0.1759\n",
      "3     464.53     465.01     0      0      1        0\n",
      "4        462        465     0      0      1        0\n"
     ]
    }
   ],
   "source": [
    "# Import Dataset Pickle\n",
    "import pickle\n",
    "import pandas as pd\n",
    "dfNN_raw = pickle.load(open('NN_pickles.p', 'rb'))\n",
    "print dfNN_raw.head(5)\n",
    "# pd.options.display.max_rows = len(dfNN_raw)\n",
    "# dfNN_raw.head(len(dfNN_raw))\n"
   ]
  },
  {
   "cell_type": "code",
   "execution_count": 67,
   "metadata": {},
   "outputs": [],
   "source": [
    "# Python\n",
    "# import tensorflow as tf\n",
    "# hello = tf.constant('Hello, TensorFlow!')\n",
    "# sess = tf.Session()\n",
    "# print(sess.run(hello))"
   ]
  },
  {
   "cell_type": "code",
   "execution_count": 68,
   "metadata": {},
   "outputs": [
    {
     "name": "stdout",
     "output_type": "stream",
     "text": [
      "  prev_price next_price       pos       neg       neu   compound\n",
      "0  -0.205992   0.468625   0.30568 -0.041533 -0.237517   0.342107\n",
      "1   0.468625   0.477325 -0.110987  0.214909  -0.11359   -0.46241\n",
      "2   0.477325   0.475247 -0.110987  0.268896 -0.167578   -0.16998\n",
      "3   0.475247   0.464296 -0.110987 -0.041533  0.142851 -0.0718898\n",
      "4   0.464296   0.477325 -0.110987 -0.041533  0.142851 -0.0718898\n"
     ]
    }
   ],
   "source": [
    "ddNN = (dfNN_raw - dfNN_raw.mean()) / (dfNN_raw.max() - dfNN_raw.min())\n",
    "ddNN.reset_index(inplace=True)\n",
    "del ddNN['index']\n",
    "ddNN['next_price'] = ddNN['prev_price'].shift(-1)\n",
    "ddNN.head(5)\n",
    "print ddNN.head(5)"
   ]
  },
  {
   "cell_type": "code",
   "execution_count": 69,
   "metadata": {},
   "outputs": [
    {
     "name": "stdout",
     "output_type": "stream",
     "text": [
      "The total series length is: 6437\n",
      "The current configuration gives us 2145 batches of 1 observations each one looking 3 steps in the past\n"
     ]
    }
   ],
   "source": [
    "# Taking straight from LSTM Stock Model\n",
    "num_epochs = 1000\n",
    "\n",
    "batch_size = 1\n",
    "\n",
    "total_series_length = len(ddNN.index)\n",
    "\n",
    "truncated_backprop_length = 3 #The size of the sequence\n",
    "\n",
    "state_size = 12 #The number of neurons\n",
    "\n",
    "num_features = 4\n",
    "num_classes = 1 #[1,0]\n",
    "\n",
    "num_batches = total_series_length//batch_size//truncated_backprop_length\n",
    "\n",
    "min_test_size = 100\n",
    "\n",
    "print('The total series length is: %d' %total_series_length)\n",
    "print('The current configuration gives us %d batches of %d observations each one looking %d steps in the past' \n",
    "      %(num_batches,batch_size,truncated_backprop_length))"
   ]
  },
  {
   "cell_type": "code",
   "execution_count": 70,
   "metadata": {
    "collapsed": true
   },
   "outputs": [],
   "source": [
    "# Split Training-Test\n",
    "dfTrain = dfNN[dfNN.index < num_batches*batch_size*truncated_backprop_length]\n",
    "\n",
    "\n",
    "for i in range(min_test_size,len(dfNN.index)):\n",
    "    \n",
    "    if(i % truncated_backprop_length*batch_size == 0):\n",
    "        test_first_idx = len(dfNN.index)-i\n",
    "        break\n",
    "\n",
    "dfTest =  dfNN[dfNN.index >= test_first_idx]"
   ]
  },
  {
   "cell_type": "code",
   "execution_count": 71,
   "metadata": {
    "collapsed": true
   },
   "outputs": [],
   "source": [
    "xTrain = dfTrain[['prev_price','neu','neg','pos']].as_matrix()[::-1]\n",
    "yTrain = dfTrain['next_price'].as_matrix()[::-1]"
   ]
  },
  {
   "cell_type": "code",
   "execution_count": 72,
   "metadata": {},
   "outputs": [
    {
     "data": {
      "text/plain": [
       "(6435, 4)"
      ]
     },
     "execution_count": 72,
     "metadata": {},
     "output_type": "execute_result"
    }
   ],
   "source": [
    "xTrain.shape\n"
   ]
  },
  {
   "cell_type": "code",
   "execution_count": 73,
   "metadata": {
    "collapsed": true
   },
   "outputs": [],
   "source": [
    "xTest = dfTest[['prev_price','neu','neg','pos']].as_matrix()\n",
    "yTest = dfTest['next_price'].as_matrix()"
   ]
  },
  {
   "cell_type": "code",
   "execution_count": 74,
   "metadata": {},
   "outputs": [
    {
     "data": {
      "text/plain": [
       "(102,)"
      ]
     },
     "execution_count": 74,
     "metadata": {},
     "output_type": "execute_result"
    }
   ],
   "source": [
    "yTest.shape\n"
   ]
  },
  {
   "cell_type": "code",
   "execution_count": 75,
   "metadata": {},
   "outputs": [
    {
     "data": {
      "image/png": "[encoded data removed]",
      "text/plain": [
       "<matplotlib.figure.Figure at 0x1a29eba810>"
      ]
     },
     "metadata": {},
     "output_type": "display_data"
    }
   ],
   "source": [
    "import matplotlib.pyplot as plt\n",
    "import matplotlib.dates as mdates\n",
    "\n",
    "fig,ax = plt.subplots(2,1, figsize = (10,5))\n",
    "ax[0].plot(xTrain[:,0])\n",
    "ax[0].set_title('Train (' +str(len(xTrain))+' data points)')\n",
    "ax[0].set_xlabel('Date')\n",
    "ax[0].xaxis.set_major_locator(mdates.MonthLocator())\n",
    "ax[0].xaxis.set_major_formatter(mdates.DateFormatter('%m.%d.%y'))\n",
    "\n",
    "ax[1].plot(xTest[:,0])\n",
    "ax[1].set_title('Test (' +str(len(xTest))+' data points)')\n",
    "\n",
    "# plt.figure(figsize=(25,5))\n",
    "# plt.plot(xTrain[:,0])\n",
    "# plt.title('Train (' +str(len(xTrain))+' data points)')\n",
    "# plt.xaxis.set_major_locator(mdates.MonthLocator())\n",
    "# plt.xaxis.set_major_formatter(mdates.DateFormatter('%m.%d.%y'))\n",
    "plt.tight_layout()\n",
    "plt.show()\n",
    "\n",
    "# plt.figure(figsize=(10,3))\n",
    "# plt.plot(xTest[:,0])\n",
    "# plt.title('Test (' +str(len(xTest))+' data points)')\n",
    "# plt.show()"
   ]
  },
  {
   "cell_type": "code",
   "execution_count": 76,
   "metadata": {},
   "outputs": [],
   "source": [
    "# LOAD DATA^"
   ]
  },
  {
   "cell_type": "code",
   "execution_count": 77,
   "metadata": {
    "collapsed": true
   },
   "outputs": [],
   "source": [
    "# SETUP NET"
   ]
  },
  {
   "cell_type": "code",
   "execution_count": 78,
   "metadata": {
    "collapsed": true
   },
   "outputs": [],
   "source": [
    "tf.reset_default_graph()\n"
   ]
  },
  {
   "cell_type": "code",
   "execution_count": 79,
   "metadata": {
    "collapsed": true
   },
   "outputs": [],
   "source": [
    "batchX_placeholder = tf.placeholder(dtype=tf.float32,shape=[None,truncated_backprop_length,num_features],name='data_ph')\n",
    "batchY_placeholder = tf.placeholder(dtype=tf.float32,shape=[None,truncated_backprop_length,num_classes],name='target_ph')"
   ]
  },
  {
   "cell_type": "code",
   "execution_count": 80,
   "metadata": {},
   "outputs": [],
   "source": [
    "# irrelevant if no more classes (random array unif distribution) \n",
    "W2 = tf.Variable(initial_value=np.random.rand(state_size,num_classes),dtype=tf.float32)\n",
    "b2 = tf.Variable(initial_value=np.random.rand(1,num_classes),dtype=tf.float32)"
   ]
  },
  {
   "cell_type": "code",
   "execution_count": 81,
   "metadata": {
    "collapsed": true
   },
   "outputs": [],
   "source": [
    "# unpack and create edge from input to hidden layer\n",
    "labels_series = tf.unstack(batchY_placeholder, axis=1)\n"
   ]
  },
  {
   "cell_type": "code",
   "execution_count": 82,
   "metadata": {
    "collapsed": true
   },
   "outputs": [],
   "source": [
    "# forward pass\n",
    "cell = tf.contrib.rnn.BasicLSTMCell(num_units=state_size)\n",
    "\n",
    "states_series, current_state = tf.nn.dynamic_rnn(cell=cell,inputs=batchX_placeholder,dtype=tf.float32)"
   ]
  },
  {
   "cell_type": "code",
   "execution_count": 83,
   "metadata": {
    "collapsed": true
   },
   "outputs": [],
   "source": [
    "# talk about permutations and how data goes through nodes\n",
    "states_series = tf.transpose(states_series,[1,0,2])\n"
   ]
  },
  {
   "cell_type": "code",
   "execution_count": 84,
   "metadata": {},
   "outputs": [],
   "source": [
    "# backwards pass starting point\n",
    "last_state = tf.gather(params=states_series,indices=states_series.get_shape()[0]-1)\n",
    "last_label = tf.gather(params=labels_series,indices=len(labels_series)-1)"
   ]
  },
  {
   "cell_type": "code",
   "execution_count": 85,
   "metadata": {
    "collapsed": true
   },
   "outputs": [],
   "source": [
    "# bp weights and biases\n",
    "weight = tf.Variable(tf.truncated_normal([state_size,num_classes]))\n",
    "bias = tf.Variable(tf.constant(0.1,shape=[num_classes]))"
   ]
  },
  {
   "cell_type": "code",
   "execution_count": 86,
   "metadata": {},
   "outputs": [],
   "source": [
    "prediction = tf.matmul(last_state,weight) + bias\n",
    "loss = tf.reduce_mean(tf.squared_difference(last_label,prediction))\n",
    "train_step = tf.train.AdamOptimizer(learning_rate=0.000001).minimize(loss)\n"
   ]
  },
  {
   "cell_type": "code",
   "execution_count": 89,
   "metadata": {
    "scrolled": false
   },
   "outputs": [
    {
     "name": "stdout",
     "output_type": "stream",
     "text": [
      "Epoch 0\n",
      "Step 0 - Loss: 92134.773438\n",
      "Loss: 92134.7734375 Train_Step: None Pred: [[ 0.97288573]] Last Label: [[ 304.51000977]] Prediction: [[ 0.97288573]]\n",
      "Step 50 - Loss: 83469.007812\n",
      "Loss: 83469.0078125 Train_Step: None Pred: [[ 0.97996765]] Last Label: [[ 289.89001465]] Prediction: [[ 0.97996765]]\n",
      "Step 100 - Loss: 91151.953125\n",
      "Loss: 91151.953125 Train_Step: None Pred: [[ 0.9761849]] Last Label: [[ 302.89001465]] Prediction: [[ 0.9761849]]\n",
      "Step 150 - Loss: 83826.687500\n",
      "Loss: 83826.6875 Train_Step: None Pred: [[ 0.98162216]] Last Label: [[ 290.51000977]] Prediction: [[ 0.98162216]]\n",
      "Step 200 - Loss: 82263.531250\n",
      "Loss: 82263.53125 Train_Step: None Pred: [[ 0.98380268]] Last Label: [[ 287.79998779]] Prediction: [[ 0.98380268]]\n",
      "Step 250 - Loss: 94619.304688\n",
      "Loss: 94619.3046875 Train_Step: None Pred: [[ 0.97748923]] Last Label: [[ 308.57998657]] Prediction: [[ 0.97748923]]\n",
      "Step 300 - Loss: 91107.460938\n",
      "Loss: 91107.4609375 Train_Step: None Pred: [[ 0.97988045]] Last Label: [[ 302.82000732]] Prediction: [[ 0.97988045]]\n",
      "Step 350 - Loss: 90612.203125\n",
      "Loss: 90612.203125 Train_Step: None Pred: [[ 0.98139954]] Last Label: [[ 302.]] Prediction: [[ 0.98139954]]\n",
      "Step 400 - Loss: 116075.960938\n",
      "Loss: 116075.960938 Train_Step: None Pred: [[ 0.97079808]] Last Label: [[ 341.67001343]] Prediction: [[ 0.97079808]]\n",
      "Step 450 - Loss: 112591.953125\n",
      "Loss: 112591.953125 Train_Step: None Pred: [[ 0.97274119]] Last Label: [[ 336.51998901]] Prediction: [[ 0.97274119]]\n",
      "Step 500 - Loss: 98797.140625\n",
      "Loss: 98797.140625 Train_Step: None Pred: [[ 0.97984505]] Last Label: [[ 315.29998779]] Prediction: [[ 0.97984505]]\n",
      "Step 550 - Loss: 92803.867188\n",
      "Loss: 92803.8671875 Train_Step: None Pred: [[ 0.9827233]] Last Label: [[ 305.61999512]] Prediction: [[ 0.9827233]]\n",
      "Step 600 - Loss: 94240.007812\n",
      "Loss: 94240.0078125 Train_Step: None Pred: [[ 0.98464948]] Last Label: [[ 307.97000122]] Prediction: [[ 0.98464948]]\n",
      "Step 650 - Loss: 79831.632812\n",
      "Loss: 79831.6328125 Train_Step: None Pred: [[ 0.99510068]] Last Label: [[ 283.54000854]] Prediction: [[ 0.99510068]]\n",
      "Step 700 - Loss: 85871.375000\n",
      "Loss: 85871.375 Train_Step: None Pred: [[ 0.99181098]] Last Label: [[ 294.02999878]] Prediction: [[ 0.99181098]]\n",
      "Step 750 - Loss: 86974.703125\n",
      "Loss: 86974.703125 Train_Step: None Pred: [[ 0.99528271]] Last Label: [[ 295.91000366]] Prediction: [[ 0.99528271]]\n",
      "Step 800 - Loss: 86928.515625\n",
      "Loss: 86928.515625 Train_Step: None Pred: [[ 0.9935621]] Last Label: [[ 295.82998657]] Prediction: [[ 0.9935621]]\n",
      "Step 850 - Loss: 93814.109375\n",
      "Loss: 93814.109375 Train_Step: None Pred: [[ 0.98910433]] Last Label: [[ 307.27999878]] Prediction: [[ 0.98910433]]\n",
      "Step 900 - Loss: 81893.453125\n",
      "Loss: 81893.453125 Train_Step: None Pred: [[ 0.99968743]] Last Label: [[ 287.17001343]] Prediction: [[ 0.99968743]]\n",
      "Step 950 - Loss: 89101.554688\n",
      "Loss: 89101.5546875 Train_Step: None Pred: [[ 1.0011698]] Last Label: [[ 299.5]] Prediction: [[ 1.0011698]]\n",
      "Step 1000 - Loss: 91503.390625\n",
      "Loss: 91503.390625 Train_Step: None Pred: [[ 0.99472684]] Last Label: [[ 303.48999023]] Prediction: [[ 0.99472684]]\n",
      "Step 1050 - Loss: 84153.000000\n",
      "Loss: 84153.0 Train_Step: None Pred: [[ 0.99862194]] Last Label: [[ 291.08999634]] Prediction: [[ 0.99862194]]\n",
      "Step 1100 - Loss: 97347.906250\n",
      "Loss: 97347.90625 Train_Step: None Pred: [[ 0.99374861]] Last Label: [[ 313.]] Prediction: [[ 0.99374861]]\n",
      "Step 1150 - Loss: 101072.710938\n",
      "Loss: 101072.710938 Train_Step: None Pred: [[ 0.9906615]] Last Label: [[ 318.91000366]] Prediction: [[ 0.9906615]]\n",
      "Step 1200 - Loss: 92849.796875\n",
      "Loss: 92849.796875 Train_Step: None Pred: [[ 0.99735475]] Last Label: [[ 305.70999146]] Prediction: [[ 0.99735475]]\n",
      "Step 1250 - Loss: 98950.835938\n",
      "Loss: 98950.8359375 Train_Step: None Pred: [[ 0.99547732]] Last Label: [[ 315.55999756]] Prediction: [[ 0.99547732]]\n",
      "Step 1300 - Loss: 114191.109375\n",
      "Loss: 114191.109375 Train_Step: None Pred: [[ 0.98824716]] Last Label: [[ 338.91000366]] Prediction: [[ 0.98824716]]\n",
      "Step 1350 - Loss: 111194.812500\n",
      "Loss: 111194.8125 Train_Step: None Pred: [[ 0.99114043]] Last Label: [[ 334.45001221]] Prediction: [[ 0.99114043]]\n",
      "Step 1400 - Loss: 111534.757812\n",
      "Loss: 111534.757812 Train_Step: None Pred: [[ 0.99178368]] Last Label: [[ 334.95999146]] Prediction: [[ 0.99178368]]\n",
      "Step 1450 - Loss: 135371.828125\n",
      "Loss: 135371.828125 Train_Step: None Pred: [[ 0.98090374]] Last Label: [[ 368.91000366]] Prediction: [[ 0.98090374]]\n",
      "Step 1500 - Loss: 142748.437500\n",
      "Loss: 142748.4375 Train_Step: None Pred: [[ 0.9793362]] Last Label: [[ 378.79998779]] Prediction: [[ 0.9793362]]\n",
      "Step 1550 - Loss: 208926.500000\n",
      "Loss: 208926.5 Train_Step: None Pred: [[ 0.96521521]] Last Label: [[ 458.04998779]] Prediction: [[ 0.96521521]]\n",
      "Step 1600 - Loss: 223753.828125\n",
      "Loss: 223753.828125 Train_Step: None Pred: [[ 0.96374404]] Last Label: [[ 473.98999023]] Prediction: [[ 0.96374404]]\n",
      "Step 1650 - Loss: 227831.453125\n",
      "Loss: 227831.453125 Train_Step: None Pred: [[ 0.96308684]] Last Label: [[ 478.27999878]] Prediction: [[ 0.96308684]]\n",
      "Step 1700 - Loss: 220933.359375\n",
      "Loss: 220933.359375 Train_Step: None Pred: [[ 0.96449965]] Last Label: [[ 471.]] Prediction: [[ 0.96449965]]\n",
      "Step 1750 - Loss: 200730.750000\n",
      "Loss: 200730.75 Train_Step: None Pred: [[ 0.97013927]] Last Label: [[ 449.]] Prediction: [[ 0.97013927]]\n",
      "Step 1800 - Loss: 186000.203125\n",
      "Loss: 186000.203125 Train_Step: None Pred: [[ 0.97259754]] Last Label: [[ 432.25]] Prediction: [[ 0.97259754]]\n",
      "Step 1850 - Loss: nan\n",
      "Loss: nan Train_Step: None Pred: [[ nan]] Last Label: [[ 462.6499939]] Prediction: [[ nan]]\n",
      "Step 1900 - Loss: nan\n",
      "Loss: nan Train_Step: None Pred: [[ nan]] Last Label: [[ 461.44000244]] Prediction: [[ nan]]\n",
      "Step 1950 - Loss: nan\n",
      "Loss: nan Train_Step: None Pred: [[ nan]] Last Label: [[ 462.98999023]] Prediction: [[ nan]]\n",
      "Step 2000 - Loss: nan\n",
      "Loss: nan Train_Step: None Pred: [[ nan]] Last Label: [[ 469.98999023]] Prediction: [[ nan]]\n",
      "Step 2050 - Loss: nan\n",
      "Loss: nan Train_Step: None Pred: [[ nan]] Last Label: [[ 452.01998901]] Prediction: [[ nan]]\n",
      "Step 2100 - Loss: nan\n",
      "Loss: nan Train_Step: None Pred: [[ nan]] Last Label: [[ 465.]] Prediction: [[ nan]]\n"
     ]
    }
   ],
   "source": [
    "loss_list = []\n",
    "test_pred_list = []\n",
    "\n",
    "with tf.Session() as sess:\n",
    "    \n",
    "    tf.global_variables_initializer().run()\n",
    "    num_epochs = 1\n",
    "    for epoch_idx in range(num_epochs):\n",
    "                \n",
    "        print('Epoch %d' %epoch_idx)\n",
    "        \n",
    "        for batch_idx in range(num_batches):\n",
    "            start_idx = batch_idx * truncated_backprop_length\n",
    "            end_idx = start_idx + truncated_backprop_length * batch_size\n",
    "        \n",
    "            \n",
    "            batchX = xTrain[start_idx:end_idx,:].reshape(batch_size,truncated_backprop_length,num_features)\n",
    "            batchY = yTrain[start_idx:end_idx].reshape(batch_size,truncated_backprop_length,1)\n",
    "                \n",
    "            #print('IDXs',start_idx,end_idx)\n",
    "            #print('X',batchX.shape,batchX)\n",
    "            #print('Y',batchX.shape,batchY)\n",
    "            \n",
    "            feed = {batchX_placeholder : batchX, batchY_placeholder : batchY}\n",
    "            \n",
    "            #TRAIN!\n",
    "            _loss,_train_step,_pred,_last_label,_prediction = sess.run(\n",
    "                fetches=[loss,train_step,prediction,last_label,prediction],\n",
    "                feed_dict = feed\n",
    "            )\n",
    "            \n",
    "            loss_list.append(_loss)\n",
    "            \n",
    "           \n",
    "            \n",
    "            if(batch_idx % 50 == 0):\n",
    "                print('Step %d - Loss: %.6f' %(batch_idx,_loss))\n",
    "                print 'Loss: {} Train_Step: {} Pred: {} Last Label: {} Prediction: {}'.format(_loss,_train_step,_pred,_last_label,_prediction)\n",
    "                \n",
    "    #TEST\n",
    "    \n",
    "    \n",
    "    for test_idx in range(len(xTest) - truncated_backprop_length):\n",
    "        \n",
    "        testBatchX = xTest[test_idx:test_idx+truncated_backprop_length,:].reshape((1,truncated_backprop_length,num_features))        \n",
    "        testBatchY = yTest[test_idx:test_idx+truncated_backprop_length].reshape((1,truncated_backprop_length,1))\n",
    "\n",
    "        \n",
    "        #_current_state = np.zeros((batch_size,state_size))\n",
    "        feed = {batchX_placeholder : testBatchX,\n",
    "            batchY_placeholder : testBatchY}\n",
    "\n",
    "        #Test_pred contains 'window_size' predictions, we want the last one\n",
    "        _last_state,_last_label,test_pred = sess.run([last_state,last_label,prediction],feed_dict=feed)\n",
    "        test_pred_list.append(test_pred[-1][0]) #The last one\n",
    "#         print \"Test prediction: \", test_pred"
   ]
  },
  {
   "cell_type": "code",
   "execution_count": 88,
   "metadata": {},
   "outputs": [
    {
     "data": {
      "image/png": "[encoded data removed]",
      "text/plain": [
       "<matplotlib.figure.Figure at 0x1a29cd6410>"
      ]
     },
     "metadata": {},
     "output_type": "display_data"
    }
   ],
   "source": [
    "plt.figure(figsize=(21,7))\n",
    "plt.plot(yTest,label='Price',color='blue')\n",
    "plt.plot(test_pred_list,label='Predicted',color='red')\n",
    "plt.title('Price vs Predicted')\n",
    "plt.legend(loc='upper left')\n",
    "plt.show()"
   ]
  },
  {
   "cell_type": "code",
   "execution_count": null,
   "metadata": {
    "collapsed": true
   },
   "outputs": [],
   "source": []
  }
 ],
 "metadata": {
  "kernelspec": {
   "display_name": "Python 2",
   "language": "python",
   "name": "python2"
  },
  "language_info": {
   "codemirror_mode": {
    "name": "ipython",
    "version": 2
   },
   "file_extension": ".py",
   "mimetype": "text/x-python",
   "name": "python",
   "nbconvert_exporter": "python",
   "pygments_lexer": "ipython2",
   "version": "2.7.14"
  }
 },
 "nbformat": 4,
 "nbformat_minor": 2
}
