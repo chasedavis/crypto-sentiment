{
 "cells": [
  {
   "cell_type": "markdown",
   "metadata": {},
   "source": [
    "### Neural Net with TensorFlow"
   ]
  },
  {
   "cell_type": "code",
   "execution_count": null,
   "metadata": {
    "collapsed": true
   },
   "outputs": [],
   "source": [
    "# Install tensorflow and protobuf -- run once!\n",
    "# anaconda install instructions: https://www.tensorflow.org/install/install_mac\n",
    "\n",
    "# # For chase's macbook, the following shell commands worked (take out ! if in terminal)\n",
    "# !conda create -n tensorflow python=2.7\n",
    "# !source activate tensorflow\n",
    "# !pip install --ignore-installed --upgrade https://storage.googleapis.com/tensorflow/mac/cpu/tensorflow-1.4.0-py2-none-any.whl\n",
    "\n",
    "# Remember to activate container when you want to use package"
   ]
  },
  {
   "cell_type": "code",
   "execution_count": 29,
   "metadata": {},
   "outputs": [],
   "source": [
    "import sys, csv, json\n",
    "import requests\n",
    "import numpy as np\n",
    "import pandas as pd\n",
    "import csv, json\n",
    "import pandas as pd\n",
    "from nltk.sentiment.vader import SentimentIntensityAnalyzer\n",
    "import unicodedata\n",
    "import math\n",
    "import matplotlib.pyplot as plt\n",
    "import tensorflow as tf\n",
    "from tensorflow.python.framework import ops"
   ]
  },
  {
   "cell_type": "code",
   "execution_count": 3,
   "metadata": {
    "scrolled": true
   },
   "outputs": [
    {
     "name": "stdout",
     "output_type": "stream",
     "text": [
      "  prev_price compound    neg    neu   pos next_price\n",
      "0     307.15   0.7424      0   0.69  0.31     307.26\n",
      "1        463  -0.7003  0.209  0.791     0     467.29\n",
      "2     465.01  -0.1759  0.253  0.747     0     461.57\n",
      "3     464.53        0      0      1     0     465.01\n",
      "4        462        0      0      1     0        465\n"
     ]
    }
   ],
   "source": [
    "# Import Dataset Pickle\n",
    "import pickle\n",
    "import pandas as pd\n",
    "dfNN_raw = pickle.load(open('NN_pickles.p', 'rb'))\n",
    "print dfNN_raw.head(5)\n",
    "# pd.options.display.max_rows = len(dfNN_raw)\n",
    "# dfNN_raw.head(len(dfNN_raw))\n"
   ]
  },
  {
   "cell_type": "code",
   "execution_count": 4,
   "metadata": {},
   "outputs": [],
   "source": [
    "# Python\n",
    "# import tensorflow as tf\n",
    "# hello = tf.constant('Hello, TensorFlow!')\n",
    "# sess = tf.Session()\n",
    "# print(sess.run(hello))"
   ]
  },
  {
   "cell_type": "code",
   "execution_count": 43,
   "metadata": {},
   "outputs": [
    {
     "name": "stdout",
     "output_type": "stream",
     "text": [
      "  prev_price   compound       neg       neu       pos next_price\n",
      "0  -0.205992   0.342107 -0.041533 -0.237517   0.30568   0.468625\n",
      "1   0.468625   -0.46241  0.214909  -0.11359 -0.110987   0.477325\n",
      "2   0.477325   -0.16998  0.268896 -0.167578 -0.110987   0.475247\n",
      "3   0.475247 -0.0718898 -0.041533  0.142851 -0.110987   0.464296\n",
      "4   0.464296 -0.0718898 -0.041533  0.142851 -0.110987   0.477325 <class 'pandas.core.frame.DataFrame'>\n"
     ]
    }
   ],
   "source": [
    "dfNN = (dfNN_raw - dfNN_raw.mean()) / (dfNN_raw.max() - dfNN_raw.min())\n",
    "dfNN.reset_index(inplace=True)\n",
    "del dfNN['index']\n",
    "dfNN['next_price'] = dfNN['prev_price'].shift(-1)\n",
    "dfNN.head(5)\n",
    "print dfNN.head(5), type(dfNN)"
   ]
  },
  {
   "cell_type": "code",
   "execution_count": 44,
   "metadata": {},
   "outputs": [],
   "source": [
    "dfNN = pd.DataFrame(dfNN)\n",
    "dfNN = dfNN.dropna()"
   ]
  },
  {
   "cell_type": "code",
   "execution_count": 45,
   "metadata": {},
   "outputs": [
    {
     "name": "stdout",
     "output_type": "stream",
     "text": [
      "The total series length is: 6426\n",
      "The current configuration gives us 2142 batches of 1 observations each one looking 3 steps in the past\n"
     ]
    }
   ],
   "source": [
    "# Taking straight from LSTM Stock Model\n",
    "num_epochs = 1000\n",
    "\n",
    "batch_size = 1\n",
    "\n",
    "total_series_length = len(dfNN.index)\n",
    "\n",
    "truncated_backprop_length = 3 #The size of the sequence\n",
    "\n",
    "state_size = 12 #The number of neurons\n",
    "\n",
    "num_features = 4\n",
    "num_classes = 1 #[1,0]\n",
    "\n",
    "num_batches = total_series_length//batch_size//truncated_backprop_length\n",
    "\n",
    "min_test_size = 100\n",
    "\n",
    "print('The total series length is: %d' %total_series_length)\n",
    "print('The current configuration gives us %d batches of %d observations each one looking %d steps in the past' \n",
    "      %(num_batches,batch_size,truncated_backprop_length))"
   ]
  },
  {
   "cell_type": "code",
   "execution_count": 46,
   "metadata": {},
   "outputs": [
    {
     "name": "stdout",
     "output_type": "stream",
     "text": [
      "     prev_price   compound        neg         neu          pos next_price\n",
      "0     -0.205992   0.342107  -0.041533   -0.237517      0.30568   0.468625\n",
      "1      0.468625   -0.46241   0.214909    -0.11359    -0.110987   0.477325\n",
      "2      0.477325   -0.16998   0.268896   -0.167578    -0.110987   0.475247\n",
      "3      0.475247 -0.0718898  -0.041533    0.142851    -0.110987   0.464296\n",
      "4      0.464296 -0.0718898  -0.041533    0.142851    -0.110987   0.477325\n",
      "5      0.477325 -0.0146195  -0.041533    -0.17494     0.237131   0.472953\n",
      "6      0.472953 -0.0146195   0.203866   -0.368805      0.18068   0.462435\n",
      "7      0.462435 -0.0718898  -0.041533    0.142851    -0.110987   0.472953\n",
      "8      0.472953 -0.0718898  -0.041533    0.142851    -0.110987   0.472953\n",
      "9      0.472953   0.212845  -0.041533   0.0115631    0.0328301   0.457197\n",
      "10     0.457197 -0.0718898  -0.041533    0.142851    -0.110987   0.457197\n",
      "11     0.457197 -0.0718898  -0.041533    0.142851    -0.110987   0.531216\n",
      "12     0.531216   0.152228  -0.041533    0.034876   0.00729245   0.462435\n",
      "13     0.462435 -0.0718898  -0.041533    0.142851    -0.110987   0.477325\n",
      "14     0.477325 -0.0718898  -0.041533    0.142851    -0.110987   0.455639\n",
      "15     0.455639 -0.0718898  -0.041533    0.142851    -0.110987   0.457197\n",
      "16     0.457197 -0.0718898  -0.041533    0.142851    -0.110987   0.457197\n",
      "17     0.457197   0.265988  0.0750314   -0.419112     0.376916   0.462132\n",
      "18     0.462132 -0.0718898  -0.041533    0.142851    -0.110987   0.475247\n",
      "19     0.475247 -0.0718898  -0.041533    0.142851    -0.110987   0.462435\n",
      "20     0.462435 -0.0718898  -0.041533    0.142851    -0.110987   0.457197\n",
      "21     0.457197 -0.0718898  -0.041533    0.142851    -0.110987   0.542125\n",
      "22     0.542125 -0.0718898  -0.041533    0.142851    -0.110987   0.464296\n",
      "23     0.464296 -0.0718898  -0.041533    0.142851    -0.110987   0.461872\n",
      "24     0.461872   0.312886  -0.041533   -0.252241     0.321809   0.457197\n",
      "25     0.457197 -0.0718898  -0.041533    0.142851    -0.110987   0.462132\n",
      "26     0.462132 -0.0718898  -0.041533    0.142851    -0.110987   0.455639\n",
      "27     0.455639 -0.0718898  -0.041533    0.142851    -0.110987   0.477282\n",
      "28     0.477282 -0.0718898  -0.041533    0.142851    -0.110987   0.462435\n",
      "29     0.462435 -0.0718898  -0.041533    0.142851    -0.110987   0.462132\n",
      "...         ...        ...        ...         ...          ...        ...\n",
      "6396  -0.208763 -0.0718898  -0.041533    0.142851    -0.110987  -0.202053\n",
      "6397  -0.202053  0.0952369  -0.041533   0.0673914   -0.0283258  -0.194262\n",
      "6398  -0.194262  -0.208569    0.11859  -0.0172712    -0.110987  -0.193656\n",
      "6399  -0.193656  0.0914728  -0.041533  0.00788215    0.0368623  -0.193656\n",
      "6400  -0.193656  -0.170231  0.0449701  0.00849565   -0.0585678  -0.193656\n",
      "6401  -0.193656 -0.0718898  -0.041533    0.142851    -0.110987  -0.194522\n",
      "6402  -0.194522  0.0658211  -0.041533   -0.129541       0.1874  -0.194522\n",
      "6403  -0.194522  0.0952369  -0.041533   0.0710723   -0.0323581  -0.194522\n",
      "6404  -0.194522  0.0835264  -0.041533   0.0796613   -0.0417667  -0.194522\n",
      "6405  -0.194522 -0.0503646  -0.041533   0.0937717   -0.0572237  -0.194522\n",
      "6406  -0.194522  0.0793161  -0.041533    0.042238 -0.000772061  -0.194522\n",
      "6407  -0.194522   0.161653   0.060921   -0.157149     0.106083  -0.194522\n",
      "6408  -0.194522   0.034565  -0.041533     0.10052   -0.0646161  -0.194522\n",
      "6409  -0.194522 -0.0718898  -0.041533    0.142851    -0.110987  -0.194522\n",
      "6410  -0.194522   0.195474  -0.041533  -0.0780074     0.130948  -0.194522\n",
      "6411  -0.194522  0.0463313  -0.041533   0.0207656    0.0227494  -0.194522\n",
      "6412  -0.194522   0.189089  -0.041533  -0.0473326    0.0973462  -0.208676\n",
      "6413  -0.208676  0.0401693  -0.041533   0.0121766     0.032158  -0.208676\n",
      "6414  -0.208676   -0.50323   0.404479   -0.340584   -0.0699925  -0.208676\n",
      "6415  -0.208676  -0.341847   0.285461   -0.184142    -0.110987   -0.20188\n",
      "6416   -0.20188  0.0401693  -0.041533   0.0121766     0.032158   -0.20188\n",
      "6417   -0.20188   0.210949  -0.041533   -0.146106     0.205545   -0.20188\n",
      "6418   -0.20188 -0.0718898  -0.041533    0.142851    -0.110987   -0.21742\n",
      "6419   -0.21742   0.127162  -0.041533  -0.0111363    0.0576957   -0.21742\n",
      "6420   -0.21742 -0.0718898  -0.041533    0.142851    -0.110987   -0.21742\n",
      "6421   -0.21742   -0.23871  0.0198167   0.0815018    -0.110987   -0.21742\n",
      "6422   -0.21742 -0.0338025   0.133927   -0.114817   -0.0209334   -0.21742\n",
      "6423   -0.21742  0.0401693  -0.041533  0.00113369    0.0442548   -0.21742\n",
      "6424   -0.21742  0.0401693  -0.041533   0.0121766     0.032158   -0.21742\n",
      "6425   -0.21742 -0.0718898  -0.041533    0.142851    -0.110987   -0.21742\n",
      "\n",
      "[6416 rows x 6 columns]\n"
     ]
    }
   ],
   "source": [
    "# Split Training-Test\n",
    "dfTrain = dfNN[dfNN.index < num_batches*batch_size*truncated_backprop_length]\n",
    "print dfTrain\n",
    "\n",
    "for i in range(min_test_size,len(dfNN.index)):\n",
    "    \n",
    "    if(i % truncated_backprop_length*batch_size == 0):\n",
    "        test_first_idx = len(dfNN.index)-i\n",
    "        break\n",
    "\n",
    "dfTest =  dfNN[dfNN.index >= test_first_idx]"
   ]
  },
  {
   "cell_type": "code",
   "execution_count": 47,
   "metadata": {},
   "outputs": [
    {
     "name": "stdout",
     "output_type": "stream",
     "text": [
      "[[-0.21741998280605976 0.14285147884497984 -0.04153298939890261\n",
      "  -0.11098711498210005]\n",
      " [-0.21741998280605976 0.012176632219212913 -0.04153298939890261\n",
      "  0.03215804630822253]\n",
      " [-0.21741998280605976 0.001133687433936965 -0.04153298939890261\n",
      "  0.04425482050177093]\n",
      " ..., \n",
      " [0.47732506091309879 -0.1675779690077809 0.2688964584538582\n",
      "  -0.11098711498210005]\n",
      " [0.46862451550577483 -0.11359023894643118 0.21490872839250844\n",
      "  -0.11098711498210005]\n",
      " [-0.20599240077852973 -0.23751661931452944 -0.04153298939890261\n",
      "  0.3056795516845666]]\n",
      "[-0.21741998280605976 -0.21741998280605976 -0.21741998280605976 ...,\n",
      " 0.47524731872627507 0.47732506091309879 0.46862451550577483]\n"
     ]
    }
   ],
   "source": [
    "xTrain = dfTrain[['prev_price','neu','neg','pos']].as_matrix()[::-1]\n",
    "yTrain = dfTrain['next_price'].as_matrix()[::-1]\n",
    "\n",
    "print xTrain\n",
    "print yTrain\n",
    "# xTrain = dfTrain[['prev_price','neu','neg','pos']]\n",
    "# yTrain = dfTrain['next_price']"
   ]
  },
  {
   "cell_type": "code",
   "execution_count": 48,
   "metadata": {},
   "outputs": [
    {
     "data": {
      "text/plain": [
       "(6416, 4)"
      ]
     },
     "execution_count": 48,
     "metadata": {},
     "output_type": "execute_result"
    }
   ],
   "source": [
    "xTrain.shape\n"
   ]
  },
  {
   "cell_type": "code",
   "execution_count": 49,
   "metadata": {
    "collapsed": true
   },
   "outputs": [],
   "source": [
    "xTest = dfTest[['prev_price','neu','neg','pos']].as_matrix()\n",
    "yTest = dfTest['next_price'].as_matrix()"
   ]
  },
  {
   "cell_type": "code",
   "execution_count": 50,
   "metadata": {},
   "outputs": [
    {
     "data": {
      "text/plain": [
       "(112,)"
      ]
     },
     "execution_count": 50,
     "metadata": {},
     "output_type": "execute_result"
    }
   ],
   "source": [
    "yTest.shape\n"
   ]
  },
  {
   "cell_type": "code",
   "execution_count": 51,
   "metadata": {},
   "outputs": [
    {
     "data": {
      "image/png": "[encoded data removed]",
      "text/plain": [
       "<matplotlib.figure.Figure at 0x1c2a4323d0>"
      ]
     },
     "metadata": {},
     "output_type": "display_data"
    }
   ],
   "source": [
    "import matplotlib.pyplot as plt\n",
    "import matplotlib.dates as mdates\n",
    "\n",
    "fig,ax = plt.subplots(2,1, figsize = (10,5))\n",
    "ax[0].plot(xTrain[:,0])\n",
    "ax[0].set_title('Train (' +str(len(xTrain))+' data points)')\n",
    "ax[0].set_xlabel('Date')\n",
    "ax[0].xaxis.set_major_locator(mdates.MonthLocator())\n",
    "ax[0].xaxis.set_major_formatter(mdates.DateFormatter('%m.%d.%y'))\n",
    "\n",
    "ax[1].plot(xTest[:,0])\n",
    "ax[1].set_title('Test (' +str(len(xTest))+' data points)')\n",
    "\n",
    "# plt.figure(figsize=(25,5))\n",
    "# plt.plot(xTrain[:,0])\n",
    "# plt.title('Train (' +str(len(xTrain))+' data points)')\n",
    "# plt.xaxis.set_major_locator(mdates.MonthLocator())\n",
    "# plt.xaxis.set_major_formatter(mdates.DateFormatter('%m.%d.%y'))\n",
    "\n",
    "plt.show()\n",
    "\n",
    "# plt.figure(figsize=(10,3))\n",
    "# plt.plot(xTest[:,0])\n",
    "# plt.title('Test (' +str(len(xTest))+' data points)')\n",
    "# plt.show()"
   ]
  },
  {
   "cell_type": "code",
   "execution_count": 52,
   "metadata": {
    "collapsed": true
   },
   "outputs": [],
   "source": [
    "# LOAD DATA^"
   ]
  },
  {
   "cell_type": "code",
   "execution_count": 53,
   "metadata": {
    "collapsed": true
   },
   "outputs": [],
   "source": [
    "# SETUP NET"
   ]
  },
  {
   "cell_type": "code",
   "execution_count": 54,
   "metadata": {
    "collapsed": true
   },
   "outputs": [],
   "source": [
    "tf.reset_default_graph()\n"
   ]
  },
  {
   "cell_type": "code",
   "execution_count": 55,
   "metadata": {
    "collapsed": true
   },
   "outputs": [],
   "source": [
    "batchX_placeholder = tf.placeholder(dtype=tf.float32,shape=[None,truncated_backprop_length,num_features],name='data_ph')\n",
    "batchY_placeholder = tf.placeholder(dtype=tf.float32,shape=[None,truncated_backprop_length,num_classes],name='target_ph')"
   ]
  },
  {
   "cell_type": "code",
   "execution_count": 56,
   "metadata": {
    "collapsed": true
   },
   "outputs": [],
   "source": [
    "# irrelevant if no more classes (random array unif distribution) \n",
    "W2 = tf.Variable(initial_value=np.random.rand(state_size,num_classes),dtype=tf.float32)\n",
    "b2 = tf.Variable(initial_value=np.random.rand(1,num_classes),dtype=tf.float32)"
   ]
  },
  {
   "cell_type": "code",
   "execution_count": 57,
   "metadata": {
    "collapsed": true
   },
   "outputs": [],
   "source": [
    "# unpack and create edge from input to hidden layer\n",
    "labels_series = tf.unstack(batchY_placeholder, axis=1)\n"
   ]
  },
  {
   "cell_type": "code",
   "execution_count": 58,
   "metadata": {
    "collapsed": true
   },
   "outputs": [],
   "source": [
    "# forward pass\n",
    "cell = tf.contrib.rnn.BasicLSTMCell(num_units=state_size)\n",
    "\n",
    "states_series, current_state = tf.nn.dynamic_rnn(cell=cell,inputs=batchX_placeholder,dtype=tf.float32)"
   ]
  },
  {
   "cell_type": "code",
   "execution_count": 59,
   "metadata": {
    "collapsed": true
   },
   "outputs": [],
   "source": [
    "# talk about permutations and how data goes through nodes\n",
    "states_series = tf.transpose(states_series,[1,0,2])\n"
   ]
  },
  {
   "cell_type": "code",
   "execution_count": 60,
   "metadata": {
    "collapsed": true
   },
   "outputs": [],
   "source": [
    "# backwards pass starting point\n",
    "last_state = tf.gather(params=states_series,indices=states_series.get_shape()[0]-1)\n",
    "last_label = tf.gather(params=labels_series,indices=len(labels_series)-1)"
   ]
  },
  {
   "cell_type": "code",
   "execution_count": 61,
   "metadata": {
    "collapsed": true
   },
   "outputs": [],
   "source": [
    "# bp weights and biases\n",
    "weight = tf.Variable(tf.truncated_normal([state_size,num_classes]))\n",
    "bias = tf.Variable(tf.constant(0.1,shape=[num_classes]))"
   ]
  },
  {
   "cell_type": "code",
   "execution_count": 62,
   "metadata": {},
   "outputs": [],
   "source": [
    "prediction = tf.matmul(last_state,weight) + bias\n",
    "loss = tf.reduce_mean(tf.squared_difference(last_label,prediction))\n",
    "train_step = tf.train.AdamOptimizer(learning_rate=0.001).minimize(loss)\n"
   ]
  },
  {
   "cell_type": "code",
   "execution_count": 64,
   "metadata": {},
   "outputs": [
    {
     "name": "stdout",
     "output_type": "stream",
     "text": [
      "Epoch 0\n",
      "Step 0 - Loss: 0.065887\n",
      "Step 50 - Loss: 0.006831\n",
      "Step 100 - Loss: 0.004447\n",
      "Step 150 - Loss: 0.000008\n",
      "Step 200 - Loss: 0.000014\n",
      "Step 250 - Loss: 0.000220\n",
      "Step 300 - Loss: 0.000220\n",
      "Step 350 - Loss: 0.000013\n",
      "Step 400 - Loss: 0.000634\n",
      "Step 450 - Loss: 0.000017\n",
      "Step 500 - Loss: 0.000057\n",
      "Step 550 - Loss: 0.000026\n",
      "Step 600 - Loss: 0.000003\n",
      "Step 650 - Loss: 0.000133\n",
      "Step 700 - Loss: 0.000099\n",
      "Step 750 - Loss: 0.000008\n",
      "Step 800 - Loss: 0.000006\n",
      "Step 850 - Loss: 0.000007\n",
      "Step 900 - Loss: 0.000078\n",
      "Step 950 - Loss: 0.000068\n",
      "Step 1000 - Loss: 0.000079\n",
      "Step 1050 - Loss: 0.000314\n",
      "Step 1100 - Loss: 0.000015\n",
      "Step 1150 - Loss: 0.000064\n",
      "Step 1200 - Loss: 0.000231\n",
      "Step 1250 - Loss: 0.000030\n",
      "Step 1300 - Loss: 0.000164\n",
      "Step 1350 - Loss: 0.000030\n",
      "Step 1400 - Loss: 0.000089\n",
      "Step 1450 - Loss: 0.000112\n",
      "Step 1500 - Loss: 0.000831\n",
      "Step 1550 - Loss: 0.000439\n",
      "Step 1600 - Loss: 0.000174\n",
      "Step 1650 - Loss: 0.000002\n",
      "Step 1700 - Loss: 0.000020\n",
      "Step 1750 - Loss: 0.000247\n",
      "Step 1800 - Loss: 0.000083\n",
      "Step 1850 - Loss: 0.000012\n",
      "Step 1900 - Loss: 0.000001\n",
      "Step 1950 - Loss: 0.000037\n",
      "Step 2000 - Loss: 0.001363\n",
      "Step 2050 - Loss: 0.000001\n",
      "Step 2100 - Loss: 0.000007\n"
     ]
    },
    {
     "ename": "ValueError",
     "evalue": "cannot reshape array of size 8 into shape (1,3,4)",
     "output_type": "error",
     "traceback": [
      "\u001b[0;31m---------------------------------------------------------------------------\u001b[0m",
      "\u001b[0;31mValueError\u001b[0m                                Traceback (most recent call last)",
      "\u001b[0;32m<ipython-input-64-50f7d5af752a>\u001b[0m in \u001b[0;36m<module>\u001b[0;34m()\u001b[0m\n\u001b[1;32m     15\u001b[0m \u001b[0;34m\u001b[0m\u001b[0m\n\u001b[1;32m     16\u001b[0m \u001b[0;34m\u001b[0m\u001b[0m\n\u001b[0;32m---> 17\u001b[0;31m             \u001b[0mbatchX\u001b[0m \u001b[0;34m=\u001b[0m \u001b[0mxTrain\u001b[0m\u001b[0;34m[\u001b[0m\u001b[0mstart_idx\u001b[0m\u001b[0;34m:\u001b[0m\u001b[0mend_idx\u001b[0m\u001b[0;34m,\u001b[0m\u001b[0;34m:\u001b[0m\u001b[0;34m]\u001b[0m\u001b[0;34m.\u001b[0m\u001b[0mreshape\u001b[0m\u001b[0;34m(\u001b[0m\u001b[0mbatch_size\u001b[0m\u001b[0;34m,\u001b[0m\u001b[0mtruncated_backprop_length\u001b[0m\u001b[0;34m,\u001b[0m\u001b[0mnum_features\u001b[0m\u001b[0;34m)\u001b[0m\u001b[0;34m\u001b[0m\u001b[0m\n\u001b[0m\u001b[1;32m     18\u001b[0m             \u001b[0mbatchY\u001b[0m \u001b[0;34m=\u001b[0m \u001b[0myTrain\u001b[0m\u001b[0;34m[\u001b[0m\u001b[0mstart_idx\u001b[0m\u001b[0;34m:\u001b[0m\u001b[0mend_idx\u001b[0m\u001b[0;34m]\u001b[0m\u001b[0;34m.\u001b[0m\u001b[0mreshape\u001b[0m\u001b[0;34m(\u001b[0m\u001b[0mbatch_size\u001b[0m\u001b[0;34m,\u001b[0m\u001b[0mtruncated_backprop_length\u001b[0m\u001b[0;34m,\u001b[0m\u001b[0;36m1\u001b[0m\u001b[0;34m)\u001b[0m\u001b[0;34m\u001b[0m\u001b[0m\n\u001b[1;32m     19\u001b[0m \u001b[0;34m\u001b[0m\u001b[0m\n",
      "\u001b[0;31mValueError\u001b[0m: cannot reshape array of size 8 into shape (1,3,4)"
     ]
    }
   ],
   "source": [
    "loss_list = []\n",
    "test_pred_list = []\n",
    "\n",
    "with tf.Session() as sess:\n",
    "    \n",
    "    tf.global_variables_initializer().run()\n",
    "    num_epochs = 1\n",
    "    for epoch_idx in range(num_epochs):\n",
    "                \n",
    "        print('Epoch %d' %epoch_idx)\n",
    "        \n",
    "        for batch_idx in range(num_batches):\n",
    "            start_idx = batch_idx * truncated_backprop_length\n",
    "            end_idx = start_idx + truncated_backprop_length * batch_size\n",
    "        \n",
    "            \n",
    "            batchX = xTrain[start_idx:end_idx,:].reshape(batch_size,truncated_backprop_length,num_features)\n",
    "            batchY = yTrain[start_idx:end_idx].reshape(batch_size,truncated_backprop_length,1)\n",
    "                \n",
    "            #print('IDXs',start_idx,end_idx)\n",
    "            #print('X',batchX.shape,batchX)\n",
    "            #print('Y',batchX.shape,batchY)\n",
    "            \n",
    "            feed = {batchX_placeholder : batchX, batchY_placeholder : batchY}\n",
    "            \n",
    "            #TRAIN!\n",
    "            _loss,_train_step,_pred,_last_label,_prediction = sess.run(\n",
    "                fetches=[loss,train_step,prediction,last_label,prediction],\n",
    "                feed_dict = feed\n",
    "            )\n",
    "            \n",
    "            loss_list.append(_loss)\n",
    "            \n",
    "#             if type(loss) != float(1):\n",
    "#                 print _loss,_train_step,_pred,_last_label,_prediction\n",
    "            \n",
    "           \n",
    "            \n",
    "            if(batch_idx % 50 == 0):\n",
    "                print('Step %d - Loss: %.6f' %(batch_idx,_loss))\n",
    "                \n",
    "    #TEST\n",
    "    \n",
    "    \n",
    "    for test_idx in range(len(xTest) - truncated_backprop_length):\n",
    "        \n",
    "        testBatchX = xTest[test_idx:test_idx+truncated_backprop_length,:].reshape((1,truncated_backprop_length,num_features))        \n",
    "        testBatchY = yTest[test_idx:test_idx+truncated_backprop_length].reshape((1,truncated_backprop_length,1))\n",
    "\n",
    "        \n",
    "        #_current_state = np.zeros((batch_size,state_size))\n",
    "        feed = {batchX_placeholder : testBatchX,\n",
    "            batchY_placeholder : testBatchY}\n",
    "\n",
    "        #Test_pred contains 'window_size' predictions, we want the last one\n",
    "        _last_state,_last_label,test_pred = sess.run([last_state,last_label,prediction],feed_dict=feed)\n",
    "        test_pred_list.append(test_pred[-1][0]) #The last one\n",
    "        "
   ]
  },
  {
   "cell_type": "code",
   "execution_count": 25,
   "metadata": {},
   "outputs": [
    {
     "data": {
      "image/png": "[encoded data removed]",
      "text/plain": [
       "<matplotlib.figure.Figure at 0x1c2a40b790>"
      ]
     },
     "metadata": {},
     "output_type": "display_data"
    }
   ],
   "source": [
    "plt.figure(figsize=(21,7))\n",
    "plt.plot(yTest,label='Price',color='blue')\n",
    "plt.plot(test_pred_list,label='Predicted',color='red')\n",
    "plt.title('Price vs Predicted')\n",
    "plt.legend(loc='upper left')\n",
    "plt.show()"
   ]
  },
  {
   "cell_type": "code",
   "execution_count": null,
   "metadata": {
    "collapsed": true
   },
   "outputs": [],
   "source": []
  },
  {
   "cell_type": "code",
   "execution_count": null,
   "metadata": {
    "collapsed": true
   },
   "outputs": [],
   "source": []
  }
 ],
 "metadata": {
  "kernelspec": {
   "display_name": "Python 2",
   "language": "python",
   "name": "python2"
  },
  "language_info": {
   "codemirror_mode": {
    "name": "ipython",
    "version": 2
   },
   "file_extension": ".py",
   "mimetype": "text/x-python",
   "name": "python",
   "nbconvert_exporter": "python",
   "pygments_lexer": "ipython2",
   "version": "2.7.14"
  }
 },
 "nbformat": 4,
 "nbformat_minor": 2
}
