{
 "cells": [
  {
   "cell_type": "markdown",
   "metadata": {},
   "source": [
    "### Neural Net with TensorFlow"
   ]
  },
  {
   "cell_type": "code",
   "execution_count": null,
   "metadata": {
    "collapsed": true
   },
   "outputs": [],
   "source": [
    "# Install tensorflow and protobuf -- run once!\n",
    "# anaconda install instructions: https://www.tensorflow.org/install/install_mac\n",
    "\n",
    "# # For chase's macbook, the following shell commands worked (take out ! if in terminal)\n",
    "# !conda create -n tensorflow python=2.7\n",
    "# !source activate tensorflow\n",
    "# !pip install --ignore-installed --upgrade https://storage.googleapis.com/tensorflow/mac/cpu/tensorflow-1.4.0-py2-none-any.whl\n",
    "\n",
    "# Remember to activate container when you want to use package"
   ]
  },
  {
   "cell_type": "code",
   "execution_count": 47,
   "metadata": {
    "collapsed": true
   },
   "outputs": [],
   "source": [
    "import sys, csv, json\n",
    "import requests\n",
    "import numpy as np\n",
    "import pandas as pd\n",
    "import csv, json\n",
    "import pandas as pd\n",
    "from nltk.sentiment.vader import SentimentIntensityAnalyzer\n",
    "import unicodedata\n",
    "import math\n",
    "import matplotlib.pyplot as plt\n",
    "import tensorflow as tf\n",
    "from tensorflow.python.framework import ops"
   ]
  },
  {
   "cell_type": "code",
   "execution_count": 48,
   "metadata": {
    "scrolled": true
   },
   "outputs": [
    {
     "name": "stdout",
     "output_type": "stream",
     "text": [
      "  prev_price compound    neg    neu   pos next_price\n",
      "0     307.15   0.7424      0   0.69  0.31     307.26\n",
      "1        463  -0.7003  0.209  0.791     0     467.29\n",
      "2     465.01  -0.1759  0.253  0.747     0     461.57\n",
      "3     464.53        0      0      1     0     465.01\n",
      "4        462        0      0      1     0        465\n"
     ]
    }
   ],
   "source": [
    "# Import Dataset Pickle\n",
    "import pickle\n",
    "import pandas as pd\n",
    "dfNN_raw = pickle.load(open('NN_pickles.p', 'rb'))\n",
    "print dfNN_raw.head(5)\n",
    "# pd.options.display.max_rows = len(dfNN_raw)\n",
    "# dfNN_raw.head(len(dfNN_raw))\n"
   ]
  },
  {
   "cell_type": "code",
   "execution_count": 49,
   "metadata": {
    "collapsed": true
   },
   "outputs": [],
   "source": [
    "# Python\n",
    "# import tensorflow as tf\n",
    "# hello = tf.constant('Hello, TensorFlow!')\n",
    "# sess = tf.Session()\n",
    "# print(sess.run(hello))"
   ]
  },
  {
   "cell_type": "code",
   "execution_count": 50,
   "metadata": {},
   "outputs": [
    {
     "name": "stdout",
     "output_type": "stream",
     "text": [
      "  prev_price   compound       neg       neu       pos next_price\n",
      "0  -0.205992   0.342107 -0.041533 -0.237517   0.30568  -0.205298\n",
      "1   0.468625   -0.46241  0.214909  -0.11359 -0.110987   0.487412\n",
      "2   0.477325   -0.16998  0.268896 -0.167578 -0.110987   0.462653\n",
      "3   0.475247 -0.0718898 -0.041533  0.142851 -0.110987   0.477543\n",
      "4   0.464296 -0.0718898 -0.041533  0.142851 -0.110987     0.4775 <class 'pandas.core.frame.DataFrame'>\n"
     ]
    }
   ],
   "source": [
    "dfNN = (dfNN_raw - dfNN_raw.mean()) / (dfNN_raw.max() - dfNN_raw.min())\n",
    "dfNN.reset_index(inplace=True)\n",
    "del dfNN['index']\n",
    "dfNN.head(5)\n",
    "print dfNN.head(5), type(dfNN)"
   ]
  },
  {
   "cell_type": "code",
   "execution_count": 51,
   "metadata": {
    "collapsed": true
   },
   "outputs": [],
   "source": [
    "dfNN = pd.DataFrame(dfNN)\n",
    "dfNN = dfNN.dropna()"
   ]
  },
  {
   "cell_type": "code",
   "execution_count": 52,
   "metadata": {},
   "outputs": [
    {
     "name": "stdout",
     "output_type": "stream",
     "text": [
      "The total series length is: 6432\n",
      "The current configuration gives us 2144 batches of 1 observations each one looking 3 steps in the past\n"
     ]
    }
   ],
   "source": [
    "# Taking straight from LSTM Stock Model\n",
    "num_epochs = 1000\n",
    "\n",
    "batch_size = 1\n",
    "\n",
    "total_series_length = len(dfNN.index)\n",
    "\n",
    "truncated_backprop_length = 3 #The size of the sequence\n",
    "\n",
    "state_size = 12 #The number of neurons\n",
    "\n",
    "num_features = 4\n",
    "num_classes = 1 #[1,0]\n",
    "\n",
    "num_batches = total_series_length//batch_size//truncated_backprop_length\n",
    "\n",
    "min_test_size = 100\n",
    "\n",
    "print('The total series length is: %d' %total_series_length)\n",
    "print('The current configuration gives us %d batches of %d observations each one looking %d steps in the past' \n",
    "      %(num_batches,batch_size,truncated_backprop_length))"
   ]
  },
  {
   "cell_type": "code",
   "execution_count": 53,
   "metadata": {},
   "outputs": [
    {
     "name": "stdout",
     "output_type": "stream",
     "text": [
      "     prev_price    compound        neg         neu          pos next_price\n",
      "0     -0.205992    0.342107  -0.041533   -0.237517      0.30568  -0.205298\n",
      "1      0.468625    -0.46241   0.214909    -0.11359    -0.110987   0.487412\n",
      "2      0.477325    -0.16998   0.268896   -0.167578    -0.110987   0.462653\n",
      "3      0.475247  -0.0718898  -0.041533    0.142851    -0.110987   0.477543\n",
      "4      0.464296  -0.0718898  -0.041533    0.142851    -0.110987     0.4775\n",
      "5      0.477325  -0.0146195  -0.041533    -0.17494     0.237131   0.462653\n",
      "6      0.472953  -0.0146195   0.203866   -0.368805      0.18068   0.455857\n",
      "7      0.462435  -0.0718898  -0.041533    0.142851    -0.110987   0.451701\n",
      "8      0.472953  -0.0718898  -0.041533    0.142851    -0.110987   0.455857\n",
      "9      0.472953    0.212845  -0.041533   0.0115631    0.0328301   0.455857\n",
      "10     0.457197  -0.0718898  -0.041533    0.142851    -0.110987    0.46209\n",
      "11     0.457197  -0.0718898  -0.041533    0.142851    -0.110987    0.46209\n",
      "12     0.531216    0.152228  -0.041533    0.034876   0.00729245   0.520483\n",
      "13     0.462435  -0.0718898  -0.041533    0.142851    -0.110987   0.451701\n",
      "14     0.477325  -0.0718898  -0.041533    0.142851    -0.110987   0.462653\n",
      "15     0.455639  -0.0718898  -0.041533    0.142851    -0.110987   0.475465\n",
      "16     0.457197  -0.0718898  -0.041533    0.142851    -0.110987    0.46209\n",
      "17     0.457197    0.265988  0.0750314   -0.419112     0.376916    0.46209\n",
      "18     0.462132  -0.0718898  -0.041533    0.142851    -0.110987   0.457415\n",
      "19     0.475247  -0.0718898  -0.041533    0.142851    -0.110987   0.477543\n",
      "20     0.462435  -0.0718898  -0.041533    0.142851    -0.110987   0.451701\n",
      "21     0.457197  -0.0718898  -0.041533    0.142851    -0.110987    0.46209\n",
      "22     0.542125  -0.0718898  -0.041533    0.142851    -0.110987   0.538144\n",
      "23     0.464296  -0.0718898  -0.041533    0.142851    -0.110987     0.4775\n",
      "24     0.461872    0.312886  -0.041533   -0.252241     0.321809   0.455857\n",
      "25     0.457197  -0.0718898  -0.041533    0.142851    -0.110987    0.46209\n",
      "26     0.462132  -0.0718898  -0.041533    0.142851    -0.110987   0.457415\n",
      "27     0.455639  -0.0718898  -0.041533    0.142851    -0.110987   0.475465\n",
      "28     0.477282  -0.0718898  -0.041533    0.142851    -0.110987    0.47724\n",
      "29     0.462435  -0.0718898  -0.041533    0.142851    -0.110987   0.451701\n",
      "...         ...         ...        ...         ...          ...        ...\n",
      "6402  -0.194522   0.0658211  -0.041533   -0.129541       0.1874  -0.208458\n",
      "6403  -0.194522   0.0952369  -0.041533   0.0710723   -0.0323581  -0.208458\n",
      "6404  -0.194522   0.0835264  -0.041533   0.0796613   -0.0417667  -0.208458\n",
      "6405  -0.194522  -0.0503646  -0.041533   0.0937717   -0.0572237  -0.208458\n",
      "6406  -0.194522   0.0793161  -0.041533    0.042238 -0.000772061  -0.208458\n",
      "6407  -0.194522    0.161653   0.060921   -0.157149     0.106083  -0.208458\n",
      "6408  -0.194522    0.034565  -0.041533     0.10052   -0.0646161  -0.208458\n",
      "6409  -0.194522  -0.0718898  -0.041533    0.142851    -0.110987  -0.208458\n",
      "6410  -0.194522    0.195474  -0.041533  -0.0780074     0.130948  -0.208458\n",
      "6411  -0.194522   0.0463313  -0.041533   0.0207656    0.0227494  -0.208458\n",
      "6412  -0.194522    0.189089  -0.041533  -0.0473326    0.0973462  -0.208458\n",
      "6413  -0.208676   0.0401693  -0.041533   0.0121766     0.032158  -0.201662\n",
      "6414  -0.208676    -0.50323   0.404479   -0.340584   -0.0699925  -0.201662\n",
      "6415  -0.208676   -0.341847   0.285461   -0.184142    -0.110987  -0.201662\n",
      "6416   -0.20188   0.0401693  -0.041533   0.0121766     0.032158  -0.217202\n",
      "6417   -0.20188    0.210949  -0.041533   -0.146106     0.205545  -0.217202\n",
      "6418   -0.20188  -0.0718898  -0.041533    0.142851    -0.110987  -0.217202\n",
      "6419   -0.21742    0.127162  -0.041533  -0.0111363    0.0576957   -0.24378\n",
      "6420   -0.21742  -0.0718898  -0.041533    0.142851    -0.110987   -0.24378\n",
      "6421   -0.21742    -0.23871  0.0198167   0.0815018    -0.110987   -0.24378\n",
      "6422   -0.21742  -0.0338025   0.133927   -0.114817   -0.0209334   -0.24378\n",
      "6423   -0.21742   0.0401693  -0.041533  0.00113369    0.0442548   -0.24378\n",
      "6424   -0.21742   0.0401693  -0.041533   0.0121766     0.032158   -0.24378\n",
      "6425   -0.21742  -0.0718898  -0.041533    0.142851    -0.110987   -0.24378\n",
      "6426   -0.21742   0.0560344  -0.041533   0.0661644   -0.0269817   -0.24378\n",
      "6427   -0.21742     0.20685  -0.041533  -0.0835289     0.136997   -0.24378\n",
      "6428   -0.21742  -0.0718898  -0.041533    0.142851    -0.110987   -0.24378\n",
      "6429   -0.21742 -0.00879205 -0.0188336   0.0845693   -0.0713366   -0.24378\n",
      "6430  -0.243998  -0.0718898  -0.041533    0.142851    -0.110987  -0.245338\n",
      "6431  -0.243998  -0.0975415   0.106933  -0.0939583   -0.0142129  -0.245338\n",
      "\n",
      "[6427 rows x 6 columns]\n"
     ]
    }
   ],
   "source": [
    "# Split Training-Test\n",
    "dfTrain = dfNN[dfNN.index < num_batches*batch_size*truncated_backprop_length]\n",
    "print dfTrain\n",
    "\n",
    "for i in range(min_test_size,len(dfNN.index)):\n",
    "    \n",
    "    if(i % truncated_backprop_length*batch_size == 0):\n",
    "        test_first_idx = len(dfNN.index)-i\n",
    "        break\n",
    "\n",
    "dfTest =  dfNN[dfNN.index >= test_first_idx]"
   ]
  },
  {
   "cell_type": "code",
   "execution_count": 54,
   "metadata": {},
   "outputs": [
    {
     "name": "stdout",
     "output_type": "stream",
     "text": [
      "[[-0.24399776827917891 -0.0939583371059405 0.10693326826980906\n",
      "  -0.014212921433712958]\n",
      " [-0.24399776827917891 0.14285147884497984 -0.04153298939890261\n",
      "  -0.11098711498210005]\n",
      " [-0.21741998280605976 0.0845692702560228 -0.01883360289583513\n",
      "  -0.07133657734769144]\n",
      " ..., \n",
      " [0.47732506091309879 -0.1675779690077809 0.2688964584538582\n",
      "  -0.11098711498210005]\n",
      " [0.46862451550577483 -0.11359023894643118 0.21490872839250844\n",
      "  -0.11098711498210005]\n",
      " [-0.20599240077852973 -0.23751661931452944 -0.04153298939890261\n",
      "  0.3056795516845666]]\n",
      "[-0.245338122498907 -0.245338122498907 -0.24377981585878922 ...,\n",
      " 0.46265252766125237 0.487412288720901 -0.20529829910699288]\n"
     ]
    }
   ],
   "source": [
    "xTrain = dfTrain[['prev_price','neu','neg','pos']].as_matrix()[::-1]\n",
    "yTrain = dfTrain['next_price'].as_matrix()[::-1]\n",
    "\n",
    "print xTrain\n",
    "print yTrain\n",
    "# xTrain = dfTrain[['prev_price','neu','neg','pos']]\n",
    "# yTrain = dfTrain['next_price']"
   ]
  },
  {
   "cell_type": "code",
   "execution_count": 55,
   "metadata": {},
   "outputs": [
    {
     "data": {
      "text/plain": [
       "(6427, 4)"
      ]
     },
     "execution_count": 55,
     "metadata": {},
     "output_type": "execute_result"
    }
   ],
   "source": [
    "xTrain.shape\n"
   ]
  },
  {
   "cell_type": "code",
   "execution_count": 56,
   "metadata": {
    "collapsed": true
   },
   "outputs": [],
   "source": [
    "xTest = dfTest[['prev_price','neu','neg','pos']].as_matrix()\n",
    "yTest = dfTest['next_price'].as_matrix()"
   ]
  },
  {
   "cell_type": "code",
   "execution_count": 57,
   "metadata": {},
   "outputs": [
    {
     "data": {
      "text/plain": [
       "(107,)"
      ]
     },
     "execution_count": 57,
     "metadata": {},
     "output_type": "execute_result"
    }
   ],
   "source": [
    "yTest.shape\n"
   ]
  },
  {
   "cell_type": "code",
   "execution_count": 58,
   "metadata": {},
   "outputs": [
    {
     "data": {
      "image/png": "[encoded data removed]",
      "text/plain": [
       "<matplotlib.figure.Figure at 0x124839310>"
      ]
     },
     "metadata": {},
     "output_type": "display_data"
    }
   ],
   "source": [
    "import matplotlib.pyplot as plt\n",
    "import matplotlib.dates as mdates\n",
    "\n",
    "fig,ax = plt.subplots(2,1, figsize = (10,5))\n",
    "ax[0].plot(xTrain[:,0])\n",
    "ax[0].set_title('Train (' +str(len(xTrain))+' data points)')\n",
    "ax[0].set_xlabel('Date')\n",
    "ax[0].xaxis.set_major_locator(mdates.MonthLocator())\n",
    "ax[0].xaxis.set_major_formatter(mdates.DateFormatter('%m.%d.%y'))\n",
    "\n",
    "ax[1].plot(xTest[:,0])\n",
    "ax[1].set_title('Test (' +str(len(xTest))+' data points)')\n",
    "\n",
    "# plt.figure(figsize=(25,5))\n",
    "# plt.plot(xTrain[:,0])\n",
    "# plt.title('Train (' +str(len(xTrain))+' data points)')\n",
    "# plt.xaxis.set_major_locator(mdates.MonthLocator())\n",
    "# plt.xaxis.set_major_formatter(mdates.DateFormatter('%m.%d.%y'))\n",
    "\n",
    "plt.show()\n",
    "\n",
    "# plt.figure(figsize=(10,3))\n",
    "# plt.plot(xTest[:,0])\n",
    "# plt.title('Test (' +str(len(xTest))+' data points)')\n",
    "# plt.show()"
   ]
  },
  {
   "cell_type": "code",
   "execution_count": 59,
   "metadata": {
    "collapsed": true
   },
   "outputs": [],
   "source": [
    "# LOAD DATA^"
   ]
  },
  {
   "cell_type": "code",
   "execution_count": 60,
   "metadata": {
    "collapsed": true
   },
   "outputs": [],
   "source": [
    "# SETUP NET"
   ]
  },
  {
   "cell_type": "code",
   "execution_count": 61,
   "metadata": {
    "collapsed": true
   },
   "outputs": [],
   "source": [
    "tf.reset_default_graph()\n"
   ]
  },
  {
   "cell_type": "code",
   "execution_count": 62,
   "metadata": {
    "collapsed": true
   },
   "outputs": [],
   "source": [
    "batchX_placeholder = tf.placeholder(dtype=tf.float32,shape=[None,truncated_backprop_length,num_features],name='data_ph')\n",
    "batchY_placeholder = tf.placeholder(dtype=tf.float32,shape=[None,truncated_backprop_length,num_classes],name='target_ph')"
   ]
  },
  {
   "cell_type": "code",
   "execution_count": 63,
   "metadata": {
    "collapsed": true
   },
   "outputs": [],
   "source": [
    "# irrelevant if no more classes (random array unif distribution) \n",
    "W2 = tf.Variable(initial_value=np.random.rand(state_size,num_classes),dtype=tf.float32)\n",
    "b2 = tf.Variable(initial_value=np.random.rand(1,num_classes),dtype=tf.float32)"
   ]
  },
  {
   "cell_type": "code",
   "execution_count": 64,
   "metadata": {
    "collapsed": true
   },
   "outputs": [],
   "source": [
    "# unpack and create edge from input to hidden layer\n",
    "labels_series = tf.unstack(batchY_placeholder, axis=1)\n"
   ]
  },
  {
   "cell_type": "code",
   "execution_count": 65,
   "metadata": {
    "collapsed": true
   },
   "outputs": [],
   "source": [
    "# forward pass\n",
    "cell = tf.contrib.rnn.BasicLSTMCell(num_units=state_size)\n",
    "\n",
    "states_series, current_state = tf.nn.dynamic_rnn(cell=cell,inputs=batchX_placeholder,dtype=tf.float32)"
   ]
  },
  {
   "cell_type": "code",
   "execution_count": 66,
   "metadata": {
    "collapsed": true
   },
   "outputs": [],
   "source": [
    "# talk about permutations and how data goes through nodes\n",
    "states_series = tf.transpose(states_series,[1,0,2])\n"
   ]
  },
  {
   "cell_type": "code",
   "execution_count": 67,
   "metadata": {
    "collapsed": true
   },
   "outputs": [],
   "source": [
    "# backwards pass starting point\n",
    "last_state = tf.gather(params=states_series,indices=states_series.get_shape()[0]-1)\n",
    "last_label = tf.gather(params=labels_series,indices=len(labels_series)-1)"
   ]
  },
  {
   "cell_type": "code",
   "execution_count": 68,
   "metadata": {
    "collapsed": true
   },
   "outputs": [],
   "source": [
    "# bp weights and biases\n",
    "weight = tf.Variable(tf.truncated_normal([state_size,num_classes]))\n",
    "bias = tf.Variable(tf.constant(0.1,shape=[num_classes]))"
   ]
  },
  {
   "cell_type": "code",
   "execution_count": 69,
   "metadata": {
    "collapsed": true
   },
   "outputs": [],
   "source": [
    "prediction = tf.matmul(last_state,weight) + bias\n",
    "loss = tf.reduce_mean(tf.squared_difference(last_label,prediction))\n",
    "train_step = tf.train.AdamOptimizer(learning_rate=0.001).minimize(loss)\n"
   ]
  },
  {
   "cell_type": "code",
   "execution_count": 70,
   "metadata": {},
   "outputs": [
    {
     "name": "stdout",
     "output_type": "stream",
     "text": [
      "Epoch 0\n",
      "Step 0 - Loss: 0.076313\n",
      "Step 50 - Loss: 0.000248\n",
      "Step 100 - Loss: 0.000053\n",
      "Step 150 - Loss: 0.000078\n",
      "Step 200 - Loss: 0.000002\n",
      "Step 250 - Loss: 0.000053\n",
      "Step 300 - Loss: 0.000044\n",
      "Step 350 - Loss: 0.000002\n",
      "Step 400 - Loss: 0.000004\n",
      "Step 450 - Loss: 0.000092\n",
      "Step 500 - Loss: 0.004938\n",
      "Step 550 - Loss: 0.001540\n",
      "Step 600 - Loss: 0.000002\n",
      "Step 650 - Loss: 0.000183\n",
      "Step 700 - Loss: 0.000012\n",
      "Step 750 - Loss: 0.000000\n",
      "Step 800 - Loss: 0.000002\n",
      "Step 850 - Loss: 0.000081\n",
      "Step 900 - Loss: 0.000039\n",
      "Step 950 - Loss: 0.000905\n",
      "Step 1000 - Loss: 0.000024\n",
      "Step 1050 - Loss: 0.000026\n",
      "Step 1100 - Loss: 0.000466\n",
      "Step 1150 - Loss: 0.000044\n",
      "Step 1200 - Loss: 0.000492\n",
      "Step 1250 - Loss: 0.000006\n",
      "Step 1300 - Loss: 0.000003\n",
      "Step 1350 - Loss: 0.000453\n",
      "Step 1400 - Loss: 0.000002\n",
      "Step 1450 - Loss: 0.000299\n",
      "Step 1500 - Loss: 0.000592\n",
      "Step 1550 - Loss: 0.004701\n",
      "Step 1600 - Loss: 0.001776\n",
      "Step 1650 - Loss: 0.000077\n",
      "Step 1700 - Loss: 0.000206\n",
      "Step 1750 - Loss: 0.003067\n",
      "Step 1800 - Loss: 0.001073\n",
      "Step 1850 - Loss: 0.000015\n",
      "Step 1900 - Loss: 0.000138\n",
      "Step 1950 - Loss: 0.000703\n",
      "Step 2000 - Loss: 0.002658\n",
      "Step 2050 - Loss: 0.004498\n",
      "Step 2100 - Loss: 0.000136\n",
      "[[-0.24399776827917891 -0.0939583371059405 0.10693326826980906\n",
      "  -0.014212921433712958]\n",
      " [-0.24399776827917891 0.14285147884497984 -0.04153298939890261\n",
      "  -0.11098711498210005]\n",
      " [-0.21741998280605976 0.0845692702560228 -0.01883360289583513\n",
      "  -0.07133657734769144]\n",
      " ..., \n",
      " [0.47732506091309879 -0.1675779690077809 0.2688964584538582\n",
      "  -0.11098711498210005]\n",
      " [0.46862451550577483 -0.11359023894643118 0.21490872839250844\n",
      "  -0.11098711498210005]\n",
      " [-0.20599240077852973 -0.23751661931452944 -0.04153298939890261\n",
      "  0.3056795516845666]] 6426 6429 1 3 4\n",
      "[[-0.24399776827917891 -0.0939583371059405 0.10693326826980906\n",
      "  -0.014212921433712958]\n",
      " [-0.24399776827917891 0.14285147884497984 -0.04153298939890261\n",
      "  -0.11098711498210005]\n",
      " [-0.21741998280605976 0.0845692702560228 -0.01883360289583513\n",
      "  -0.07133657734769144]\n",
      " ..., \n",
      " [0.47732506091309879 -0.1675779690077809 0.2688964584538582\n",
      "  -0.11098711498210005]\n",
      " [0.46862451550577483 -0.11359023894643118 0.21490872839250844\n",
      "  -0.11098711498210005]\n",
      " [-0.20599240077852973 -0.23751661931452944 -0.04153298939890261\n",
      "  0.3056795516845666]] 6429 6432 1 3 4\n",
      "Epoch 1\n",
      "Step 0 - Loss: 0.043700\n",
      "Step 50 - Loss: 0.000459\n",
      "Step 100 - Loss: 0.000003\n",
      "Step 150 - Loss: 0.000005\n",
      "Step 200 - Loss: 0.000001\n",
      "Step 250 - Loss: 0.000002\n",
      "Step 300 - Loss: 0.000001\n",
      "Step 350 - Loss: 0.000005\n",
      "Step 400 - Loss: 0.000120\n",
      "Step 450 - Loss: 0.000080\n",
      "Step 500 - Loss: 0.005499\n",
      "Step 550 - Loss: 0.001103\n",
      "Step 600 - Loss: 0.000019\n",
      "Step 650 - Loss: 0.000027\n",
      "Step 700 - Loss: 0.000113\n",
      "Step 750 - Loss: 0.000000\n",
      "Step 800 - Loss: 0.000001\n",
      "Step 850 - Loss: 0.000051\n",
      "Step 900 - Loss: 0.000010\n",
      "Step 950 - Loss: 0.000847\n",
      "Step 1000 - Loss: 0.000000\n",
      "Step 1050 - Loss: 0.000118\n",
      "Step 1100 - Loss: 0.000439\n",
      "Step 1150 - Loss: 0.000006\n",
      "Step 1200 - Loss: 0.000078\n",
      "Step 1250 - Loss: 0.000000\n",
      "Step 1300 - Loss: 0.000056\n",
      "Step 1350 - Loss: 0.000255\n",
      "Step 1400 - Loss: 0.000006\n",
      "Step 1450 - Loss: 0.000266\n",
      "Step 1500 - Loss: 0.000039\n",
      "Step 1550 - Loss: 0.001401\n",
      "Step 1600 - Loss: 0.001232\n",
      "Step 1650 - Loss: 0.000116\n",
      "Step 1700 - Loss: 0.000126\n",
      "Step 1750 - Loss: 0.002798\n",
      "Step 1800 - Loss: 0.000782\n",
      "Step 1850 - Loss: 0.000023\n",
      "Step 1900 - Loss: 0.000172\n",
      "Step 1950 - Loss: 0.000769\n",
      "Step 2000 - Loss: 0.003334\n",
      "Step 2050 - Loss: 0.004870\n",
      "Step 2100 - Loss: 0.000082\n",
      "[[-0.24399776827917891 -0.0939583371059405 0.10693326826980906\n",
      "  -0.014212921433712958]\n",
      " [-0.24399776827917891 0.14285147884497984 -0.04153298939890261\n",
      "  -0.11098711498210005]\n",
      " [-0.21741998280605976 0.0845692702560228 -0.01883360289583513\n",
      "  -0.07133657734769144]\n",
      " ..., \n",
      " [0.47732506091309879 -0.1675779690077809 0.2688964584538582\n",
      "  -0.11098711498210005]\n",
      " [0.46862451550577483 -0.11359023894643118 0.21490872839250844\n",
      "  -0.11098711498210005]\n",
      " [-0.20599240077852973 -0.23751661931452944 -0.04153298939890261\n",
      "  0.3056795516845666]] 6426 6429 1 3 4\n",
      "[[-0.24399776827917891 -0.0939583371059405 0.10693326826980906\n",
      "  -0.014212921433712958]\n",
      " [-0.24399776827917891 0.14285147884497984 -0.04153298939890261\n",
      "  -0.11098711498210005]\n",
      " [-0.21741998280605976 0.0845692702560228 -0.01883360289583513\n",
      "  -0.07133657734769144]\n",
      " ..., \n",
      " [0.47732506091309879 -0.1675779690077809 0.2688964584538582\n",
      "  -0.11098711498210005]\n",
      " [0.46862451550577483 -0.11359023894643118 0.21490872839250844\n",
      "  -0.11098711498210005]\n",
      " [-0.20599240077852973 -0.23751661931452944 -0.04153298939890261\n",
      "  0.3056795516845666]] 6429 6432 1 3 4\n",
      "Epoch 2\n",
      "Step 0 - Loss: 0.010547\n",
      "Step 50 - Loss: 0.000137\n",
      "Step 100 - Loss: 0.000006\n",
      "Step 150 - Loss: 0.000007\n",
      "Step 200 - Loss: 0.000001\n",
      "Step 250 - Loss: 0.000000\n",
      "Step 300 - Loss: 0.000000\n",
      "Step 350 - Loss: 0.000006\n",
      "Step 400 - Loss: 0.000180\n",
      "Step 450 - Loss: 0.000090\n",
      "Step 500 - Loss: 0.005752\n",
      "Step 550 - Loss: 0.001022\n",
      "Step 600 - Loss: 0.000021\n",
      "Step 650 - Loss: 0.000013\n",
      "Step 700 - Loss: 0.000140\n",
      "Step 750 - Loss: 0.000000\n"
     ]
    },
    {
     "ename": "KeyboardInterrupt",
     "evalue": "",
     "output_type": "error",
     "traceback": [
      "\u001b[0;31m---------------------------------------------------------------------------\u001b[0m",
      "\u001b[0;31mKeyboardInterrupt\u001b[0m                         Traceback (most recent call last)",
      "\u001b[0;32m<ipython-input-70-32cf7636a15c>\u001b[0m in \u001b[0;36m<module>\u001b[0;34m()\u001b[0m\n\u001b[1;32m     28\u001b[0m             _loss,_train_step,_pred,_last_label,_prediction = sess.run(\n\u001b[1;32m     29\u001b[0m                 \u001b[0mfetches\u001b[0m\u001b[0;34m=\u001b[0m\u001b[0;34m[\u001b[0m\u001b[0mloss\u001b[0m\u001b[0;34m,\u001b[0m\u001b[0mtrain_step\u001b[0m\u001b[0;34m,\u001b[0m\u001b[0mprediction\u001b[0m\u001b[0;34m,\u001b[0m\u001b[0mlast_label\u001b[0m\u001b[0;34m,\u001b[0m\u001b[0mprediction\u001b[0m\u001b[0;34m]\u001b[0m\u001b[0;34m,\u001b[0m\u001b[0;34m\u001b[0m\u001b[0m\n\u001b[0;32m---> 30\u001b[0;31m                 \u001b[0mfeed_dict\u001b[0m \u001b[0;34m=\u001b[0m \u001b[0mfeed\u001b[0m\u001b[0;34m\u001b[0m\u001b[0m\n\u001b[0m\u001b[1;32m     31\u001b[0m             )\n\u001b[1;32m     32\u001b[0m \u001b[0;34m\u001b[0m\u001b[0m\n",
      "\u001b[0;32m/anaconda/lib/python2.7/site-packages/tensorflow/python/client/session.pyc\u001b[0m in \u001b[0;36mrun\u001b[0;34m(self, fetches, feed_dict, options, run_metadata)\u001b[0m\n\u001b[1;32m    887\u001b[0m     \u001b[0;32mtry\u001b[0m\u001b[0;34m:\u001b[0m\u001b[0;34m\u001b[0m\u001b[0m\n\u001b[1;32m    888\u001b[0m       result = self._run(None, fetches, feed_dict, options_ptr,\n\u001b[0;32m--> 889\u001b[0;31m                          run_metadata_ptr)\n\u001b[0m\u001b[1;32m    890\u001b[0m       \u001b[0;32mif\u001b[0m \u001b[0mrun_metadata\u001b[0m\u001b[0;34m:\u001b[0m\u001b[0;34m\u001b[0m\u001b[0m\n\u001b[1;32m    891\u001b[0m         \u001b[0mproto_data\u001b[0m \u001b[0;34m=\u001b[0m \u001b[0mtf_session\u001b[0m\u001b[0;34m.\u001b[0m\u001b[0mTF_GetBuffer\u001b[0m\u001b[0;34m(\u001b[0m\u001b[0mrun_metadata_ptr\u001b[0m\u001b[0;34m)\u001b[0m\u001b[0;34m\u001b[0m\u001b[0m\n",
      "\u001b[0;32m/anaconda/lib/python2.7/site-packages/tensorflow/python/client/session.pyc\u001b[0m in \u001b[0;36m_run\u001b[0;34m(self, handle, fetches, feed_dict, options, run_metadata)\u001b[0m\n\u001b[1;32m   1118\u001b[0m     \u001b[0;32mif\u001b[0m \u001b[0mfinal_fetches\u001b[0m \u001b[0;32mor\u001b[0m \u001b[0mfinal_targets\u001b[0m \u001b[0;32mor\u001b[0m \u001b[0;34m(\u001b[0m\u001b[0mhandle\u001b[0m \u001b[0;32mand\u001b[0m \u001b[0mfeed_dict_tensor\u001b[0m\u001b[0;34m)\u001b[0m\u001b[0;34m:\u001b[0m\u001b[0;34m\u001b[0m\u001b[0m\n\u001b[1;32m   1119\u001b[0m       results = self._do_run(handle, final_targets, final_fetches,\n\u001b[0;32m-> 1120\u001b[0;31m                              feed_dict_tensor, options, run_metadata)\n\u001b[0m\u001b[1;32m   1121\u001b[0m     \u001b[0;32melse\u001b[0m\u001b[0;34m:\u001b[0m\u001b[0;34m\u001b[0m\u001b[0m\n\u001b[1;32m   1122\u001b[0m       \u001b[0mresults\u001b[0m \u001b[0;34m=\u001b[0m \u001b[0;34m[\u001b[0m\u001b[0;34m]\u001b[0m\u001b[0;34m\u001b[0m\u001b[0m\n",
      "\u001b[0;32m/anaconda/lib/python2.7/site-packages/tensorflow/python/client/session.pyc\u001b[0m in \u001b[0;36m_do_run\u001b[0;34m(self, handle, target_list, fetch_list, feed_dict, options, run_metadata)\u001b[0m\n\u001b[1;32m   1315\u001b[0m     \u001b[0;32mif\u001b[0m \u001b[0mhandle\u001b[0m \u001b[0;32mis\u001b[0m \u001b[0mNone\u001b[0m\u001b[0;34m:\u001b[0m\u001b[0;34m\u001b[0m\u001b[0m\n\u001b[1;32m   1316\u001b[0m       return self._do_call(_run_fn, self._session, feeds, fetches, targets,\n\u001b[0;32m-> 1317\u001b[0;31m                            options, run_metadata)\n\u001b[0m\u001b[1;32m   1318\u001b[0m     \u001b[0;32melse\u001b[0m\u001b[0;34m:\u001b[0m\u001b[0;34m\u001b[0m\u001b[0m\n\u001b[1;32m   1319\u001b[0m       \u001b[0;32mreturn\u001b[0m \u001b[0mself\u001b[0m\u001b[0;34m.\u001b[0m\u001b[0m_do_call\u001b[0m\u001b[0;34m(\u001b[0m\u001b[0m_prun_fn\u001b[0m\u001b[0;34m,\u001b[0m \u001b[0mself\u001b[0m\u001b[0;34m.\u001b[0m\u001b[0m_session\u001b[0m\u001b[0;34m,\u001b[0m \u001b[0mhandle\u001b[0m\u001b[0;34m,\u001b[0m \u001b[0mfeeds\u001b[0m\u001b[0;34m,\u001b[0m \u001b[0mfetches\u001b[0m\u001b[0;34m)\u001b[0m\u001b[0;34m\u001b[0m\u001b[0m\n",
      "\u001b[0;32m/anaconda/lib/python2.7/site-packages/tensorflow/python/client/session.pyc\u001b[0m in \u001b[0;36m_do_call\u001b[0;34m(self, fn, *args)\u001b[0m\n\u001b[1;32m   1321\u001b[0m   \u001b[0;32mdef\u001b[0m \u001b[0m_do_call\u001b[0m\u001b[0;34m(\u001b[0m\u001b[0mself\u001b[0m\u001b[0;34m,\u001b[0m \u001b[0mfn\u001b[0m\u001b[0;34m,\u001b[0m \u001b[0;34m*\u001b[0m\u001b[0margs\u001b[0m\u001b[0;34m)\u001b[0m\u001b[0;34m:\u001b[0m\u001b[0;34m\u001b[0m\u001b[0m\n\u001b[1;32m   1322\u001b[0m     \u001b[0;32mtry\u001b[0m\u001b[0;34m:\u001b[0m\u001b[0;34m\u001b[0m\u001b[0m\n\u001b[0;32m-> 1323\u001b[0;31m       \u001b[0;32mreturn\u001b[0m \u001b[0mfn\u001b[0m\u001b[0;34m(\u001b[0m\u001b[0;34m*\u001b[0m\u001b[0margs\u001b[0m\u001b[0;34m)\u001b[0m\u001b[0;34m\u001b[0m\u001b[0m\n\u001b[0m\u001b[1;32m   1324\u001b[0m     \u001b[0;32mexcept\u001b[0m \u001b[0merrors\u001b[0m\u001b[0;34m.\u001b[0m\u001b[0mOpError\u001b[0m \u001b[0;32mas\u001b[0m \u001b[0me\u001b[0m\u001b[0;34m:\u001b[0m\u001b[0;34m\u001b[0m\u001b[0m\n\u001b[1;32m   1325\u001b[0m       \u001b[0mmessage\u001b[0m \u001b[0;34m=\u001b[0m \u001b[0mcompat\u001b[0m\u001b[0;34m.\u001b[0m\u001b[0mas_text\u001b[0m\u001b[0;34m(\u001b[0m\u001b[0me\u001b[0m\u001b[0;34m.\u001b[0m\u001b[0mmessage\u001b[0m\u001b[0;34m)\u001b[0m\u001b[0;34m\u001b[0m\u001b[0m\n",
      "\u001b[0;32m/anaconda/lib/python2.7/site-packages/tensorflow/python/client/session.pyc\u001b[0m in \u001b[0;36m_run_fn\u001b[0;34m(session, feed_dict, fetch_list, target_list, options, run_metadata)\u001b[0m\n\u001b[1;32m   1300\u001b[0m           return tf_session.TF_Run(session, options,\n\u001b[1;32m   1301\u001b[0m                                    \u001b[0mfeed_dict\u001b[0m\u001b[0;34m,\u001b[0m \u001b[0mfetch_list\u001b[0m\u001b[0;34m,\u001b[0m \u001b[0mtarget_list\u001b[0m\u001b[0;34m,\u001b[0m\u001b[0;34m\u001b[0m\u001b[0m\n\u001b[0;32m-> 1302\u001b[0;31m                                    status, run_metadata)\n\u001b[0m\u001b[1;32m   1303\u001b[0m \u001b[0;34m\u001b[0m\u001b[0m\n\u001b[1;32m   1304\u001b[0m     \u001b[0;32mdef\u001b[0m \u001b[0m_prun_fn\u001b[0m\u001b[0;34m(\u001b[0m\u001b[0msession\u001b[0m\u001b[0;34m,\u001b[0m \u001b[0mhandle\u001b[0m\u001b[0;34m,\u001b[0m \u001b[0mfeed_dict\u001b[0m\u001b[0;34m,\u001b[0m \u001b[0mfetch_list\u001b[0m\u001b[0;34m)\u001b[0m\u001b[0;34m:\u001b[0m\u001b[0;34m\u001b[0m\u001b[0m\n",
      "\u001b[0;31mKeyboardInterrupt\u001b[0m: "
     ]
    }
   ],
   "source": [
    "loss_list = []\n",
    "test_pred_list = []\n",
    "\n",
    "with tf.Session() as sess:\n",
    "    \n",
    "    tf.global_variables_initializer().run()\n",
    "    num_epochs = 50\n",
    "    for epoch_idx in range(num_epochs):\n",
    "                \n",
    "        print('Epoch %d' %epoch_idx)\n",
    "        \n",
    "        for batch_idx in range(num_batches):\n",
    "            start_idx = batch_idx * truncated_backprop_length\n",
    "            end_idx = start_idx + truncated_backprop_length * batch_size\n",
    "        \n",
    "            try:\n",
    "                batchX = xTrain[start_idx:end_idx,:].reshape(batch_size,truncated_backprop_length,num_features)\n",
    "                batchY = yTrain[start_idx:end_idx].reshape(batch_size,truncated_backprop_length,1)\n",
    "            except:\n",
    "                print xTrain, start_idx, end_idx, batch_size, truncated_backprop_length, num_features\n",
    "            #print('IDXs',start_idx,end_idx)\n",
    "            #print('X',batchX.shape,batchX)\n",
    "            #print('Y',batchX.shape,batchY)\n",
    "            \n",
    "            feed = {batchX_placeholder : batchX, batchY_placeholder : batchY}\n",
    "            \n",
    "            #TRAIN!\n",
    "            _loss,_train_step,_pred,_last_label,_prediction = sess.run(\n",
    "                fetches=[loss,train_step,prediction,last_label,prediction],\n",
    "                feed_dict = feed\n",
    "            )\n",
    "            \n",
    "            loss_list.append(_loss)\n",
    "            \n",
    "#             if type(loss) != float(1):\n",
    "#                 print _loss,_train_step,_pred,_last_label,_prediction\n",
    "            \n",
    "           \n",
    "            \n",
    "            if(batch_idx % 50 == 0):\n",
    "                print('Step %d - Loss: %.6f' %(batch_idx,_loss))\n",
    "                \n",
    "    #TEST\n",
    "    \n",
    "    \n",
    "    for test_idx in range(len(xTest) - truncated_backprop_length):\n",
    "        \n",
    "        testBatchX = xTest[test_idx:test_idx+truncated_backprop_length,:].reshape((1,truncated_backprop_length,num_features))        \n",
    "        testBatchY = yTest[test_idx:test_idx+truncated_backprop_length].reshape((1,truncated_backprop_length,1))\n",
    "\n",
    "        \n",
    "        #_current_state = np.zeros((batch_size,state_size))\n",
    "        feed = {batchX_placeholder : testBatchX,\n",
    "            batchY_placeholder : testBatchY}\n",
    "\n",
    "        #Test_pred contains 'window_size' predictions, we want the last one\n",
    "        _last_state,_last_label,test_pred = sess.run([last_state,last_label,prediction],feed_dict=feed)\n",
    "        test_pred_list.append(test_pred[-1][0]) #The last one\n",
    "        "
   ]
  },
  {
   "cell_type": "markdown",
   "metadata": {},
   "source": [
    "## WOOO!"
   ]
  },
  {
   "cell_type": "code",
   "execution_count": null,
   "metadata": {},
   "outputs": [],
   "source": [
    "plt.figure(figsize=(21,7))\n",
    "plt.plot(yTest,label='Price',color='blue')\n",
    "plt.plot(test_pred_list,label='Predicted',color='red')\n",
    "plt.title('Price vs Predicted')\n",
    "plt.legend(loc='upper left')\n",
    "plt.show()"
   ]
  },
  {
   "cell_type": "code",
   "execution_count": null,
   "metadata": {},
   "outputs": [],
   "source": [
    "plt.title('Loss')\n",
    "plt.scatter(x=np.arange(0,len(loss_list)), y=loss_list)\n",
    "plt.xlabel('epochs')\n",
    "plt.ylabel('loss')\n",
    "plt.show()"
   ]
  },
  {
   "cell_type": "markdown",
   "metadata": {},
   "source": [
    "### Now we split the data into disjoint time intervals"
   ]
  },
  {
   "cell_type": "code",
   "execution_count": 86,
   "metadata": {},
   "outputs": [
    {
     "name": "stdout",
     "output_type": "stream",
     "text": [
      "  prev_price    compound        neg        neu        pos next_price  datetime\n",
      "0  -0.245556  0.00428477  -0.041533  0.0894772 -0.0525194  -0.241053 -0.566531\n",
      "1  -0.243998  -0.0718898  -0.041533   0.142851  -0.110987  -0.245338  -0.56593\n",
      "2  -0.243998  -0.0975415   0.106933 -0.0939583 -0.0142129  -0.245338  -0.56593\n",
      "3  -0.243998   -0.134988  0.0652155 -0.0350626 -0.0330301  -0.245338  -0.56593\n",
      "4  -0.243998    -0.16669  0.0382216  0.0630969  -0.110987  -0.245338  -0.56593 <class 'pandas.core.frame.DataFrame'>\n"
     ]
    }
   ],
   "source": [
    "dfNN_sorted = pickle.load(open('NN_pickled_time.p', 'rb'))\n",
    "dfNN_sorted = dfNN_sorted.sort_values('datetime')\n",
    "dfNN_mean = dfNN_sorted.mean()\n",
    "dfNN_max = dfNN_sorted.max()\n",
    "dfNN_min = dfNN_sorted.min()\n",
    "dfNN_sorted = (dfNN_sorted - dfNN_mean) / (dfNN_max - dfNN_min)\n",
    "dfNN_sorted.reset_index(inplace=True)\n",
    "del dfNN_sorted['index']\n",
    "dfNN_sorted.head(5)\n",
    "print dfNN_sorted.head(5), type(dfNN)\n"
   ]
  },
  {
   "cell_type": "code",
   "execution_count": 87,
   "metadata": {
    "collapsed": true
   },
   "outputs": [],
   "source": [
    "dfNN_sorted = pd.DataFrame(dfNN_sorted)\n",
    "dfNN_sorted = dfNN_sorted.dropna()"
   ]
  },
  {
   "cell_type": "code",
   "execution_count": 88,
   "metadata": {},
   "outputs": [
    {
     "name": "stdout",
     "output_type": "stream",
     "text": [
      "6432 6300   prev_price  compound       neg       neu       pos next_price\n",
      "0  -0.205992  0.342107 -0.041533 -0.237517   0.30568  -0.205298\n",
      "1   0.468625  -0.46241  0.214909  -0.11359 -0.110987   0.487412\n",
      "2   0.477325  -0.16998  0.268896 -0.167578 -0.110987   0.462653      prev_price   compound       neg        neu        pos next_price  \\\n",
      "6300   0.473516    0.33338 -0.041533 -0.0945718   0.149094   0.457501   \n",
      "6301   0.473516   0.117933 -0.041533  -0.129541     0.1874   0.457501   \n",
      "6302   0.479792  0.0560344 -0.041533  0.0815018 -0.0437828   0.473734   \n",
      "6303   0.479792   0.128166 -0.041533  0.0661644 -0.0269817   0.473734   \n",
      "\n",
      "      datetime  \n",
      "6300  0.417243  \n",
      "6301  0.417243  \n",
      "6302  0.417844  \n",
      "6303  0.417844  \n"
     ]
    }
   ],
   "source": [
    "Train2 = dfNN_sorted.iloc[:6300, :]\n",
    "Test2 = dfNN_sorted.iloc[6300:, :]\n",
    "# Test2 = pd.DataFrame(Test2, columns = ['prev_price', 'compound', 'neg', 'neu','pos','next_price'])\n",
    "\n",
    "print len(dfNN), len(Train2), dfNN.head(3), Test2.head(4)\n",
    "\n",
    "xTrain2 = Train2[['prev_price','neu','neg','pos']].as_matrix()[::-1]\n",
    "yTrain2 = Train2['next_price'].as_matrix()[::-1]\n",
    "\n",
    "\n",
    "xTest2 = Test2[['prev_price','neu','neg','pos']].as_matrix()\n",
    "yTest2 = Test2['next_price'].as_matrix()"
   ]
  },
  {
   "cell_type": "code",
   "execution_count": 89,
   "metadata": {
    "collapsed": true
   },
   "outputs": [],
   "source": [
    "tf.reset_default_graph()\n",
    "\n",
    "batchX_placeholder = tf.placeholder(dtype=tf.float32,shape=[None,truncated_backprop_length,num_features],name='data_ph')\n",
    "batchY_placeholder = tf.placeholder(dtype=tf.float32,shape=[None,truncated_backprop_length,num_classes],name='target_ph')\n",
    "\n",
    "# irrelevant if no more classes (random array unif distribution) \n",
    "W2 = tf.Variable(initial_value=np.random.rand(state_size,num_classes),dtype=tf.float32)\n",
    "b2 = tf.Variable(initial_value=np.random.rand(1,num_classes),dtype=tf.float32)\n",
    "\n",
    "# unpack and create edge from input to hidden layer\n",
    "labels_series = tf.unstack(batchY_placeholder, axis=1)\n",
    "\n",
    "# forward pass\n",
    "cell = tf.contrib.rnn.BasicLSTMCell(num_units=state_size)\n",
    "states_series, current_state = tf.nn.dynamic_rnn(cell=cell,inputs=batchX_placeholder,dtype=tf.float32)\n",
    "\n",
    "# talk about permutations and how data goes through nodes\n",
    "states_series = tf.transpose(states_series,[1,0,2])\n",
    "\n",
    "# backwards pass starting point\n",
    "last_state = tf.gather(params=states_series,indices=states_series.get_shape()[0]-1)\n",
    "last_label = tf.gather(params=labels_series,indices=len(labels_series)-1)\n",
    "\n",
    "# bp weights and biases\n",
    "weight = tf.Variable(tf.truncated_normal([state_size,num_classes]))\n",
    "bias = tf.Variable(tf.constant(0.1,shape=[num_classes]))\n",
    "\n",
    "prediction = tf.matmul(last_state,weight) + bias\n",
    "loss = tf.reduce_mean(tf.squared_difference(last_label,prediction))\n",
    "train_step = tf.train.AdamOptimizer(learning_rate=0.001).minimize(loss)\n"
   ]
  },
  {
   "cell_type": "code",
   "execution_count": 94,
   "metadata": {},
   "outputs": [
    {
     "name": "stdout",
     "output_type": "stream",
     "text": [
      "Epoch 0\n",
      "Epoch 1\n",
      "Epoch 2\n",
      "Epoch 3\n",
      "Epoch 4\n",
      "Epoch 5\n",
      "Epoch 6\n",
      "Epoch 7\n",
      "Epoch 8\n",
      "Epoch 9\n"
     ]
    }
   ],
   "source": [
    "loss_list2 = []\n",
    "test_pred_list2 = []\n",
    "\n",
    "with tf.Session() as sess:\n",
    "    \n",
    "    tf.global_variables_initializer().run()\n",
    "    num_epochs = 10\n",
    "    for epoch_idx in range(num_epochs):\n",
    "                \n",
    "        print('Epoch %d' %epoch_idx)\n",
    "        \n",
    "        for batch_idx in range(num_batches):\n",
    "            start_idx = batch_idx * truncated_backprop_length\n",
    "            end_idx = start_idx + truncated_backprop_length * batch_size\n",
    "        \n",
    "            try:\n",
    "                batchX = xTrain2[start_idx:end_idx,:].reshape(batch_size,truncated_backprop_length,num_features)\n",
    "                batchY = yTrain2[start_idx:end_idx].reshape(batch_size,truncated_backprop_length,1)\n",
    "            except:\n",
    "                pass\n",
    "#                 print xTrain2, start_idx, end_idx, batch_size, truncated_backprop_length, num_features\n",
    "            \n",
    "            feed = {batchX_placeholder : batchX, batchY_placeholder : batchY}\n",
    "            \n",
    "            #TRAIN!\n",
    "            _loss,_train_step,_pred,_last_label,_prediction = sess.run(\n",
    "                fetches=[loss,train_step,prediction,last_label,prediction],\n",
    "                feed_dict = feed\n",
    "            )\n",
    "            \n",
    "            loss_list2.append(_loss)\n",
    "            \n",
    "#             if type(loss) != float(1):\n",
    "#                 print _loss,_train_step,_pred,_last_label,_prediction\n",
    "            \n",
    "           \n",
    "            \n",
    "            #if(batch_idx % 50 == 0):\n",
    "              #  print('Step %d - Loss: %.6f' %(batch_idx,_loss))\n",
    "                \n",
    "    #TEST\n",
    "    \n",
    "    \n",
    "    for test_idx in range(len(xTest2) - truncated_backprop_length):\n",
    "        \n",
    "        try:\n",
    "            testBatchX = xTest2[test_idx:test_idx+truncated_backprop_length,:].reshape((1,truncated_backprop_length,num_features))        \n",
    "            testBatchY = yTest2[test_idx:test_idx+truncated_backprop_length].reshape((1,truncated_backprop_length,1))\n",
    "        except:\n",
    "            pass\n",
    "        \n",
    "        #_current_state = np.zeros((batch_size,state_size))\n",
    "        feed = {batchX_placeholder : testBatchX,\n",
    "            batchY_placeholder : testBatchY}\n",
    "\n",
    "        #Test_pred contains 'window_size' predictions, we want the last one\n",
    "        _last_state,_last_label,test_pred = sess.run([last_state,last_label,prediction],feed_dict=feed)\n",
    "        test_pred_list2.append(test_pred[-1][0]) #The last one\n",
    "        "
   ]
  },
  {
   "cell_type": "code",
   "execution_count": 96,
   "metadata": {},
   "outputs": [
    {
     "name": "stdout",
     "output_type": "stream",
     "text": [
      "0.000778011958752\n"
     ]
    }
   ],
   "source": [
    "avgloss = sum(loss_list2)/float(len(loss_list2))\n",
    "print avgloss"
   ]
  },
  {
   "cell_type": "code",
   "execution_count": 95,
   "metadata": {},
   "outputs": [
    {
     "data": {
      "image/png": "[encoded data removed]",
      "text/plain": [
       "<matplotlib.figure.Figure at 0x1248c7e10>"
      ]
     },
     "metadata": {},
     "output_type": "display_data"
    }
   ],
   "source": [
    "def unnorm(list):\n",
    "    new_list = []\n",
    "    for item in list:\n",
    "#         print type(item)\n",
    "        new_item = (float(item) + dfNN_mean) * (dfNN_max - dfNN_min)\n",
    "        new_list.append(new_item)\n",
    "    return new_item\n",
    "\n",
    "unnorm_yTest2 = list(unnorm(yTest2))\n",
    "unnorm_test_pred_list2 = list(unnorm(test_pred_list2))\n",
    "\n",
    "#print type(unnorm_yTest2), 'datetime' in unnorm_yTest2, unnorm_yTest2\n",
    "\n",
    "# print yTest2, test_pred_list2\n",
    "\n",
    "plt.figure(figsize=(21,7))\n",
    "plt.plot(yTest2,label='Price',color='blue')\n",
    "plt.plot(test_pred_list2,label='Predicted',color='red')\n",
    "# plt.plot(unnorm_yTest2,label='Price',color='blue')\n",
    "# plt.plot(unnorm_test_pred_list2,label='Predicted',color='red')\n",
    "plt.title('Price vs Predicted')\n",
    "plt.legend(loc='upper left')\n",
    "plt.show()"
   ]
  },
  {
   "cell_type": "code",
   "execution_count": null,
   "metadata": {},
   "outputs": [],
   "source": [
    "plt.title('Loss')\n",
    "plt.scatter(x=np.arange(0,len(loss_list2)), y=loss_list)\n",
    "plt.xlabel('X')\n",
    "plt.ylabel('loss')\n",
    "plt.show()"
   ]
  },
  {
   "cell_type": "code",
   "execution_count": null,
   "metadata": {
    "collapsed": true
   },
   "outputs": [],
   "source": []
  },
  {
   "cell_type": "code",
   "execution_count": null,
   "metadata": {
    "collapsed": true
   },
   "outputs": [],
   "source": []
  },
  {
   "cell_type": "code",
   "execution_count": null,
   "metadata": {
    "collapsed": true
   },
   "outputs": [],
   "source": []
  },
  {
   "cell_type": "code",
   "execution_count": null,
   "metadata": {
    "collapsed": true
   },
   "outputs": [],
   "source": []
  },
  {
   "cell_type": "code",
   "execution_count": null,
   "metadata": {
    "collapsed": true
   },
   "outputs": [],
   "source": []
  }
 ],
 "metadata": {
  "kernelspec": {
   "display_name": "Python 2",
   "language": "python",
   "name": "python2"
  },
  "language_info": {
   "codemirror_mode": {
    "name": "ipython",
    "version": 2
   },
   "file_extension": ".py",
   "mimetype": "text/x-python",
   "name": "python",
   "nbconvert_exporter": "python",
   "pygments_lexer": "ipython2",
   "version": "2.7.13"
  }
 },
 "nbformat": 4,
 "nbformat_minor": 2
}
