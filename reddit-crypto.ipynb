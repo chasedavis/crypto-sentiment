{
 "cells": [
  {
   "cell_type": "markdown",
   "metadata": {},
   "source": [
    "### Module for Scraping Reddit\n",
    "Chase Davis"
   ]
  },
  {
   "cell_type": "code",
   "execution_count": null,
   "metadata": {},
   "outputs": [],
   "source": [
    "# Import Libraries\n",
    "import requests\n",
    "import json\n",
    "import time\n",
    "from datetime import datetime\n",
    "import csv\n",
    "\n",
    "# Relevant Subreddits for collection\n",
    "# r/Ethereum\n",
    "# r/EthTrader\n",
    "# r/EthInvestor\n",
    "# r/EthAnalysis"
   ]
  },
  {
   "cell_type": "code",
   "execution_count": null,
   "metadata": {},
   "outputs": [],
   "source": [
    "# Pick Reddit Account\n",
    "user_account = '(by /u/..........)' # replace ............ with account name\n",
    "hdr = {'User-Agent': 'windows:r/ethereum.single.result:v1.0' +\n",
    "       user_account}\n",
    "url = 'https://www.reddit.com/r/ethereum/.json'\n",
    "req = requests.get(url, headers=hdr)\n",
    "json_data = json.loads(req.text)\n"
   ]
  },
  {
   "cell_type": "code",
   "execution_count": null,
   "metadata": {},
   "outputs": [],
   "source": [
    "# Get data in line with request limit\n",
    "data_all = json_data['data']['children']\n",
    "num_of_posts = 0\n",
    "time_start = time.time()\n",
    "while len(data_all) <= 750:\n",
    "    time.sleep(2)\n",
    "    last = data_all[-1]['data']['name']\n",
    "    url = 'https://www.reddit.com/r/ethereum/.json?after=' + str(last)\n",
    "    req = requests.get(url, headers=hdr)\n",
    "    data = json.loads(req.text)\n",
    "    data_all += data['data']['children']\n",
    "    if num_of_posts == len(data_all):\n",
    "        print num_of_posts, len(data_all)\n",
    "        break\n",
    "    else:\n",
    "        num_of_posts = len(data_all)\n",
    "print \"Time: \", time.time() - time_start"
   ]
  },
  {
   "cell_type": "code",
   "execution_count": null,
   "metadata": {},
   "outputs": [],
   "source": [
    "# print json.dumps(data_all, indent=4, sort_keys=True)\n",
    "print \"Number of Data Posts: \", len(data_all)"
   ]
  },
  {
   "cell_type": "code",
   "execution_count": null,
   "metadata": {},
   "outputs": [],
   "source": [
    "# Helper functions \n",
    "\n",
    "def find_earliest(data):\n",
    "    times = [item[\"created_utc\"] for item in data]\n",
    "    earliest = min(times)\n",
    "    print \"\\nTime of earliest post: \", datetime.fromtimestamp(earliest).strftime('%c')\n",
    "\n",
    "def type_fix(value):\n",
    "    if type(value) == type(1) or type(value) == type(1.):\n",
    "        return float(value)\n",
    "    else:\n",
    "        return unicode(value).encode('utf-8')"
   ]
  },
  {
   "cell_type": "code",
   "execution_count": null,
   "metadata": {
    "scrolled": false
   },
   "outputs": [],
   "source": [
    "# Clean data and store\n",
    "wanted_keys = [\"domain\", \"title\", \"media_embed\", \"likes\", \"view_count\", \"name\", \"author\", \"score\", \"selftext\", \"created\", \"created_utc\", \"permalink\", \"num_comments\"]\n",
    "print \"JSON: \", type(data_all[0]), len(data_all[0].keys()), data_all[0].keys()\n",
    "item = data_all[0][\"data\"]\n",
    "print \"Number of Features before clean: \", len(item.keys())\n",
    "# print json.dumps(data_all[0], indent = 2)\n",
    "\n",
    "data = [d[\"data\"] for d in data_all]\n",
    "new_data = []\n",
    "for i, item in enumerate(data):\n",
    "    new_item = {k:type_fix(v) for k,v in item.iteritems() if k in wanted_keys}\n",
    "    new_data.append(new_item)\n",
    "    \n",
    "print \"Number of Features after clean: \", len(new_data[0].keys()),'\\n\\nCleaned Features: ',new_data[0].keys()\n",
    "find_earliest(new_data)\n",
    "\n",
    "# Write data to csv (appending)\n",
    "with open(\"reddit-ethereum.csv\", \"a\") as f:\n",
    "    w = csv.DictWriter(f, new_data[0].keys())\n",
    "#     w.writeheader()\n",
    "    w.writerows(new_data)"
   ]
  }
 ],
 "metadata": {
  "kernelspec": {
   "display_name": "Python 2",
   "language": "python",
   "name": "python2"
  },
  "language_info": {
   "codemirror_mode": {
    "name": "ipython",
    "version": 2
   },
   "file_extension": ".py",
   "mimetype": "text/x-python",
   "name": "python",
   "nbconvert_exporter": "python",
   "pygments_lexer": "ipython2",
   "version": "2.7.14"
  }
 },
 "nbformat": 4,
 "nbformat_minor": 2
}
