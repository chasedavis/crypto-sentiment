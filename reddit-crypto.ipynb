{
 "cells": [
  {
   "cell_type": "code",
   "execution_count": 90,
   "metadata": {
    "collapsed": true
   },
   "outputs": [],
   "source": [
    "# Import Libraries\n",
    "import requests\n",
    "import json\n",
    "import time\n",
    "from datetime import datetime\n",
    "import csv\n",
    "\n",
    "# Relevant Subreddits for collection\n",
    "# r/Ethereum\n",
    "# r/EthTrader\n",
    "# r/EthInvestor"
   ]
  },
  {
   "cell_type": "code",
   "execution_count": 81,
   "metadata": {},
   "outputs": [],
   "source": [
    "# Using Chase's Reddit Account\n",
    "hdr = {'User-Agent': 'windows:r/ethereum.single.result:v1.0' +\n",
    "       '(by /u/Budabellly)'}\n",
    "url = 'https://www.reddit.com/r/ethereum/.json'\n",
    "req = requests.get(url, headers=hdr)\n",
    "json_data = json.loads(req.text)\n"
   ]
  },
  {
   "cell_type": "code",
   "execution_count": 82,
   "metadata": {
    "collapsed": true,
    "scrolled": true
   },
   "outputs": [],
   "source": [
    "# # Example of request\n",
    "# posts = json.dumps(json_data['data']['children'], indent=4, sort_keys=True)\n",
    "# print(posts)"
   ]
  },
  {
   "cell_type": "code",
   "execution_count": 83,
   "metadata": {},
   "outputs": [
    {
     "name": "stdout",
     "output_type": "stream",
     "text": [
      "571 571\n",
      "Time:  54.1468839645\n"
     ]
    }
   ],
   "source": [
    "data_all = json_data['data']['children']\n",
    "num_of_posts = 0\n",
    "time_start = time.time()\n",
    "while len(data_all) <= 750:\n",
    "    time.sleep(2)\n",
    "    last = data_all[-1]['data']['name']\n",
    "    url = 'https://www.reddit.com/r/ethereum/.json?after=' + str(last)\n",
    "    req = requests.get(url, headers=hdr)\n",
    "    data = json.loads(req.text)\n",
    "    data_all += data['data']['children']\n",
    "    if num_of_posts == len(data_all):\n",
    "        print num_of_posts, len(data_all)\n",
    "        break\n",
    "    else:\n",
    "        num_of_posts = len(data_all)\n",
    "print \"Time: \", time.time() - time_start"
   ]
  },
  {
   "cell_type": "code",
   "execution_count": 67,
   "metadata": {},
   "outputs": [
    {
     "name": "stdout",
     "output_type": "stream",
     "text": [
      "568 <type 'list'>\n"
     ]
    }
   ],
   "source": [
    "# print json.dumps(data_all, indent=4, sort_keys=True)\n",
    "print len(data_all), type(data_all)"
   ]
  },
  {
   "cell_type": "code",
   "execution_count": 108,
   "metadata": {
    "collapsed": true
   },
   "outputs": [],
   "source": [
    "# Helper functions \n",
    "\n",
    "def find_earliest(data):\n",
    "    times = [item[\"created_utc\"] for item in data]\n",
    "    earliest = min(times)\n",
    "    print \"\\nTime of earliest post: \", datetime.fromtimestamp(earliest).strftime('%c')\n",
    "\n",
    "def type_fix(value):\n",
    "    if type(value) == type(1) or type(value) == type(1.):\n",
    "        return float(value)\n",
    "    else:\n",
    "        return unicode(value).encode('utf-8')"
   ]
  },
  {
   "cell_type": "code",
   "execution_count": 110,
   "metadata": {
    "scrolled": false
   },
   "outputs": [
    {
     "name": "stdout",
     "output_type": "stream",
     "text": [
      "JSON:  <type 'dict'> 2 [u'kind', u'data']\n",
      "Number of Features before clean:  70\n",
      "Number of Features after clean:  13 \n",
      "\n",
      "Cleaned Features:  [u'view_count', u'domain', u'score', u'title', u'num_comments', u'created', u'created_utc', u'media_embed', u'permalink', u'selftext', u'likes', u'author', u'name']\n",
      "\n",
      "Time of earliest post:  Thu Oct 19 16:12:57 2017\n"
     ]
    }
   ],
   "source": [
    "wanted_keys = [\"domain\", \"title\", \"media_embed\", \"likes\", \"view_count\", \"name\", \"author\", \"score\", \"selftext\", \"created\", \"created_utc\", \"permalink\", \"num_comments\"]\n",
    "print \"JSON: \", type(data_all[0]), len(data_all[0].keys()), data_all[0].keys()\n",
    "item = data_all[567][\"data\"]\n",
    "print \"Number of Features before clean: \", len(item.keys())\n",
    "# print json.dumps(data_all[0], indent = 2)\n",
    "\n",
    "data = [d[\"data\"] for d in data_all]\n",
    "new_data = []\n",
    "for i, item in enumerate(data):\n",
    "    new_item = {k:type_fix(v) for k,v in item.iteritems() if k in wanted_keys}\n",
    "    new_data.append(new_item)\n",
    "    \n",
    "print \"Number of Features after clean: \", len(new_data[0].keys()),'\\n\\nCleaned Features: ',new_data[0].keys()\n",
    "find_earliest(new_data)\n",
    "\n",
    "with open(\"reddit-ethereum.csv\", \"a\") as f:\n",
    "    w = csv.DictWriter(f, new_data[0].keys())\n",
    "    w.writeheader()\n",
    "    w.writerows(new_data)\n",
    "#     for item in new_data:\n",
    "#         myfile.write('\\n' + )\n",
    "        \n",
    "\n",
    "# new_item = {k:v for k,v in item.iteritems() if k in wanted_keys}\n",
    "# print \"Number of Features after clean: \", len(new_item.keys())\n",
    "# print '\\n', \"Cleaned Features: \", new_item.keys()"
   ]
  },
  {
   "cell_type": "code",
   "execution_count": null,
   "metadata": {
    "collapsed": true
   },
   "outputs": [],
   "source": []
  },
  {
   "cell_type": "code",
   "execution_count": null,
   "metadata": {
    "collapsed": true
   },
   "outputs": [],
   "source": []
  }
 ],
 "metadata": {
  "kernelspec": {
   "display_name": "Python 2",
   "language": "python",
   "name": "python2"
  },
  "language_info": {
   "codemirror_mode": {
    "name": "ipython",
    "version": 2
   },
   "file_extension": ".py",
   "mimetype": "text/x-python",
   "name": "python",
   "nbconvert_exporter": "python",
   "pygments_lexer": "ipython2",
   "version": "2.7.14"
  }
 },
 "nbformat": 4,
 "nbformat_minor": 2
}
