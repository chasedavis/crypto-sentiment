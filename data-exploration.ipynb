{
 "cells": [
  {
   "cell_type": "code",
   "execution_count": 108,
   "metadata": {
    "collapsed": true
   },
   "outputs": [],
   "source": [
    "# Import Libaries\n",
    "import pandas as pd\n",
    "import numpy as np\n",
    "import seaborn as sns\n",
    "from datetime import datetime\n",
    "import dateutil.parser as dp\n",
    "import matplotlib.pyplot as plt\n",
    "import matplotlib.dates as mdates\n",
    "%matplotlib inline\n",
    "\n",
    "# Global variables\n",
    "BNB_BLUE = '#007A87'\n",
    "BNB_RED = '#FF5A5F'\n",
    "BNB_DARK_GRAY = '#565A5C'\n",
    "BNB_LIGHT_GRAY = '#CED1CC'"
   ]
  },
  {
   "cell_type": "markdown",
   "metadata": {},
   "source": [
    "### Ethereum Headlines from Google NewsApi\n",
    "------------------------------------------------"
   ]
  },
  {
   "cell_type": "code",
   "execution_count": 109,
   "metadata": {},
   "outputs": [
    {
     "name": "stdout",
     "output_type": "stream",
     "text": [
      "Number of entries:  5880\n",
      "Number of features:  6\n"
     ]
    },
    {
     "data": {
      "text/html": [
       "<div>\n",
       "<style>\n",
       "    .dataframe thead tr:only-child th {\n",
       "        text-align: right;\n",
       "    }\n",
       "\n",
       "    .dataframe thead th {\n",
       "        text-align: left;\n",
       "    }\n",
       "\n",
       "    .dataframe tbody tr th {\n",
       "        vertical-align: top;\n",
       "    }\n",
       "</style>\n",
       "<table border=\"1\" class=\"dataframe\">\n",
       "  <thead>\n",
       "    <tr style=\"text-align: right;\">\n",
       "      <th></th>\n",
       "      <th>description</th>\n",
       "      <th>author</th>\n",
       "      <th>url</th>\n",
       "      <th>title</th>\n",
       "      <th>publishedAt</th>\n",
       "      <th>source</th>\n",
       "      <th>urlToImage</th>\n",
       "    </tr>\n",
       "  </thead>\n",
       "  <tbody>\n",
       "    <tr>\n",
       "      <th>0</th>\n",
       "      <td>The UK government wants to increase regulation...</td>\n",
       "      <td>Nick Summers</td>\n",
       "      <td>https://www.engadget.com/2017/12/04/uk-treasur...</td>\n",
       "      <td>UK plans crackdown on criminals using Bitcoin ...</td>\n",
       "      <td>2017-12-04T16:45:00Z</td>\n",
       "      <td>{u'id': u'engadget', u'name': u'Engadget'}</td>\n",
       "      <td>https://o.aolcdn.com/images/dims?thumbnail=120...</td>\n",
       "    </tr>\n",
       "  </tbody>\n",
       "</table>\n",
       "</div>"
      ],
      "text/plain": [
       "                                         description        author  \\\n",
       "0  The UK government wants to increase regulation...  Nick Summers   \n",
       "\n",
       "                                                 url  \\\n",
       "0  https://www.engadget.com/2017/12/04/uk-treasur...   \n",
       "\n",
       "                                               title           publishedAt  \\\n",
       "0  UK plans crackdown on criminals using Bitcoin ...  2017-12-04T16:45:00Z   \n",
       "\n",
       "                                       source  \\\n",
       "0  {u'id': u'engadget', u'name': u'Engadget'}   \n",
       "\n",
       "                                          urlToImage  \n",
       "0  https://o.aolcdn.com/images/dims?thumbnail=120...  "
      ]
     },
     "execution_count": 109,
     "metadata": {},
     "output_type": "execute_result"
    }
   ],
   "source": [
    "news = pd.read_csv('textdata/news-ethereum5.csv', delimiter=',')\n",
    "\n",
    "# Show news dataframe\n",
    "print 'Number of entries: ', news.shape[0]\n",
    "print 'Number of features: ', news.shape[1] - 1\n",
    "news.head(1)"
   ]
  },
  {
   "cell_type": "code",
   "execution_count": 110,
   "metadata": {
    "collapsed": true
   },
   "outputs": [],
   "source": [
    "# Function to plot histograms\n",
    "def plot_hist(n, titles, ranges):\n",
    "    fig, ax = plt.subplots(n, figsize = (8, 7.5), squeeze=False)\n",
    "    for i in range(n):\n",
    "        d, bins, patches = ax[i].hist(ranges[i], 50, normed=1, color=BNB_RED, alpha=0.85)\n",
    "        ax[i].set_title(titles[i])\n",
    "        ax[i].set_xlabel(\"Date\")\n",
    "        ax[i].set_ylabel(\"Frequency\")\n",
    "    plt.tight_layout()\n",
    "    plt.show()\n",
    "    \n",
    "def parse(s):\n",
    "    if s != 'publishedAt':\n",
    "        return int(dp.parse(s).strftime('%s'))\n",
    "    else:\n",
    "        return 1512508462 # Should only be 1 of these, null anyway"
   ]
  },
  {
   "cell_type": "code",
   "execution_count": 121,
   "metadata": {},
   "outputs": [
    {
     "data": {
      "image/png": "[encoded data removed]",
      "text/plain": [
       "<matplotlib.figure.Figure at 0x10f9815d0>"
      ]
     },
     "metadata": {},
     "output_type": "display_data"
    }
   ],
   "source": [
    "# Ethereum News Headlines by Day histogram\n",
    "times = news['publishedAt'].apply(lambda x: mdates.epoch2num(parse(x)))\n",
    "fix, ax = plt.subplots(1,1, figsize = (8,5))\n",
    "ax.hist(times, bins=60, color='lightblue')\n",
    "locator = mdates.AutoDateLocator()\n",
    "ax.set_title('Ethereum Headlines by Day')\n",
    "ax.xaxis.set_major_locator(mdates.MonthLocator())\n",
    "ax.xaxis.set_major_formatter(mdates.DateFormatter('%m.%d.%y'))\n",
    "ax.set_xlabel(\"Date\")\n",
    "ax.set_ylabel(\"Frequency\")\n",
    "\n",
    "plt.tight_layout()\n",
    "plt.show()"
   ]
  },
  {
   "cell_type": "markdown",
   "metadata": {},
   "source": [
    "### Ethereum Headlines from Reddit\n",
    "------------------------------------------------"
   ]
  },
  {
   "cell_type": "code",
   "execution_count": 122,
   "metadata": {},
   "outputs": [
    {
     "name": "stdout",
     "output_type": "stream",
     "text": [
      "Number of entries:  571\n",
      "Number of features:  12\n"
     ]
    },
    {
     "data": {
      "text/html": [
       "<div>\n",
       "<style>\n",
       "    .dataframe thead tr:only-child th {\n",
       "        text-align: right;\n",
       "    }\n",
       "\n",
       "    .dataframe thead th {\n",
       "        text-align: left;\n",
       "    }\n",
       "\n",
       "    .dataframe tbody tr th {\n",
       "        vertical-align: top;\n",
       "    }\n",
       "</style>\n",
       "<table border=\"1\" class=\"dataframe\">\n",
       "  <thead>\n",
       "    <tr style=\"text-align: right;\">\n",
       "      <th></th>\n",
       "      <th>view_count</th>\n",
       "      <th>domain</th>\n",
       "      <th>score</th>\n",
       "      <th>title</th>\n",
       "      <th>num_comments</th>\n",
       "      <th>created</th>\n",
       "      <th>created_utc</th>\n",
       "      <th>media_embed</th>\n",
       "      <th>permalink</th>\n",
       "      <th>selftext</th>\n",
       "      <th>likes</th>\n",
       "      <th>author</th>\n",
       "      <th>name</th>\n",
       "    </tr>\n",
       "  </thead>\n",
       "  <tbody>\n",
       "    <tr>\n",
       "      <th>0</th>\n",
       "      <td>None</td>\n",
       "      <td>self.ethereum</td>\n",
       "      <td>486.0</td>\n",
       "      <td>Welcome to r/ethereum - the Reddit frontpage o...</td>\n",
       "      <td>106.0</td>\n",
       "      <td>1.508473e+09</td>\n",
       "      <td>1.508444e+09</td>\n",
       "      <td>{}</td>\n",
       "      <td>/r/ethereum/comments/77gytn/welcome_to_rethere...</td>\n",
       "      <td>---\\n\\n## Welcome!\\n\\n---\\n\\nWith the magical ...</td>\n",
       "      <td>None</td>\n",
       "      <td>5chdn</td>\n",
       "      <td>t3_77gytn</td>\n",
       "    </tr>\n",
       "  </tbody>\n",
       "</table>\n",
       "</div>"
      ],
      "text/plain": [
       "  view_count         domain  score  \\\n",
       "0       None  self.ethereum  486.0   \n",
       "\n",
       "                                               title  num_comments  \\\n",
       "0  Welcome to r/ethereum - the Reddit frontpage o...         106.0   \n",
       "\n",
       "        created   created_utc media_embed  \\\n",
       "0  1.508473e+09  1.508444e+09          {}   \n",
       "\n",
       "                                           permalink  \\\n",
       "0  /r/ethereum/comments/77gytn/welcome_to_rethere...   \n",
       "\n",
       "                                            selftext likes author       name  \n",
       "0  ---\\n\\n## Welcome!\\n\\n---\\n\\nWith the magical ...  None  5chdn  t3_77gytn  "
      ]
     },
     "execution_count": 122,
     "metadata": {},
     "output_type": "execute_result"
    }
   ],
   "source": [
    "reddit = pd.read_csv('textdata/reddit-ethereum.csv', delimiter=',')\n",
    "\n",
    "# Show reddit dataframe\n",
    "print 'Number of entries: ', reddit.shape[0]\n",
    "print 'Number of features: ', reddit.shape[1] - 1\n",
    "reddit.head(1)"
   ]
  },
  {
   "cell_type": "code",
   "execution_count": 124,
   "metadata": {},
   "outputs": [
    {
     "data": {
      "image/png": "[encoded data removed]",
      "text/plain": [
       "<matplotlib.figure.Figure at 0x1a19ae8e10>"
      ]
     },
     "metadata": {},
     "output_type": "display_data"
    }
   ],
   "source": [
    "# Ethereum News Headlines by Day histogram\n",
    "times = reddit['created_utc'].apply(lambda x: mdates.epoch2num(x))\n",
    "fix, ax = plt.subplots(1,1, figsize = (8,5))\n",
    "ax.hist(times, bins=60, color='lightblue')\n",
    "locator = mdates.AutoDateLocator()\n",
    "ax.set_title('Ethereum Headlines by Day')\n",
    "ax.xaxis.set_major_locator(mdates.MonthLocator())\n",
    "ax.xaxis.set_major_formatter(mdates.DateFormatter('%m.%d.%y'))\n",
    "ax.set_xlabel(\"Date\")\n",
    "ax.set_ylabel(\"Frequency\")\n",
    "\n",
    "plt.tight_layout()\n",
    "plt.show()"
   ]
  },
  {
   "cell_type": "code",
   "execution_count": null,
   "metadata": {
    "collapsed": true
   },
   "outputs": [],
   "source": []
  }
 ],
 "metadata": {
  "kernelspec": {
   "display_name": "Python 2",
   "language": "python",
   "name": "python2"
  },
  "language_info": {
   "codemirror_mode": {
    "name": "ipython",
    "version": 2
   },
   "file_extension": ".py",
   "mimetype": "text/x-python",
   "name": "python",
   "nbconvert_exporter": "python",
   "pygments_lexer": "ipython2",
   "version": "2.7.14"
  }
 },
 "nbformat": 4,
 "nbformat_minor": 2
}
