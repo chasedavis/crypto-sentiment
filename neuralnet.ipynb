{
 "cells": [
  {
   "cell_type": "markdown",
   "metadata": {},
   "source": [
    "### Neural Net with TensorFlow"
   ]
  },
  {
   "cell_type": "code",
   "execution_count": 3,
   "metadata": {
    "collapsed": true
   },
   "outputs": [],
   "source": [
    "# Install tensorflow and protobuf -- run once!\n",
    "# anaconda install instructions: https://www.tensorflow.org/install/install_mac\n",
    "\n",
    "# # For chase's macbook, the following shell commands worked (take out ! if in terminal)\n",
    "# !conda create -n tensorflow python=2.7\n",
    "# !source activate tensorflow\n",
    "# !pip install --ignore-installed --upgrade https://storage.googleapis.com/tensorflow/mac/cpu/tensorflow-1.4.0-py2-none-any.whl\n",
    "\n",
    "# Remember to activate container when you want to use package"
   ]
  },
  {
   "cell_type": "code",
   "execution_count": 4,
   "metadata": {
    "collapsed": true
   },
   "outputs": [],
   "source": [
    "!source activate tensorflow\n",
    "import tensorflow as tf"
   ]
  },
  {
   "cell_type": "code",
   "execution_count": 5,
   "metadata": {
    "scrolled": true
   },
   "outputs": [
    {
     "name": "stdout",
     "output_type": "stream",
     "text": [
      "     prev_price next_price     pos     neg     neu compound\n",
      "0        307.15     307.26    0.31       0    0.69   0.7424\n",
      "1           463     467.29       0   0.209   0.791  -0.7003\n",
      "2        465.01     461.57       0   0.253   0.747  -0.1759\n",
      "3        464.53     465.01       0       0       1        0\n",
      "4           462        465       0       0       1        0\n",
      "5        465.01     461.57   0.259       0   0.741   0.1027\n",
      "6           464        460   0.217     0.2   0.583   0.1027\n",
      "7        461.57     459.04       0       0       1        0\n",
      "8           464        460       0       0       1        0\n",
      "9           464        460   0.107       0   0.893   0.5106\n",
      "10       460.36     461.44       0       0       1        0\n",
      "11       460.36     461.44       0       0       1        0\n",
      "12       477.46     474.93   0.088       0   0.912   0.4019\n",
      "13       461.57     459.04       0       0       1        0\n",
      "14       465.01     461.57       0       0       1        0\n",
      "15          460     464.53       0       0       1        0\n",
      "16       460.36     461.44       0       0       1        0\n",
      "17       460.36     461.44   0.363   0.095   0.542   0.6059\n",
      "18        461.5     460.36       0       0       1        0\n",
      "19       464.53     465.01       0       0       1        0\n",
      "20       461.57     459.04       0       0       1        0\n",
      "21       460.36     461.44       0       0       1        0\n",
      "22       479.98     479.01       0       0       1        0\n",
      "23          462        465       0       0       1        0\n",
      "24       461.44        460   0.322       0   0.678     0.69\n",
      "25       460.36     461.44       0       0       1        0\n",
      "26        461.5     460.36       0       0       1        0\n",
      "27          460     464.53       0       0       1        0\n",
      "28          465     464.94       0       0       1        0\n",
      "29       461.57     459.04       0       0       1        0\n",
      "...         ...        ...     ...     ...     ...      ...\n",
      "6421      309.8     306.53  0.1615  0.0835  0.7555   0.4188\n",
      "6422      309.8     306.53  0.0345       0  0.9655   0.1909\n",
      "6423      309.8     306.53       0       0       1        0\n",
      "6424      309.8     306.53    0.18       0    0.82  0.47945\n",
      "6425      309.8     306.53  0.0995       0  0.9005    0.212\n",
      "6426      309.8     306.53   0.155       0   0.845    0.468\n",
      "6427     306.53      308.1  0.1065       0  0.8935  0.20095\n",
      "6428     306.53      308.1  0.0305  0.3635   0.606  -0.7735\n",
      "6429     306.53      308.1       0  0.2665  0.7335  -0.4841\n",
      "6430      308.1     304.51  0.1065       0  0.8935  0.20095\n",
      "6431      308.1     304.51  0.2355       0  0.7645   0.5072\n",
      "6432      308.1     304.51       0       0       1        0\n",
      "6433     304.51     298.37  0.1255       0  0.8745  0.35695\n",
      "6434     304.51     298.37       0       0       1        0\n",
      "6435     304.51     298.37       0    0.05    0.95 -0.29915\n",
      "6436     304.51     298.37   0.067   0.143    0.79   0.0683\n",
      "6437     304.51     298.37  0.1155       0  0.8845  0.20095\n",
      "6438     304.51     298.37  0.1065       0  0.8935  0.20095\n",
      "6439     304.51     298.37       0       0       1        0\n",
      "6440     304.51     298.37  0.0625       0  0.9375   0.2294\n",
      "6441     304.51     298.37  0.1845       0  0.8155  0.49985\n",
      "6442     304.51     298.37       0       0       1        0\n",
      "6443     304.51     298.37  0.0295  0.0185  0.9525  0.11315\n",
      "6444     298.37     298.01       0       0       1        0\n",
      "6445     298.37     298.01   0.072   0.121   0.807   -0.046\n",
      "6446     298.37     298.01       0       0       1        0\n",
      "6447     298.37     298.01       0   0.065   0.935    -0.17\n",
      "6448     298.37     298.01  0.0835       0  0.9165    0.148\n",
      "6449     298.37     298.01   0.058   0.087   0.855 -0.11315\n",
      "6450     298.01        299  0.0435       0  0.9565   0.1366\n",
      "\n",
      "[6451 rows x 6 columns]\n"
     ]
    }
   ],
   "source": [
    "# Import Dataset Pickle\n",
    "import pickle\n",
    "dfNN = pickle.load(open('NN_pickles.p', 'rb'))\n",
    "print dfNN\n"
   ]
  },
  {
   "cell_type": "code",
   "execution_count": 1,
   "metadata": {},
   "outputs": [
    {
     "name": "stdout",
     "output_type": "stream",
     "text": [
      "Hello, TensorFlow!\n"
     ]
    }
   ],
   "source": [
    "# Python\n",
    "import tensorflow as tf\n",
    "hello = tf.constant('Hello, TensorFlow!')\n",
    "sess = tf.Session()\n",
    "print(sess.run(hello))"
   ]
  },
  {
   "cell_type": "code",
   "execution_count": 6,
   "metadata": {},
   "outputs": [
    {
     "name": "stdout",
     "output_type": "stream",
     "text": [
      "The total series length is: 6451\n",
      "The current configuration gives us 2150 batches of 1 observations each one looking 3 steps in the past\n"
     ]
    }
   ],
   "source": [
    "# Taking straight from LSTM Stock Model\n",
    "num_epochs = 1000\n",
    "\n",
    "batch_size = 1\n",
    "\n",
    "total_series_length = len(dfNN.index)\n",
    "\n",
    "truncated_backprop_length = 3 #The size of the sequence\n",
    "\n",
    "state_size = 12 #The number of neurons\n",
    "\n",
    "num_features = 4\n",
    "num_classes = 1 #[1,0]\n",
    "\n",
    "num_batches = total_series_length//batch_size//truncated_backprop_length\n",
    "\n",
    "min_test_size = 100\n",
    "\n",
    "print('The total series length is: %d' %total_series_length)\n",
    "print('The current configuration gives us %d batches of %d observations each one looking %d steps in the past' \n",
    "      %(num_batches,batch_size,truncated_backprop_length))"
   ]
  },
  {
   "cell_type": "code",
   "execution_count": 7,
   "metadata": {
    "collapsed": true
   },
   "outputs": [],
   "source": [
    "# Split Training-Test\n",
    "dfTrain = dfNN[dfNN.index < num_batches*batch_size*truncated_backprop_length]\n",
    "\n",
    "\n",
    "for i in range(min_test_size,len(dfNN.index)):\n",
    "    \n",
    "    if(i % truncated_backprop_length*batch_size == 0):\n",
    "        test_first_idx = len(dfNN.index)-i\n",
    "        break\n",
    "\n",
    "dfTest =  dfNN[dfNN.index >= test_first_idx]"
   ]
  },
  {
   "cell_type": "code",
   "execution_count": 8,
   "metadata": {
    "collapsed": true
   },
   "outputs": [],
   "source": [
    "xTrain = dfTrain[['prev_price','neu','neg','pos']].as_matrix()\n",
    "yTrain = dfTrain['next_price'].as_matrix()"
   ]
  },
  {
   "cell_type": "code",
   "execution_count": 9,
   "metadata": {},
   "outputs": [
    {
     "data": {
      "text/plain": [
       "(6450, 4)"
      ]
     },
     "execution_count": 9,
     "metadata": {},
     "output_type": "execute_result"
    }
   ],
   "source": [
    "xTrain.shape\n"
   ]
  },
  {
   "cell_type": "code",
   "execution_count": 10,
   "metadata": {
    "collapsed": true
   },
   "outputs": [],
   "source": [
    "xTest = dfTest[['prev_price','neu','neg','pos']].as_matrix()\n",
    "yTest = dfTest['next_price'].as_matrix()"
   ]
  },
  {
   "cell_type": "code",
   "execution_count": 11,
   "metadata": {},
   "outputs": [
    {
     "data": {
      "text/plain": [
       "(102,)"
      ]
     },
     "execution_count": 11,
     "metadata": {},
     "output_type": "execute_result"
    }
   ],
   "source": [
    "yTest.shape\n"
   ]
  },
  {
   "cell_type": "code",
   "execution_count": 12,
   "metadata": {},
   "outputs": [
    {
     "ename": "NameError",
     "evalue": "name 'plt' is not defined",
     "output_type": "error",
     "traceback": [
      "\u001b[0;31m---------------------------------------------------------------------------\u001b[0m",
      "\u001b[0;31mNameError\u001b[0m                                 Traceback (most recent call last)",
      "\u001b[0;32m<ipython-input-12-12b30a2812cc>\u001b[0m in \u001b[0;36m<module>\u001b[0;34m()\u001b[0m\n\u001b[1;32m      1\u001b[0m \u001b[0;34m\u001b[0m\u001b[0m\n\u001b[0;32m----> 2\u001b[0;31m \u001b[0mplt\u001b[0m\u001b[0;34m.\u001b[0m\u001b[0mfigure\u001b[0m\u001b[0;34m(\u001b[0m\u001b[0mfigsize\u001b[0m\u001b[0;34m=\u001b[0m\u001b[0;34m(\u001b[0m\u001b[0;36m25\u001b[0m\u001b[0;34m,\u001b[0m\u001b[0;36m5\u001b[0m\u001b[0;34m)\u001b[0m\u001b[0;34m)\u001b[0m\u001b[0;34m\u001b[0m\u001b[0m\n\u001b[0m\u001b[1;32m      3\u001b[0m \u001b[0mplt\u001b[0m\u001b[0;34m.\u001b[0m\u001b[0mplot\u001b[0m\u001b[0;34m(\u001b[0m\u001b[0mxTrain\u001b[0m\u001b[0;34m[\u001b[0m\u001b[0;34m:\u001b[0m\u001b[0;34m,\u001b[0m\u001b[0;36m0\u001b[0m\u001b[0;34m]\u001b[0m\u001b[0;34m)\u001b[0m\u001b[0;34m\u001b[0m\u001b[0m\n\u001b[1;32m      4\u001b[0m \u001b[0mplt\u001b[0m\u001b[0;34m.\u001b[0m\u001b[0mtitle\u001b[0m\u001b[0;34m(\u001b[0m\u001b[0;34m'Train ('\u001b[0m \u001b[0;34m+\u001b[0m\u001b[0mstr\u001b[0m\u001b[0;34m(\u001b[0m\u001b[0mlen\u001b[0m\u001b[0;34m(\u001b[0m\u001b[0mxTrain\u001b[0m\u001b[0;34m)\u001b[0m\u001b[0;34m)\u001b[0m\u001b[0;34m+\u001b[0m\u001b[0;34m' data points)'\u001b[0m\u001b[0;34m)\u001b[0m\u001b[0;34m\u001b[0m\u001b[0m\n\u001b[1;32m      5\u001b[0m \u001b[0mplt\u001b[0m\u001b[0;34m.\u001b[0m\u001b[0mshow\u001b[0m\u001b[0;34m(\u001b[0m\u001b[0;34m)\u001b[0m\u001b[0;34m\u001b[0m\u001b[0m\n",
      "\u001b[0;31mNameError\u001b[0m: name 'plt' is not defined"
     ]
    }
   ],
   "source": [
    "\n",
    "plt.figure(figsize=(25,5))\n",
    "plt.plot(xTrain[:,0])\n",
    "plt.title('Train (' +str(len(xTrain))+' data points)')\n",
    "plt.show()\n",
    "plt.figure(figsize=(10,3))\n",
    "plt.plot(xTest[:,0])\n",
    "plt.title('Test (' +str(len(xTest))+' data points)')\n",
    "plt.show()"
   ]
  },
  {
   "cell_type": "code",
   "execution_count": null,
   "metadata": {
    "collapsed": true
   },
   "outputs": [],
   "source": [
    "# LOAD DATA^"
   ]
  },
  {
   "cell_type": "code",
   "execution_count": null,
   "metadata": {
    "collapsed": true
   },
   "outputs": [],
   "source": [
    "# SETUP NET"
   ]
  },
  {
   "cell_type": "code",
   "execution_count": null,
   "metadata": {
    "collapsed": true
   },
   "outputs": [],
   "source": []
  },
  {
   "cell_type": "code",
   "execution_count": null,
   "metadata": {
    "collapsed": true
   },
   "outputs": [],
   "source": []
  }
 ],
 "metadata": {
  "kernelspec": {
   "display_name": "Python 2",
   "language": "python",
   "name": "python2"
  },
  "language_info": {
   "codemirror_mode": {
    "name": "ipython",
    "version": 2
   },
   "file_extension": ".py",
   "mimetype": "text/x-python",
   "name": "python",
   "nbconvert_exporter": "python",
   "pygments_lexer": "ipython2",
   "version": "2.7.14"
  }
 },
 "nbformat": 4,
 "nbformat_minor": 2
}
