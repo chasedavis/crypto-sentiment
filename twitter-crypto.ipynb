{
 "cells": [
  {
   "cell_type": "code",
   "execution_count": 1,
   "metadata": {},
   "outputs": [
    {
     "name": "stdout",
     "output_type": "stream",
     "text": [
      "Requirement already satisfied: tweepy in /Users/chasedavis/anaconda3/lib/python2.7/site-packages\n",
      "Requirement already satisfied: requests>=2.4.3 in /Users/chasedavis/anaconda3/lib/python2.7/site-packages (from tweepy)\n",
      "Requirement already satisfied: requests-oauthlib>=0.4.1 in /Users/chasedavis/anaconda3/lib/python2.7/site-packages (from tweepy)\n",
      "Requirement already satisfied: six>=1.7.3 in /Users/chasedavis/anaconda3/lib/python2.7/site-packages (from tweepy)\n",
      "Requirement already satisfied: chardet<3.1.0,>=3.0.2 in /Users/chasedavis/anaconda3/lib/python2.7/site-packages (from requests>=2.4.3->tweepy)\n",
      "Requirement already satisfied: idna<2.7,>=2.5 in /Users/chasedavis/anaconda3/lib/python2.7/site-packages (from requests>=2.4.3->tweepy)\n",
      "Requirement already satisfied: urllib3<1.23,>=1.21.1 in /Users/chasedavis/anaconda3/lib/python2.7/site-packages (from requests>=2.4.3->tweepy)\n",
      "Requirement already satisfied: certifi>=2017.4.17 in /Users/chasedavis/anaconda3/lib/python2.7/site-packages (from requests>=2.4.3->tweepy)\n",
      "Requirement already satisfied: oauthlib>=0.6.2 in /Users/chasedavis/anaconda3/lib/python2.7/site-packages (from requests-oauthlib>=0.4.1->tweepy)\n"
     ]
    }
   ],
   "source": [
    "!pip install tweepy"
   ]
  },
  {
   "cell_type": "code",
   "execution_count": 1,
   "metadata": {
    "collapsed": true
   },
   "outputs": [],
   "source": [
    "import tweepy\n",
    "import pandas as pd\n",
    "import numpy as np\n",
    "\n",
    "# Twitter API Access Keys\n",
    "from credentials import *"
   ]
  },
  {
   "cell_type": "code",
   "execution_count": 17,
   "metadata": {
    "collapsed": true
   },
   "outputs": [],
   "source": [
    "# API setup modified from https://dev.to/rodolfoferro/sentiment-analysis-on-trumpss-tweets-using-python-\n",
    "\n",
    "def twitter_setup():\n",
    "    \"\"\"\n",
    "    Utility function to setup the Twitter's API\n",
    "    with our access keys provided.\n",
    "    \"\"\"\n",
    "    # Authentication and access using keys:\n",
    "    auth = tweepy.OAuthHandler(CONSUMER_KEY, CONSUMER_SECRET)\n",
    "    try:\n",
    "        redirect_url = auth.get_authorization_url()\n",
    "    except tweepy.TweepError:\n",
    "        print 'Error! Failed to get request token.'\n",
    "    \n",
    "    auth.set_access_token(ACCESS_TOKEN, ACCESS_SECRET)\n",
    "\n",
    "    # Return API with authentication:\n",
    "    api = tweepy.API(auth)\n",
    "    return api\n",
    "\n",
    "#override tweepy.StreamListener to add logic to on_status\n",
    "class MyStreamListener(tweepy.StreamListener):\n",
    "    def on_status(self, status):\n",
    "        print(status.text)\n",
    "\n",
    "api = twitter_setup()"
   ]
  },
  {
   "cell_type": "code",
   "execution_count": 16,
   "metadata": {
    "collapsed": true
   },
   "outputs": [
    {
     "name": "stdout",
     "output_type": "stream",
     "text": [
      "If we sell our Bitcoin, bankers will be ready to buy them - is that really what we want? \n",
      "\n",
      "@ReenaKaurH @NewYorker @tnyshouts Exactly. No bitcoin? Obviously he used bitcoin to buy and sell weapons, then deal… https://t.co/hZovsE1igf \n",
      "\n",
      "SELL ALL YOUR BITCOIN &amp; BUY VR!\n",
      "\n",
      "#VR #AR #MR #XR #ER #OR #QR #PR \n",
      "\n",
      "RT @timothywellz: Buy high, sell low! #bitcoin #stockexpert \n",
      "\n",
      "Bitcoin up, membership fee down, now .01 BTC. Buy and sell with Bitcoin. Short on cash? Turn some stuff into bitcoi… https://t.co/BhuajMdePH \n",
      "\n",
      "Don't let Fear Of Missing Out cause you to make a bad decision. Buy low Sell high and always HODL #Bitcoin… https://t.co/I6ZgOz0eMS \n",
      "\n",
      "@johanna_nic @abcnews Bitcoin “Energy” just passed 10k, the big even. Lots of FOMO in the market, watch out. Due fo… https://t.co/Kxr8Zx5T0Q \n",
      "\n",
      "@domlostejon Bitcoin\n",
      "\n",
      "Buy more or sell loads?\n",
      "\n",
      "Go... \n",
      "\n",
      "RT @InfoNebeus: Buy and sell cryptocurrencies at the best prices. We have increased purchasing limits to 50K EUR per week. \n",
      "Pre-sale ending… \n",
      "\n",
      "RT @usemyreferrals: BUY? SELL? HODL? when 1 #BitCoin Hits $10,000 $USD?\n",
      "\n",
      "Join &amp; Deposit $100 and we both will get $10: https://t.co/fBUBFQF… \n",
      "\n"
     ]
    }
   ],
   "source": [
    "COUNT = 10\n",
    "cursor = tweepy.Cursor(api.search, q='buy sell bitcoin', count=COUNT)\n",
    "for i,tweet in enumerate(cursor.items()):\n",
    "    print tweet.text, '\\n'"
   ]
  },
  {
   "cell_type": "code",
   "execution_count": 29,
   "metadata": {
    "scrolled": false
   },
   "outputs": [
    {
     "name": "stdout",
     "output_type": "stream",
     "text": [
      "RT bitcoinagile \"Will ETF Become #bitcoin’s Holy Grail? https://t.co/c3POM3FFk7\"\n",
      "Time to short Bitcoin\n",
      "I guess Bitcoin wins! https://t.co/k3sNBVQoP0\n",
      "RT @business: As bitcoin tops $10,000 for the first time, here’s what critics and supporters around the world have to say about t… \n",
      "*) Mata Uang Virtual Bitcoin, Tembus US$10.000 https://t.co/EmWJRsjPM4\n",
      "RT @rateico: 👍Self-Regulation of the #ICO #Market + 🌐 Ecosystem 🔁 RT Please read more  https://t.co/7b4nMb83a1 - #blockchain… \n",
      "Just did lol https://t.co/jTVJMeCbJx\n",
      "Bitcoin might be a bubble fr, too many people who never invested in they life talking about it\n",
      "RT @WSJ: Breaking: Bitcoin crosses $10,000 mark, the latest burst in a rally transforming the currency from niche to mainstr… \n",
      "\"次回の債権者会議（2018/3/7）は今までとは違って大きく動きがある可能性があります。 #bitcoin https://t.co/g5aALAZ4Oa\" https://t.co/qqhP3PIHIp\n",
      "RT @AirdropFaucet: Current price of Bitcoin is $9961.51 Lets turn $1 into $1000! #Follow #Retweet and #Like for a chance to win our… \n",
      "RT @bossmarius: Bitcoin has little made everyone an investor now lol it will be interesting to see what happens when the bubble bursts\n",
      "RT @SatoshiLite: And now LTC $100!!! 🎉🚀 https://t.co/TIXF9M8Rp4\n",
      "Bitcoin advent: Regulations and policies https://t.co/GZnr7J7sd0 https://t.co/6EiRfRNUlq\n",
      "Bitcoin just hit $10,000: Dizzying rally shows no sign of slowing https://t.co/2xA0XlH6Ja\n",
      "RT @Blawksy: The First DPOS Lightning #Bitcoin Hard Fork is on the Way https://t.co/yPLTzKijug #BTC #ETH #CRYPTO https://t.co/2y8MxXrcPE\n",
      "It was nice to watch bitcoin in the last 3 months. I decided to watch only and avoid having any position. #bitcoin #easymoney #GivingTuesday\n",
      "As bitcoin has just hit 10,000 dollars a coin, all I can say is I told you so. You should have joined me.\n",
      "RT @GregAurand: @zerohedge And, ironically, every person that I introduced to bitcoin early on, who responded by telling me that it… \n",
      "diez mil verdes sale un bitcoin me re cago en todo\n",
      "RT @SRuhle: Steve Mnuchin’s name added to the dollar bill &amp; the world flocks to bitcoin.... #timingiseverything https://t.co/iVdQqIq23z\n",
      "RT @business: BREAKING: Bitcoin tops $10,000 for the first time in Bloomberg pricing https://t.co/xUnklzt2mG https://t.co/Nehv6pWy3u\n",
      "RT @NunciusTerrarum: Bitcoin เงินดิจิตอลทะลุเพดาน 10,000 ดอลลาร์/หน่วย (326,000 บาท) ไปเรียบร้อยแล้ว https://t.co/Ws29CHJ2sq\n",
      "@WildfireKing all you have to do is create a bitcoin wallet. i use a site called blockchain. buy bitcoins and get t… https://t.co/zypGVmMNTQ\n",
      "Here's what #bitcoin critics and supporters around the world have to say about crypto https://t.co/eD19SNE6tk via @business\n",
      "As bitcoin tops $10,000 for the first time, here’s what critics and supporters around the world have to say about t… https://t.co/Lm44AKfR0g\n",
      "What would happen if everyone cashed out tomorrow? https://t.co/YSWMTqI5Gj\n",
      "#BloombergTV ❧ As bitcoin tops $10,000 for the first time, here’s what critics and supporters around the world have… https://t.co/UG1A8SxmNb\n",
      "business: As bitcoin tops $10,000 for the first time, here’s what critics and supporters around the world have to s… https://t.co/3RTg8ofm3r\n",
      "Bitcoin surges past $10,000 as it continues its meteoric rise https://t.co/s0texhR51V https://t.co/icb3vHhazi\n",
      "I hate myself for not getting in on bitcoin\n",
      "RT @coinok: Dogecoin mousepad for only $0.99! Free Shipping! https://t.co/h1cBJcbwm0 #doge #dogecoin #btc #bitcoin 20 https://t.co/MJgnd9sM…\n",
      "RT @lecrae: Lemme borrow a bitcoin.\n",
      "Satoshi Nakamoto, the inventor of #BITCOIN, deserves a Nobel Prize\n",
      "\n",
      "We hit 10k\n",
      "\n",
      "-Warren B\n",
      "RT @ilooklikelilbil: bitcoin hit 10k and niggas start switching up on you\n",
      "RT @tomserres: Welcome to the party. Bitcoin 10k. https://t.co/LMGIE57btr\n",
      "RT @FTMarkets: Bitcoin crosses $10,000 threshold for first time https://t.co/Wd8VnVBAH7\n",
      "Bitcoin Hits $10000 as Sharp Rise Drowns Out Skeptics https://t.co/ak0Hk5d6RV #ICO $btc #BTC$zec $amp\n",
      "@pierre_rochard @pham17l7 @Beautyon_ @WhalePanda Yeah, I mean, it's not something I'd short. Why do you think BitCo… https://t.co/ocaGQXj7RL\n",
      "New post (The First DPOS Lightning Bitcoin Hard Fork is on the Way) - #Bitcoin #CryptoCurrency -… https://t.co/oP23sPaS2t\n",
      "RT @business: BREAKING: Bitcoin tops $10,000 for the first time in Bloomberg pricing https://t.co/xUnklzt2mG https://t.co/Nehv6pWy3u\n",
      "RT @clheadrick: Bitcoin could 'easily' reach $40,000 by the end of 2018, hedge fund legend Novogratz says https://t.co/ojEINYbpex\n",
      "Been documenting a personal investment on my Snapchat for over two months and it's grown to the point where I'm mak… https://t.co/e9tA0nH4KD\n",
      "RT @getbabb: How did @Ani_LifeProb (BABB's head of marketing) learn about blockchain for the first time? From the one and only… \n",
      "RT @ilooklikelilbil: no gf or bitcoin\n",
      "Why is bitcoin not a currency? On 11.12.2016 I paid an $80 bill with 0.113759 BTC. Today that BTC would be worth $1… https://t.co/7z3S1Pg8PO\n",
      "Someone named \"Rog\" kept calling and calling and calling https://t.co/jq8neqxKzh\n",
      "RT @rateico: 👍Self-Regulation of the #ICO #Market + 🌐 Ecosystem 🔁 RT Please read more  https://t.co/7b4nMb83a1 - #blockchain… \n",
      "RT @MalwareTechBlog: Bitcoin just hit $10,000 on bitfinex, now it's official!\n",
      "RT FT \"John Authers: 'Claims that the bitcoin boom of the past year is in some way a repeat of the Nasdaq Bubble wh… https://t.co/naKpdAc3hV\n",
      "ZaifスマートATMやLocalBitcoinsなどと違い、双方が対等な関係でBitcoinなどの暗号通貨の売買ができるサイトです。\n",
      "\n",
      "「手数料の安さと、匿名性のどちらも大事」という方におすすめです。\n",
      "\n",
      "https://t.co/bYqAjn9t1E\n",
      "\n",
      "#対面売買\n",
      "RT @MarketWatch: Bitcoin crosses the $10,000 threshold, and is now up more than 900% this year.\n",
      "https://t.co/fNfqT03s6u\n",
      "RT @MistressBlunt: If you’re looking to put a smile on a special lady’s face this holiday season here are some simple gift ideas to he… \n",
      "@ASUSUSA I think I still own 1.3 bitcoin from 2013 ish but can't remember what email and password it's tied to soooooo I'm done lmao\n",
      "BCASH holders. #blockchain #btc #cryptocurrency #bitcoin #ethereum #altcoin #cryptomemes #cryptolife #bch… https://t.co/Zg0t3dPbY9\n",
      "RT @ColinMiles: Out of 1000+ folks, roughly 6 ppl had BTC in 2013. I had my hand up, as I got it from a #Bitcoin ATM at an exhibiti… \n",
      "RT @SatoshiLite: And now LTC $100!!! 🎉🚀 https://t.co/TIXF9M8Rp4\n",
      "RT @SatoshiLite: Bitcoin hits $10,000. 🚀🎉🎊\n",
      "\n",
      "Congratulations to all the hodlers! This is by far the strongest Bitcoin bull run I've s… \n",
      "RT @BTCTN: The First DPOS Lightning Bitcoin Hard Fork is on the Way https://t.co/AUg3LR4VvO #Bitcoin https://t.co/7JAKXVQAnf\n",
      "RT @business: Bitcoin soars to record $10,000 as bubble warnings multiply https://t.co/xUnklzKDee https://t.co/7q3VicALji\n",
      "RT @_Peculium: AIEVE is there! AIEVE is constantly learning and try to secure the portofolio. Check this Forecasting of #ETH price… \n",
      "RT @mycodeangel: Raspberry Pi, Coffee and Bitcoin - what's not to like... (oh, and it's from Edinburgh, the home of Code Angel!):\n",
      "Bi… \n",
      "RT @SatoshiLite: And now LTC $100!!! 🎉🚀 https://t.co/TIXF9M8Rp4\n",
      "Bitcoin over $10,000 for the first time https://t.co/853S5lUBWt\n",
      "RT @ilooklikelilbil: tfw no gf or bitcoin\n",
      "10,000 bitcoins could buy 2 pizzas in 2010 but now worth $100 million - Business Insider #SmartNews  https://t.co/ftWu6wH4yG\n",
      "@itisprashanth https://t.co/mcxV2IiGsV\n",
      "Via rvp Ravi VS Prasad - RT CNBCTV18News \"Bitcoin surpasses $10,000 for the first time\n",
      "https://t.co/9RJncuyBOL (via… https://t.co/2TlJ85Sjfe\n",
      "Bitcoin blasts past $10,000 mark amid bubble concerns   - CNET https://t.co/p2EoeyONjR\n",
      "Amazing. https://t.co/df0e3l5dVe\n",
      "RT @coinpennantdev: https://t.co/fcSkUMNrOK\n",
      "RT @charliebilello: Bitcoin just crossed above $10,000, over 10 times higher than where it began the year. $BTC.X https://t.co/sJIn0Geta5\n",
      "Zimbabwe, the lack of trust in the national currency has driven the price of #Bitcoin to above $17,000 already. https://t.co/DsuLnZnXP4\n",
      "Bitcoin sigue creciendo en la comunidad latina...\n",
      "➡➡ https://t.co/Pd6cxwkp4w\n",
      "\n",
      "#Bitcoin #Cryptocurrency https://t.co/15B3c8x6x2\n",
      "Voices of the future “I remember when #bitcoin was only $10K”\n",
      "Bitcoin surpasses $10,000 for the first time https://t.co/YwCKFsLkNf\n",
      "RT @ilooklikelilbil: bitcoin hit 10k and niggas start switching up on you\n",
      "RT @ActualidadRT: El precio de Bitcoin rompe por primera vez el barrera récord de los 10.000 dólares https://t.co/t6Q2KV27YF https://t.co/U…\n",
      "Bitcoin自動トレードbot 利益 2%/day\n",
      "https://t.co/o09huwQaCl\n"
     ]
    },
    {
     "name": "stdout",
     "output_type": "stream",
     "text": [
      "RT @StormRouge: got damn bitcoin at 10k rn\n",
      "5 yrs ago (pushing everyone hard to buy #Bitcoin) my Jamie Dimon the tapeworm impression | Jamie Dimon the tapeworm… https://t.co/SesSlZvCYP\n",
      "RT @getbabb: Crypto insights from one of the best (and tallest) guys with the best (and longest) name...Aymard Dudok de Wit talk… \n",
      "Bitcoin passed $10,000 today and is currently holding around $10,770. I'm not a fortune teller but odds are this... https://t.co/fPrtyD5E47\n",
      "RT @CloutCrypt06: a lot of ppl keep asking me about bitcoin and crypto in general and how to get started, so im gonna use this thread to co…\n",
      "RT @BitJob_Team: bitJob is a P2P MarketPlace for students, freelancers and employers. Join the movement! #bitJob #ethereum #bitcoin… \n",
      "@OutlawJJ1882 @AbiRatchford Buy Bitcoin\n",
      "RT @rdonoghue: Read some stuff about how much waste electricity goes into bitcoin, and it crossbred with the talk about how we're… \n",
      "RT @aidencalvin: I shoulda become a Silk Road drug dealer when I was 14 who undoubtedly would have held onto ALL of his Bitcoin fund… \n",
      "RT @GhanmiChokri: Bitcoin Price Hits $10,000 https://t.co/PVFUIgr73Z\n",
      "RT @nathanielpopper: Bitcoin nears $10,000. My best effort to summarize what got it here https://t.co/sZCIKUQnDU\n",
      "RT @btc: Bitcoin Giveaway: Once Bitcoin officially passes the $10,000 milestone, we will be giving away 1 BTC to a random fo… \n",
      "RT @Aruwba: Sign up to my private snap for only one payment of $25 or 0.00261252 Bitcoin \n",
      "and become a legacy member \n",
      "For a lim… \n",
      "RT @ico_report: The largest channel about ICO in Telegram with calendar and analytics💰 #ICO #Token #Bitcoin #Blockchain #Ethereum… \n",
      "RT @MamoudouNDiaye: if you know too much about bitcoin, I don't know if I fully trust you\n",
      "RT @paulvigna: Bitcoin hits $10,000 https://t.co/SeIcVo83NG via @WSJ\n",
      "RT @CNBC: Bitcoin surpasses $10,000 for the first time https://t.co/jn4081pr7N\n",
      "The latest PARTYXTRAZ .com Daily Tweet Up! https://t.co/kDEVlDup5u Thanks to @gyalkapone @BloodlineFranco @BullyRingo #bitcoin\n",
      "RT @saifedean: The rise in Bitcoin's value is not a bubble, but a natural feature of its design &amp; economic incentives. \n",
      "Bitcoin's… \n",
      "RT @LesNews: Le cours du bitcoin $btc dépasse pour la première fois les 10.000 dollars $\n",
      "RT @AFP: Bitcoin breaks above the $10,000 mark for the first time as the virtual currency continues a stratospheric rise tha… \n",
      "RT @business: As bitcoin tops $10,000 for the first time, here’s what critics and supporters around the world have to say about t… \n",
      "@Thinking4AllNow Sell?  SELL? Bitcoin is just getting started!  To the moon, Alice. TO THE MOON.\n",
      "Good night my friends #btc10k #bitcoin #btc https://t.co/keMmJWV3yF\n",
      "[ https://t.co/HING25nfvF ] As Bitcoin tops $10,000, Elon Musk denies he is… https://t.co/mufVJKh1gq | https://t.co/7bBz3sl9B6\n",
      "RT @BITCOlNCASH: Announcement: https://t.co/RFLu4EWk7S https://t.co/Ju1j7tMUVV\n",
      "uh, thank you. https://t.co/Qa5exBN4gV\n",
      "RT @ilooklikelilbil: bitcoin hit 10k and niggas start switching up on you\n",
      "Y nunca compré. Siempre tan triunfante shó. https://t.co/mpfixtrFPC\n",
      "BITCOIN surpasses $10,000 for the first time - CNBC https://t.co/30KoNcRhAp\n",
      "BITCOIN surpasses $10,000 for the first time - CNBC https://t.co/skHhxaoxdw\n",
      "A couple years ago one of the patients at my job was trying to convince me to buy some at a couple hundred a peice🙃🙃 https://t.co/Ph48d4Us2W\n",
      "RT @btc: Bitcoin Giveaway: Once Bitcoin officially passes the $10,000 milestone, we will be giving away 1 BTC to a random fo… \n",
      "#bitcoin  $10,000 $BTCUSD \n",
      "\n",
      "Stay #Emmonspired.\n",
      "\n",
      "I created #ByteSizeBlockchain with the goal of making #Blockchain m… https://t.co/qzSFO92Yim\n",
      "Empire coin #Airdrop #bounty https://t.co/oh7SHedO97\n",
      "RT @ORACLEofETH: Satoshi Nakamoto, the inventor of #BITCOIN, deserves a Nobel Prize\n",
      "\n",
      "We hit 10k\n",
      "\n",
      "-Warren B\n",
      "RT @ProjectGmt: Please visit our last post on Facebook. You will see in a concrate case how to compute your ROI after you buy GMT t… \n",
      "Japan’s BitFlyer Opens Bitcoin Exchange in the United States https://t.co/a9r4ra9U4W #bitcoin\n",
      "\"The First DPOS Lightning Bitcoin Hard Fork is on the Way\" https://t.co/GoqSwgKnzV\n",
      "RT @btc: Bitcoin Giveaway: Once Bitcoin officially passes the $10,000 milestone, we will be giving away 1 BTC to a random fo… \n",
      "RT @_Jack_Graham_: From what I can tell, crypto-currencies seem to be an attempt to take the foundational insanity of mainstream econo… \n",
      "RT @eiaine: @lorcacons @benthompson if you wanna read it, pay for a subscription. it's worth it. Useful services ain't free, wh… \n",
      "Bitcoin blasts past $10,000 mark amid bubble concerns     - CNET https://t.co/cSaTQULXws\n",
      "I’d love to find that tweet on the moon target pointing where #bitcoin and #altcoins starts to raise together. Anyb… https://t.co/uGv1rsIe4i\n",
      "RT @ilooklikelilbil: bitcoin hit 10k and niggas start switching up on you\n",
      "RT @BigDawsTv: Bitcoin is now above $10,000\n",
      "RT @stephenlb: $1,610,400/year profit #Bitcoin ASIC miner profit spreadsheet - using 200 Antminer S9's https://t.co/797AJ20xOL\n",
      "\n",
      "$3… \n",
      "RT @lecrae: Lemme borrow a bitcoin.\n",
      "⚡️ “ #Bitcoin crosses $10,000 threshold”\n",
      "\n",
      "https://t.co/nF8eSMwyfb\n",
      "What it feels like to earn #bitcoin on a daily basis with https://t.co/JMgtztBsIq (Available on Google Play) #money… https://t.co/h9vHKyd0jg\n",
      "RT @ProjectGmt: 'Bitcoin has gone parabolic,' and that usually doesn't end well, Art Cashin warns https://t.co/hz6vYI4UYW Funny to… \n",
      "RT @IanNolte: Bitcoin is Beanie Babies for laptop masturbators.\n",
      "Line outside the SF Bitcoin Meetup as 1BTC = ~$10000\n",
      "RT @btc: Bitcoin Giveaway: Once Bitcoin officially passes the $10,000 milestone, we will be giving away 1 BTC to a random fo… \n",
      "@RampCapitalLLC @StockCats next we are going to start seeing mysterious 330 PM spikes in Bitcoin, Ethereum and Litecoin\n",
      "RT @SatoshiLite: And now LTC $100!!! 🎉🚀 https://t.co/TIXF9M8Rp4\n",
      "RT @AnselLindner: Thank you to all the devs and investors/users that help #bitcoin get to this point. $10k is quite a feat.\n",
      "\n",
      "We will… \n",
      "RT @WSJ: Breaking: Bitcoin crosses $10,000 mark, the latest burst in a rally transforming the currency from niche to mainstr… \n",
      "RT @srussolillo: #BITCOIN10K https://t.co/4ugtBvHaS2\n",
      "Idk who worse bitcoin ppl or vegans\n",
      "RT @CarpeNoctom: #bitcoin\n",
      "$0 - $1000: 1789 days\n",
      "$1000- $2000: 1271 days\n",
      "$2000- $3000: 23 days\n",
      "$3000- $4000: 62 days\n",
      "$4000- $5000: 61… \n",
      "RT @ErikVoorhees: The current Bitcoin price bubble is only a surprise to those who are new to the industry. One does not create a wor… \n",
      "RT @ProjectGmt: Please visit our last post on Facebook. You will see in a concrate case how to compute your ROI after you buy GMT t… \n",
      "RT @7H3Wh173R4bb17: Bitcoin Gold Windows Wallet Has Been Hacked! https://t.co/UzrlL7dDSl https://t.co/jdqBPAgZ34\n",
      "Imagine if you would have bought bitcoin at $0.08 a pop in 2010\n",
      "RT @ilooklikelilbil: bitcoin hit 10k and niggas start switching up on you\n",
      "RT @BTCTN: Bitcoin’s current exchange rate is 8880.15 USD\n",
      "Track the price of Bitcoin in real time at:\n",
      "https://t.co/NI4zBLretM… \n",
      "RT @RichardHeartWin: Get ready for $10k #Bitcoin now.\n",
      "#Breakingnews #spx #ndx Bitcoin just hit $10,000: Dizzying rally shows no sign of slowing - https://t.co/nuzPGFgIB4 https://t.co/ojNYHzta07\n"
     ]
    },
    {
     "ename": "KeyboardInterrupt",
     "evalue": "",
     "output_type": "error",
     "traceback": [
      "\u001b[0;31m---------------------------------------------------------------------------\u001b[0m",
      "\u001b[0;31mKeyboardInterrupt\u001b[0m                         Traceback (most recent call last)",
      "\u001b[0;32m<ipython-input-29-52de6370f9d7>\u001b[0m in \u001b[0;36m<module>\u001b[0;34m()\u001b[0m\n\u001b[1;32m      2\u001b[0m \u001b[0mmyStream\u001b[0m \u001b[0;34m=\u001b[0m \u001b[0mtweepy\u001b[0m\u001b[0;34m.\u001b[0m\u001b[0mStream\u001b[0m\u001b[0;34m(\u001b[0m\u001b[0mauth\u001b[0m \u001b[0;34m=\u001b[0m \u001b[0mapi\u001b[0m\u001b[0;34m.\u001b[0m\u001b[0mauth\u001b[0m\u001b[0;34m,\u001b[0m \u001b[0mlistener\u001b[0m\u001b[0;34m=\u001b[0m\u001b[0mmyStreamListener\u001b[0m\u001b[0;34m,\u001b[0m \u001b[0mq\u001b[0m\u001b[0;34m=\u001b[0m\u001b[0;34m'buy sell bitcoin'\u001b[0m\u001b[0;34m,\u001b[0m \u001b[0mcount\u001b[0m\u001b[0;34m=\u001b[0m\u001b[0mCOUNT\u001b[0m\u001b[0;34m)\u001b[0m\u001b[0;34m\u001b[0m\u001b[0m\n\u001b[1;32m      3\u001b[0m \u001b[0;34m\u001b[0m\u001b[0m\n\u001b[0;32m----> 4\u001b[0;31m \u001b[0mmyStream\u001b[0m\u001b[0;34m.\u001b[0m\u001b[0mfilter\u001b[0m\u001b[0;34m(\u001b[0m\u001b[0mtrack\u001b[0m\u001b[0;34m=\u001b[0m\u001b[0;34m[\u001b[0m\u001b[0;34m'bitcoin'\u001b[0m\u001b[0;34m]\u001b[0m\u001b[0;34m)\u001b[0m\u001b[0;34m\u001b[0m\u001b[0m\n\u001b[0m\u001b[1;32m      5\u001b[0m \u001b[0;31m# for i,tweet in enumerate(myStream):\u001b[0m\u001b[0;34m\u001b[0m\u001b[0;34m\u001b[0m\u001b[0m\n\u001b[1;32m      6\u001b[0m \u001b[0;31m#     print tweet.text, '\\n'\u001b[0m\u001b[0;34m\u001b[0m\u001b[0;34m\u001b[0m\u001b[0m\n",
      "\u001b[0;32m/Users/chasedavis/anaconda3/lib/python2.7/site-packages/tweepy/streaming.pyc\u001b[0m in \u001b[0;36mfilter\u001b[0;34m(self, follow, track, async, locations, stall_warnings, languages, encoding, filter_level)\u001b[0m\n\u001b[1;32m    443\u001b[0m         \u001b[0mself\u001b[0m\u001b[0;34m.\u001b[0m\u001b[0msession\u001b[0m\u001b[0;34m.\u001b[0m\u001b[0mparams\u001b[0m \u001b[0;34m=\u001b[0m \u001b[0;34m{\u001b[0m\u001b[0;34m'delimited'\u001b[0m\u001b[0;34m:\u001b[0m \u001b[0;34m'length'\u001b[0m\u001b[0;34m}\u001b[0m\u001b[0;34m\u001b[0m\u001b[0m\n\u001b[1;32m    444\u001b[0m         \u001b[0mself\u001b[0m\u001b[0;34m.\u001b[0m\u001b[0mhost\u001b[0m \u001b[0;34m=\u001b[0m \u001b[0;34m'stream.twitter.com'\u001b[0m\u001b[0;34m\u001b[0m\u001b[0m\n\u001b[0;32m--> 445\u001b[0;31m         \u001b[0mself\u001b[0m\u001b[0;34m.\u001b[0m\u001b[0m_start\u001b[0m\u001b[0;34m(\u001b[0m\u001b[0masync\u001b[0m\u001b[0;34m)\u001b[0m\u001b[0;34m\u001b[0m\u001b[0m\n\u001b[0m\u001b[1;32m    446\u001b[0m \u001b[0;34m\u001b[0m\u001b[0m\n\u001b[1;32m    447\u001b[0m     def sitestream(self, follow, stall_warnings=False,\n",
      "\u001b[0;32m/Users/chasedavis/anaconda3/lib/python2.7/site-packages/tweepy/streaming.pyc\u001b[0m in \u001b[0;36m_start\u001b[0;34m(self, async)\u001b[0m\n\u001b[1;32m    359\u001b[0m             \u001b[0mself\u001b[0m\u001b[0;34m.\u001b[0m\u001b[0m_thread\u001b[0m\u001b[0;34m.\u001b[0m\u001b[0mstart\u001b[0m\u001b[0;34m(\u001b[0m\u001b[0;34m)\u001b[0m\u001b[0;34m\u001b[0m\u001b[0m\n\u001b[1;32m    360\u001b[0m         \u001b[0;32melse\u001b[0m\u001b[0;34m:\u001b[0m\u001b[0;34m\u001b[0m\u001b[0m\n\u001b[0;32m--> 361\u001b[0;31m             \u001b[0mself\u001b[0m\u001b[0;34m.\u001b[0m\u001b[0m_run\u001b[0m\u001b[0;34m(\u001b[0m\u001b[0;34m)\u001b[0m\u001b[0;34m\u001b[0m\u001b[0m\n\u001b[0m\u001b[1;32m    362\u001b[0m \u001b[0;34m\u001b[0m\u001b[0m\n\u001b[1;32m    363\u001b[0m     \u001b[0;32mdef\u001b[0m \u001b[0mon_closed\u001b[0m\u001b[0;34m(\u001b[0m\u001b[0mself\u001b[0m\u001b[0;34m,\u001b[0m \u001b[0mresp\u001b[0m\u001b[0;34m)\u001b[0m\u001b[0;34m:\u001b[0m\u001b[0;34m\u001b[0m\u001b[0m\n",
      "\u001b[0;32m/Users/chasedavis/anaconda3/lib/python2.7/site-packages/tweepy/streaming.pyc\u001b[0m in \u001b[0;36m_run\u001b[0;34m(self)\u001b[0m\n\u001b[1;32m    261\u001b[0m                     \u001b[0mself\u001b[0m\u001b[0;34m.\u001b[0m\u001b[0msnooze_time\u001b[0m \u001b[0;34m=\u001b[0m \u001b[0mself\u001b[0m\u001b[0;34m.\u001b[0m\u001b[0msnooze_time_step\u001b[0m\u001b[0;34m\u001b[0m\u001b[0m\n\u001b[1;32m    262\u001b[0m                     \u001b[0mself\u001b[0m\u001b[0;34m.\u001b[0m\u001b[0mlistener\u001b[0m\u001b[0;34m.\u001b[0m\u001b[0mon_connect\u001b[0m\u001b[0;34m(\u001b[0m\u001b[0;34m)\u001b[0m\u001b[0;34m\u001b[0m\u001b[0m\n\u001b[0;32m--> 263\u001b[0;31m                     \u001b[0mself\u001b[0m\u001b[0;34m.\u001b[0m\u001b[0m_read_loop\u001b[0m\u001b[0;34m(\u001b[0m\u001b[0mresp\u001b[0m\u001b[0;34m)\u001b[0m\u001b[0;34m\u001b[0m\u001b[0m\n\u001b[0m\u001b[1;32m    264\u001b[0m             \u001b[0;32mexcept\u001b[0m \u001b[0;34m(\u001b[0m\u001b[0mTimeout\u001b[0m\u001b[0;34m,\u001b[0m \u001b[0mssl\u001b[0m\u001b[0;34m.\u001b[0m\u001b[0mSSLError\u001b[0m\u001b[0;34m)\u001b[0m \u001b[0;32mas\u001b[0m \u001b[0mexc\u001b[0m\u001b[0;34m:\u001b[0m\u001b[0;34m\u001b[0m\u001b[0m\n\u001b[1;32m    265\u001b[0m                 \u001b[0;31m# This is still necessary, as a SSLError can actually be\u001b[0m\u001b[0;34m\u001b[0m\u001b[0;34m\u001b[0m\u001b[0m\n",
      "\u001b[0;32m/Users/chasedavis/anaconda3/lib/python2.7/site-packages/tweepy/streaming.pyc\u001b[0m in \u001b[0;36m_read_loop\u001b[0;34m(self, resp)\u001b[0m\n\u001b[1;32m    311\u001b[0m             \u001b[0mlength\u001b[0m \u001b[0;34m=\u001b[0m \u001b[0;36m0\u001b[0m\u001b[0;34m\u001b[0m\u001b[0m\n\u001b[1;32m    312\u001b[0m             \u001b[0;32mwhile\u001b[0m \u001b[0;32mnot\u001b[0m \u001b[0mresp\u001b[0m\u001b[0;34m.\u001b[0m\u001b[0mraw\u001b[0m\u001b[0;34m.\u001b[0m\u001b[0mclosed\u001b[0m\u001b[0;34m:\u001b[0m\u001b[0;34m\u001b[0m\u001b[0m\n\u001b[0;32m--> 313\u001b[0;31m                 \u001b[0mline\u001b[0m \u001b[0;34m=\u001b[0m \u001b[0mbuf\u001b[0m\u001b[0;34m.\u001b[0m\u001b[0mread_line\u001b[0m\u001b[0;34m(\u001b[0m\u001b[0;34m)\u001b[0m\u001b[0;34m.\u001b[0m\u001b[0mstrip\u001b[0m\u001b[0;34m(\u001b[0m\u001b[0;34m)\u001b[0m\u001b[0;34m\u001b[0m\u001b[0m\n\u001b[0m\u001b[1;32m    314\u001b[0m                 \u001b[0;32mif\u001b[0m \u001b[0;32mnot\u001b[0m \u001b[0mline\u001b[0m\u001b[0;34m:\u001b[0m\u001b[0;34m\u001b[0m\u001b[0m\n\u001b[1;32m    315\u001b[0m                     \u001b[0mself\u001b[0m\u001b[0;34m.\u001b[0m\u001b[0mlistener\u001b[0m\u001b[0;34m.\u001b[0m\u001b[0mkeep_alive\u001b[0m\u001b[0;34m(\u001b[0m\u001b[0;34m)\u001b[0m  \u001b[0;31m# keep-alive new lines are expected\u001b[0m\u001b[0;34m\u001b[0m\u001b[0m\n",
      "\u001b[0;32m/Users/chasedavis/anaconda3/lib/python2.7/site-packages/tweepy/streaming.pyc\u001b[0m in \u001b[0;36mread_line\u001b[0;34m(self, sep)\u001b[0m\n\u001b[1;32m    177\u001b[0m             \u001b[0;32melse\u001b[0m\u001b[0;34m:\u001b[0m\u001b[0;34m\u001b[0m\u001b[0m\n\u001b[1;32m    178\u001b[0m                 \u001b[0mstart\u001b[0m \u001b[0;34m=\u001b[0m \u001b[0mlen\u001b[0m\u001b[0;34m(\u001b[0m\u001b[0mself\u001b[0m\u001b[0;34m.\u001b[0m\u001b[0m_buffer\u001b[0m\u001b[0;34m)\u001b[0m\u001b[0;34m\u001b[0m\u001b[0m\n\u001b[0;32m--> 179\u001b[0;31m             \u001b[0mself\u001b[0m\u001b[0;34m.\u001b[0m\u001b[0m_buffer\u001b[0m \u001b[0;34m+=\u001b[0m \u001b[0mself\u001b[0m\u001b[0;34m.\u001b[0m\u001b[0m_stream\u001b[0m\u001b[0;34m.\u001b[0m\u001b[0mread\u001b[0m\u001b[0;34m(\u001b[0m\u001b[0mself\u001b[0m\u001b[0;34m.\u001b[0m\u001b[0m_chunk_size\u001b[0m\u001b[0;34m)\u001b[0m\u001b[0;34m\u001b[0m\u001b[0m\n\u001b[0m\u001b[1;32m    180\u001b[0m \u001b[0;34m\u001b[0m\u001b[0m\n\u001b[1;32m    181\u001b[0m     \u001b[0;32mdef\u001b[0m \u001b[0m_pop\u001b[0m\u001b[0;34m(\u001b[0m\u001b[0mself\u001b[0m\u001b[0;34m,\u001b[0m \u001b[0mlength\u001b[0m\u001b[0;34m)\u001b[0m\u001b[0;34m:\u001b[0m\u001b[0;34m\u001b[0m\u001b[0m\n",
      "\u001b[0;32m/Users/chasedavis/anaconda3/lib/python2.7/site-packages/urllib3/response.pyc\u001b[0m in \u001b[0;36mread\u001b[0;34m(self, amt, decode_content, cache_content)\u001b[0m\n\u001b[1;32m    382\u001b[0m             \u001b[0;32melse\u001b[0m\u001b[0;34m:\u001b[0m\u001b[0;34m\u001b[0m\u001b[0m\n\u001b[1;32m    383\u001b[0m                 \u001b[0mcache_content\u001b[0m \u001b[0;34m=\u001b[0m \u001b[0mFalse\u001b[0m\u001b[0;34m\u001b[0m\u001b[0m\n\u001b[0;32m--> 384\u001b[0;31m                 \u001b[0mdata\u001b[0m \u001b[0;34m=\u001b[0m \u001b[0mself\u001b[0m\u001b[0;34m.\u001b[0m\u001b[0m_fp\u001b[0m\u001b[0;34m.\u001b[0m\u001b[0mread\u001b[0m\u001b[0;34m(\u001b[0m\u001b[0mamt\u001b[0m\u001b[0;34m)\u001b[0m\u001b[0;34m\u001b[0m\u001b[0m\n\u001b[0m\u001b[1;32m    385\u001b[0m                 \u001b[0;32mif\u001b[0m \u001b[0mamt\u001b[0m \u001b[0;34m!=\u001b[0m \u001b[0;36m0\u001b[0m \u001b[0;32mand\u001b[0m \u001b[0;32mnot\u001b[0m \u001b[0mdata\u001b[0m\u001b[0;34m:\u001b[0m  \u001b[0;31m# Platform-specific: Buggy versions of Python.\u001b[0m\u001b[0;34m\u001b[0m\u001b[0m\n\u001b[1;32m    386\u001b[0m                     \u001b[0;31m# Close the connection when no data is returned\u001b[0m\u001b[0;34m\u001b[0m\u001b[0;34m\u001b[0m\u001b[0m\n",
      "\u001b[0;32m/Users/chasedavis/anaconda3/lib/python2.7/httplib.pyc\u001b[0m in \u001b[0;36mread\u001b[0;34m(self, amt)\u001b[0m\n\u001b[1;32m    571\u001b[0m \u001b[0;34m\u001b[0m\u001b[0m\n\u001b[1;32m    572\u001b[0m         \u001b[0;32mif\u001b[0m \u001b[0mself\u001b[0m\u001b[0;34m.\u001b[0m\u001b[0mchunked\u001b[0m\u001b[0;34m:\u001b[0m\u001b[0;34m\u001b[0m\u001b[0m\n\u001b[0;32m--> 573\u001b[0;31m             \u001b[0;32mreturn\u001b[0m \u001b[0mself\u001b[0m\u001b[0;34m.\u001b[0m\u001b[0m_read_chunked\u001b[0m\u001b[0;34m(\u001b[0m\u001b[0mamt\u001b[0m\u001b[0;34m)\u001b[0m\u001b[0;34m\u001b[0m\u001b[0m\n\u001b[0m\u001b[1;32m    574\u001b[0m \u001b[0;34m\u001b[0m\u001b[0m\n\u001b[1;32m    575\u001b[0m         \u001b[0;32mif\u001b[0m \u001b[0mamt\u001b[0m \u001b[0;32mis\u001b[0m \u001b[0mNone\u001b[0m\u001b[0;34m:\u001b[0m\u001b[0;34m\u001b[0m\u001b[0m\n",
      "\u001b[0;32m/Users/chasedavis/anaconda3/lib/python2.7/httplib.pyc\u001b[0m in \u001b[0;36m_read_chunked\u001b[0;34m(self, amt)\u001b[0m\n\u001b[1;32m    613\u001b[0m         \u001b[0;32mwhile\u001b[0m \u001b[0mTrue\u001b[0m\u001b[0;34m:\u001b[0m\u001b[0;34m\u001b[0m\u001b[0m\n\u001b[1;32m    614\u001b[0m             \u001b[0;32mif\u001b[0m \u001b[0mchunk_left\u001b[0m \u001b[0;32mis\u001b[0m \u001b[0mNone\u001b[0m\u001b[0;34m:\u001b[0m\u001b[0;34m\u001b[0m\u001b[0m\n\u001b[0;32m--> 615\u001b[0;31m                 \u001b[0mline\u001b[0m \u001b[0;34m=\u001b[0m \u001b[0mself\u001b[0m\u001b[0;34m.\u001b[0m\u001b[0mfp\u001b[0m\u001b[0;34m.\u001b[0m\u001b[0mreadline\u001b[0m\u001b[0;34m(\u001b[0m\u001b[0m_MAXLINE\u001b[0m \u001b[0;34m+\u001b[0m \u001b[0;36m1\u001b[0m\u001b[0;34m)\u001b[0m\u001b[0;34m\u001b[0m\u001b[0m\n\u001b[0m\u001b[1;32m    616\u001b[0m                 \u001b[0;32mif\u001b[0m \u001b[0mlen\u001b[0m\u001b[0;34m(\u001b[0m\u001b[0mline\u001b[0m\u001b[0;34m)\u001b[0m \u001b[0;34m>\u001b[0m \u001b[0m_MAXLINE\u001b[0m\u001b[0;34m:\u001b[0m\u001b[0;34m\u001b[0m\u001b[0m\n\u001b[1;32m    617\u001b[0m                     \u001b[0;32mraise\u001b[0m \u001b[0mLineTooLong\u001b[0m\u001b[0;34m(\u001b[0m\u001b[0;34m\"chunk size\"\u001b[0m\u001b[0;34m)\u001b[0m\u001b[0;34m\u001b[0m\u001b[0m\n",
      "\u001b[0;32m/Users/chasedavis/anaconda3/lib/python2.7/socket.pyc\u001b[0m in \u001b[0;36mreadline\u001b[0;34m(self, size)\u001b[0m\n\u001b[1;32m    478\u001b[0m             \u001b[0;32mwhile\u001b[0m \u001b[0mTrue\u001b[0m\u001b[0;34m:\u001b[0m\u001b[0;34m\u001b[0m\u001b[0m\n\u001b[1;32m    479\u001b[0m                 \u001b[0;32mtry\u001b[0m\u001b[0;34m:\u001b[0m\u001b[0;34m\u001b[0m\u001b[0m\n\u001b[0;32m--> 480\u001b[0;31m                     \u001b[0mdata\u001b[0m \u001b[0;34m=\u001b[0m \u001b[0mself\u001b[0m\u001b[0;34m.\u001b[0m\u001b[0m_sock\u001b[0m\u001b[0;34m.\u001b[0m\u001b[0mrecv\u001b[0m\u001b[0;34m(\u001b[0m\u001b[0mself\u001b[0m\u001b[0;34m.\u001b[0m\u001b[0m_rbufsize\u001b[0m\u001b[0;34m)\u001b[0m\u001b[0;34m\u001b[0m\u001b[0m\n\u001b[0m\u001b[1;32m    481\u001b[0m                 \u001b[0;32mexcept\u001b[0m \u001b[0merror\u001b[0m\u001b[0;34m,\u001b[0m \u001b[0me\u001b[0m\u001b[0;34m:\u001b[0m\u001b[0;34m\u001b[0m\u001b[0m\n\u001b[1;32m    482\u001b[0m                     \u001b[0;32mif\u001b[0m \u001b[0me\u001b[0m\u001b[0;34m.\u001b[0m\u001b[0margs\u001b[0m\u001b[0;34m[\u001b[0m\u001b[0;36m0\u001b[0m\u001b[0;34m]\u001b[0m \u001b[0;34m==\u001b[0m \u001b[0mEINTR\u001b[0m\u001b[0;34m:\u001b[0m\u001b[0;34m\u001b[0m\u001b[0m\n",
      "\u001b[0;32m/Users/chasedavis/anaconda3/lib/python2.7/site-packages/urllib3/contrib/pyopenssl.pyc\u001b[0m in \u001b[0;36mrecv\u001b[0;34m(self, *args, **kwargs)\u001b[0m\n\u001b[1;32m    268\u001b[0m                 \u001b[0;32mraise\u001b[0m\u001b[0;34m\u001b[0m\u001b[0m\n\u001b[1;32m    269\u001b[0m         \u001b[0;32mexcept\u001b[0m \u001b[0mOpenSSL\u001b[0m\u001b[0;34m.\u001b[0m\u001b[0mSSL\u001b[0m\u001b[0;34m.\u001b[0m\u001b[0mWantReadError\u001b[0m\u001b[0;34m:\u001b[0m\u001b[0;34m\u001b[0m\u001b[0m\n\u001b[0;32m--> 270\u001b[0;31m             \u001b[0mrd\u001b[0m \u001b[0;34m=\u001b[0m \u001b[0mutil\u001b[0m\u001b[0;34m.\u001b[0m\u001b[0mwait_for_read\u001b[0m\u001b[0;34m(\u001b[0m\u001b[0mself\u001b[0m\u001b[0;34m.\u001b[0m\u001b[0msocket\u001b[0m\u001b[0;34m,\u001b[0m \u001b[0mself\u001b[0m\u001b[0;34m.\u001b[0m\u001b[0msocket\u001b[0m\u001b[0;34m.\u001b[0m\u001b[0mgettimeout\u001b[0m\u001b[0;34m(\u001b[0m\u001b[0;34m)\u001b[0m\u001b[0;34m)\u001b[0m\u001b[0;34m\u001b[0m\u001b[0m\n\u001b[0m\u001b[1;32m    271\u001b[0m             \u001b[0;32mif\u001b[0m \u001b[0;32mnot\u001b[0m \u001b[0mrd\u001b[0m\u001b[0;34m:\u001b[0m\u001b[0;34m\u001b[0m\u001b[0m\n\u001b[1;32m    272\u001b[0m                 \u001b[0;32mraise\u001b[0m \u001b[0mtimeout\u001b[0m\u001b[0;34m(\u001b[0m\u001b[0;34m'The read operation timed out'\u001b[0m\u001b[0;34m)\u001b[0m\u001b[0;34m\u001b[0m\u001b[0m\n",
      "\u001b[0;32m/Users/chasedavis/anaconda3/lib/python2.7/site-packages/urllib3/util/wait.pyc\u001b[0m in \u001b[0;36mwait_for_read\u001b[0;34m(socks, timeout)\u001b[0m\n\u001b[1;32m     31\u001b[0m     \u001b[0;32mor\u001b[0m \u001b[0moptionally\u001b[0m \u001b[0ma\u001b[0m \u001b[0msingle\u001b[0m \u001b[0msocket\u001b[0m \u001b[0;32mif\u001b[0m \u001b[0mpassed\u001b[0m \u001b[0;32min\u001b[0m\u001b[0;34m.\u001b[0m \u001b[0mReturns\u001b[0m \u001b[0ma\u001b[0m \u001b[0mlist\u001b[0m \u001b[0mof\u001b[0m\u001b[0;34m\u001b[0m\u001b[0m\n\u001b[1;32m     32\u001b[0m     sockets that can be read from immediately. \"\"\"\n\u001b[0;32m---> 33\u001b[0;31m     \u001b[0;32mreturn\u001b[0m \u001b[0m_wait_for_io_events\u001b[0m\u001b[0;34m(\u001b[0m\u001b[0msocks\u001b[0m\u001b[0;34m,\u001b[0m \u001b[0mEVENT_READ\u001b[0m\u001b[0;34m,\u001b[0m \u001b[0mtimeout\u001b[0m\u001b[0;34m)\u001b[0m\u001b[0;34m\u001b[0m\u001b[0m\n\u001b[0m\u001b[1;32m     34\u001b[0m \u001b[0;34m\u001b[0m\u001b[0m\n\u001b[1;32m     35\u001b[0m \u001b[0;34m\u001b[0m\u001b[0m\n",
      "\u001b[0;32m/Users/chasedavis/anaconda3/lib/python2.7/site-packages/urllib3/util/wait.pyc\u001b[0m in \u001b[0;36m_wait_for_io_events\u001b[0;34m(socks, events, timeout)\u001b[0m\n\u001b[1;32m     24\u001b[0m             \u001b[0mselector\u001b[0m\u001b[0;34m.\u001b[0m\u001b[0mregister\u001b[0m\u001b[0;34m(\u001b[0m\u001b[0msock\u001b[0m\u001b[0;34m,\u001b[0m \u001b[0mevents\u001b[0m\u001b[0;34m)\u001b[0m\u001b[0;34m\u001b[0m\u001b[0m\n\u001b[1;32m     25\u001b[0m         return [key[0].fileobj for key in\n\u001b[0;32m---> 26\u001b[0;31m                 selector.select(timeout) if key[1] & events]\n\u001b[0m\u001b[1;32m     27\u001b[0m \u001b[0;34m\u001b[0m\u001b[0m\n\u001b[1;32m     28\u001b[0m \u001b[0;34m\u001b[0m\u001b[0m\n",
      "\u001b[0;32m/Users/chasedavis/anaconda3/lib/python2.7/site-packages/urllib3/util/selectors.pyc\u001b[0m in \u001b[0;36mselect\u001b[0;34m(self, timeout)\u001b[0m\n\u001b[1;32m    511\u001b[0m \u001b[0;34m\u001b[0m\u001b[0m\n\u001b[1;32m    512\u001b[0m             kevent_list = _syscall_wrapper(self._kqueue.control, True,\n\u001b[0;32m--> 513\u001b[0;31m                                            None, max_events, timeout)\n\u001b[0m\u001b[1;32m    514\u001b[0m \u001b[0;34m\u001b[0m\u001b[0m\n\u001b[1;32m    515\u001b[0m             \u001b[0;32mfor\u001b[0m \u001b[0mkevent\u001b[0m \u001b[0;32min\u001b[0m \u001b[0mkevent_list\u001b[0m\u001b[0;34m:\u001b[0m\u001b[0;34m\u001b[0m\u001b[0m\n",
      "\u001b[0;32m/Users/chasedavis/anaconda3/lib/python2.7/site-packages/urllib3/util/selectors.pyc\u001b[0m in \u001b[0;36m_syscall_wrapper\u001b[0;34m(func, recalc_timeout, *args, **kwargs)\u001b[0m\n\u001b[1;32m     92\u001b[0m         \u001b[0;32mwhile\u001b[0m \u001b[0mresult\u001b[0m \u001b[0;32mis\u001b[0m \u001b[0m_SYSCALL_SENTINEL\u001b[0m\u001b[0;34m:\u001b[0m\u001b[0;34m\u001b[0m\u001b[0m\n\u001b[1;32m     93\u001b[0m             \u001b[0;32mtry\u001b[0m\u001b[0;34m:\u001b[0m\u001b[0;34m\u001b[0m\u001b[0m\n\u001b[0;32m---> 94\u001b[0;31m                 \u001b[0mresult\u001b[0m \u001b[0;34m=\u001b[0m \u001b[0mfunc\u001b[0m\u001b[0;34m(\u001b[0m\u001b[0;34m*\u001b[0m\u001b[0margs\u001b[0m\u001b[0;34m,\u001b[0m \u001b[0;34m**\u001b[0m\u001b[0mkwargs\u001b[0m\u001b[0;34m)\u001b[0m\u001b[0;34m\u001b[0m\u001b[0m\n\u001b[0m\u001b[1;32m     95\u001b[0m             \u001b[0;31m# OSError is thrown by select.select\u001b[0m\u001b[0;34m\u001b[0m\u001b[0;34m\u001b[0m\u001b[0m\n\u001b[1;32m     96\u001b[0m             \u001b[0;31m# IOError is thrown by select.epoll.poll\u001b[0m\u001b[0;34m\u001b[0m\u001b[0;34m\u001b[0m\u001b[0m\n",
      "\u001b[0;31mKeyboardInterrupt\u001b[0m: "
     ]
    }
   ],
   "source": [
    "myStreamListener = MyStreamListener()\n",
    "myStream = tweepy.Stream(auth = api.auth, listener=myStreamListener, q='buy sell bitcoin', count=COUNT)\n",
    "\n",
    "myStream.filter(track=['bitcoin'])\n",
    "# for i,tweet in enumerate(myStream):\n",
    "#     print tweet.text, '\\n'"
   ]
  },
  {
   "cell_type": "code",
   "execution_count": 25,
   "metadata": {},
   "outputs": [
    {
     "ename": "TweepError",
     "evalue": "Stream object already connected!",
     "output_type": "error",
     "traceback": [
      "\u001b[0;31m---------------------------------------------------------------------------\u001b[0m",
      "\u001b[0;31mTweepError\u001b[0m                                Traceback (most recent call last)",
      "\u001b[0;32m<ipython-input-25-052881ab2aa9>\u001b[0m in \u001b[0;36m<module>\u001b[0;34m()\u001b[0m\n\u001b[0;32m----> 1\u001b[0;31m \u001b[0mmyStream\u001b[0m\u001b[0;34m.\u001b[0m\u001b[0mfilter\u001b[0m\u001b[0;34m(\u001b[0m\u001b[0mtrack\u001b[0m\u001b[0;34m=\u001b[0m\u001b[0;34m[\u001b[0m\u001b[0;34m'python'\u001b[0m\u001b[0;34m]\u001b[0m\u001b[0;34m)\u001b[0m\u001b[0;34m\u001b[0m\u001b[0m\n\u001b[0m",
      "\u001b[0;32m/Users/chasedavis/anaconda3/lib/python2.7/site-packages/tweepy/streaming.pyc\u001b[0m in \u001b[0;36mfilter\u001b[0;34m(self, follow, track, async, locations, stall_warnings, languages, encoding, filter_level)\u001b[0m\n\u001b[1;32m    424\u001b[0m         \u001b[0mself\u001b[0m\u001b[0;34m.\u001b[0m\u001b[0msession\u001b[0m\u001b[0;34m.\u001b[0m\u001b[0mheaders\u001b[0m\u001b[0;34m[\u001b[0m\u001b[0;34m'Content-type'\u001b[0m\u001b[0;34m]\u001b[0m \u001b[0;34m=\u001b[0m \u001b[0;34m\"application/x-www-form-urlencoded\"\u001b[0m\u001b[0;34m\u001b[0m\u001b[0m\n\u001b[1;32m    425\u001b[0m         \u001b[0;32mif\u001b[0m \u001b[0mself\u001b[0m\u001b[0;34m.\u001b[0m\u001b[0mrunning\u001b[0m\u001b[0;34m:\u001b[0m\u001b[0;34m\u001b[0m\u001b[0m\n\u001b[0;32m--> 426\u001b[0;31m             \u001b[0;32mraise\u001b[0m \u001b[0mTweepError\u001b[0m\u001b[0;34m(\u001b[0m\u001b[0;34m'Stream object already connected!'\u001b[0m\u001b[0;34m)\u001b[0m\u001b[0;34m\u001b[0m\u001b[0m\n\u001b[0m\u001b[1;32m    427\u001b[0m         \u001b[0mself\u001b[0m\u001b[0;34m.\u001b[0m\u001b[0murl\u001b[0m \u001b[0;34m=\u001b[0m \u001b[0;34m'/%s/statuses/filter.json'\u001b[0m \u001b[0;34m%\u001b[0m \u001b[0mSTREAM_VERSION\u001b[0m\u001b[0;34m\u001b[0m\u001b[0m\n\u001b[1;32m    428\u001b[0m         \u001b[0;32mif\u001b[0m \u001b[0mfollow\u001b[0m\u001b[0;34m:\u001b[0m\u001b[0;34m\u001b[0m\u001b[0m\n",
      "\u001b[0;31mTweepError\u001b[0m: Stream object already connected!"
     ]
    }
   ],
   "source": [
    "myStream.filter(track=['python'])"
   ]
  },
  {
   "cell_type": "code",
   "execution_count": 28,
   "metadata": {},
   "outputs": [
    {
     "ename": "AttributeError",
     "evalue": "'Stream' object has no attribute 'items'",
     "output_type": "error",
     "traceback": [
      "\u001b[0;31m---------------------------------------------------------------------------\u001b[0m",
      "\u001b[0;31mAttributeError\u001b[0m                            Traceback (most recent call last)",
      "\u001b[0;32m<ipython-input-28-6a0aebe3fa2b>\u001b[0m in \u001b[0;36m<module>\u001b[0;34m()\u001b[0m\n\u001b[0;32m----> 1\u001b[0;31m \u001b[0;32mprint\u001b[0m \u001b[0mmyStream\u001b[0m\u001b[0;34m.\u001b[0m\u001b[0mitems\u001b[0m\u001b[0;34m(\u001b[0m\u001b[0;34m)\u001b[0m\u001b[0;34m\u001b[0m\u001b[0m\n\u001b[0m",
      "\u001b[0;31mAttributeError\u001b[0m: 'Stream' object has no attribute 'items'"
     ]
    }
   ],
   "source": [
    "print myStream.items()"
   ]
  },
  {
   "cell_type": "code",
   "execution_count": null,
   "metadata": {
    "collapsed": true
   },
   "outputs": [],
   "source": []
  }
 ],
 "metadata": {
  "kernelspec": {
   "display_name": "Python 2",
   "language": "python",
   "name": "python2"
  },
  "language_info": {
   "codemirror_mode": {
    "name": "ipython",
    "version": 2
   },
   "file_extension": ".py",
   "mimetype": "text/x-python",
   "name": "python",
   "nbconvert_exporter": "python",
   "pygments_lexer": "ipython2",
   "version": "2.7.14"
  }
 },
 "nbformat": 4,
 "nbformat_minor": 2
}
